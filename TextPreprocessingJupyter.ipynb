{
  "cells": [
    {
      "cell_type": "markdown",
      "metadata": {
        "id": "view-in-github",
        "colab_type": "text"
      },
      "source": [
        "<a href=\"https://colab.research.google.com/github/MikkoDT/MSAI_508_NLP/blob/main/TextPreprocessingJupyter.ipynb\" target=\"_parent\"><img src=\"https://colab.research.google.com/assets/colab-badge.svg\" alt=\"Open In Colab\"/></a>"
      ]
    },
    {
      "cell_type": "markdown",
      "metadata": {
        "id": "kI2GKLzahBQ0"
      },
      "source": [
        "# Introduction\n",
        "\n",
        "In the notebook, you can find a collection of Text Preprocessing steps that are common in a variety of NLP tasks. However, the list is probably not complete.\n",
        "\n",
        "It contains:\n",
        " - Text Cleaning steps\n",
        " - Text Normalization steps\n",
        "\n",
        "It does NOT contain:\n",
        " - Word Embeddings\n",
        " - Bag of Words\n",
        " - TF-IDF"
      ]
    },
    {
      "cell_type": "markdown",
      "metadata": {
        "id": "bL-lU5MfhBQ1"
      },
      "source": [
        "# Table of Contents\n",
        "\n",
        "1. [Lowercasing](#lowercase)\n",
        "2. [Punctuation Removal](#removal)\n",
        "    - [str.translate()](#rmvl-translate)\n",
        "    - [Regular Expressions](#rmvl-re)\n",
        "      - [re.compile()](#rmvl-re-compile)\n",
        "      - [re.escape()](#rmvl-re-escape)\n",
        "      - [Remove not words and not whitespaces](#rmvl-re-not-words)\n",
        "    - [Excluding Punctuation](#rmvl-exclude)\n",
        "    - [String Replace](#rmvl-str-replace)\n",
        "3. [Numbers Removal](#removal-nb)\n",
        "    - [str.translate()](#rmvl-nb-tr)\n",
        "    - [Regular Expressions](#rmvl-nb-re)\n",
        "    - [join with not digit](#rmvl-nb-not-digit)\n",
        "    - [join with not alpha](#rmvl-nb-not-alpha)\n",
        "4. [HTML Tags Removal](#html-rmvl)\n",
        "    - [Regular Expressions](#html-rmvl-re)\n",
        "    - [Beautiful Soup](#html-rmvl-bs)\n",
        "5. [URL Removal](#url-rmvl)\n",
        "    - [Regular Expressions](#url-rmvl-re)\n",
        "6. [Newlines / spaces / tabs Removal](#spaces-rmvl)\n",
        "    - [String split](#spaces-rmvl-split)\n",
        "    - [Regular Expressions](#spaces-rmvl-re)\n",
        "        - [re.sub()](#spaces-rmvl-re)\n",
        "        - [re.findall()](#spaces-rmvl-re-findall)\n",
        "7. [Emojis Removal](#emoji-rmvl)\n",
        "    - [Regular Expressions](#emoji-rmvl-re)\n",
        "8. [Replacing accented characters](#accented)\n",
        "    - [Unidecode](#accented-unidecode)\n",
        "9. [Spelling corrections](#spell)\n",
        "    - [SpellChecker](#spell-checker)\n",
        "    - [Autocorrect](#spell-autocorrect)\n",
        "    - [TextBlob](#spell-tb)\n",
        "9. [Tokenization](#tknz)\n",
        "    - [Regular Expressions](#tknz-re)\n",
        "    - [NLTK](#tknz-nltk)\n",
        "    - [SpaCy](#tknz-spacy)\n",
        "    - [Gensim](#tknz-gensim)\n",
        "    - [Comparision of the methods](#tknz-compare)\n",
        "10. [Sentence Tokenization](#tknz-sents)\n",
        "    - [Regular Expressions](#tknz-sents-re)\n",
        "    - [NLTK](#tknz-sents-nltk)\n",
        "    - [SpaCy](#tknz-sents-spacy)\n",
        "11. [Stopwords Removal](#stopwords)\n",
        "    - [NLTK](#stopwords-nltk)\n",
        "    - [SpaCy](#stopwords-spacy)\n",
        "    - [Gensim](#stopwords-gensim)\n",
        "    - [Comparision of the methods](#stopwords-compare)\n",
        "    - [Comparision of stopwords lists](#stopwords-compare2)\n",
        "12. [Lemmatization](#lemma)\n",
        "    - [NLTK](#lemma-nltk)\n",
        "    - [SpaCy](#lemma-spacy)\n",
        "    - [TextBlob](#lemma-tb)\n",
        "    - [Adding Tags](#lemma-tags)\n",
        "        - [NLTK](#lemma-tags-nltk)\n",
        "        - [TextBlob](#lemma-tags-tb)\n",
        "    - [Comparision of the methods](#lemma-compare)\n",
        "13. [Stemming](#stem)\n",
        "    - [PorterStemmer](#stem-ps)\n",
        "    - [SnowballStemmer](#stem-sno)\n"
      ]
    },
    {
      "cell_type": "code",
      "execution_count": null,
      "metadata": {
        "id": "Qpsa30IOhBQ1"
      },
      "outputs": [],
      "source": [
        "import string\n",
        "import re\n",
        "import nltk\n",
        "import spacy"
      ]
    },
    {
      "cell_type": "markdown",
      "metadata": {
        "id": "BjgaLD0phBQ1"
      },
      "source": [
        "## Lowercasing <a name=\"lowercase\"></a>"
      ]
    },
    {
      "cell_type": "code",
      "execution_count": null,
      "metadata": {
        "id": "2iEBnOvUhBQ2",
        "outputId": "095cd533-96bf-435e-8804-e5a649ed3005"
      },
      "outputs": [
        {
          "data": {
            "text/plain": [
              "'hello, poland is a very beautiful country!'"
            ]
          },
          "execution_count": 2,
          "metadata": {},
          "output_type": "execute_result"
        }
      ],
      "source": [
        "text_with_upper = \"Hello, POLAND is a Very BeautiFul CountrY!\"\n",
        "text_with_upper.lower()"
      ]
    },
    {
      "cell_type": "markdown",
      "metadata": {
        "id": "ae2diclqhBQ2"
      },
      "source": [
        "## Punctuation Removal <a name=\"removal\"></a>"
      ]
    },
    {
      "cell_type": "markdown",
      "metadata": {
        "id": "qTpeaQK6hBQ2"
      },
      "source": [
        "### **Most of them use `string.punctuation`**\n",
        "\n",
        "\n",
        "\n",
        "Based on the [StackOverflow question](https://stackoverflow.com/questions/265960/best-way-to-strip-punctuation-from-a-string)\n",
        "\n",
        "I ordered the solutions from the fastest to the slowest"
      ]
    },
    {
      "cell_type": "code",
      "execution_count": null,
      "metadata": {
        "id": "matKmUZLhBQ2"
      },
      "outputs": [],
      "source": [
        "puncts_text = \"HI!!! I overuse ... !(@*punctuations +-*/ and*(& other signs __*(&!!\""
      ]
    },
    {
      "cell_type": "markdown",
      "metadata": {
        "id": "T7FgXjAAhBQ2"
      },
      "source": [
        "### using `str.translate()` <a name=\"rmvl-translate\"></a>\n",
        "Probably the fastest way"
      ]
    },
    {
      "cell_type": "code",
      "execution_count": null,
      "metadata": {
        "id": "qZtV7I3zhBQ3",
        "outputId": "e0c5c80f-6624-4025-8ad4-2ab3be2bb29d"
      },
      "outputs": [
        {
          "data": {
            "text/plain": [
              "'HI I overuse  punctuations  and other signs '"
            ]
          },
          "execution_count": 4,
          "metadata": {},
          "output_type": "execute_result"
        }
      ],
      "source": [
        "puncts_text.translate(str.maketrans('', '', string.punctuation))"
      ]
    },
    {
      "cell_type": "markdown",
      "metadata": {
        "id": "jg1w4Hx7hBQ3"
      },
      "source": [
        "### Using `re` <a name=\"rmvl-re\"></a>\n",
        "\n",
        "`re` stands for Regular Expressions"
      ]
    },
    {
      "cell_type": "markdown",
      "metadata": {
        "id": "7LZD86C4hBQ3"
      },
      "source": [
        "#### Method 1 with string.punctuation <a name=\"rmvl-re-compile\"></a>"
      ]
    },
    {
      "cell_type": "code",
      "execution_count": null,
      "metadata": {
        "id": "PrWvmjd-hBQ3",
        "outputId": "5e71a211-a85f-4b62-9622-04a853c9080c"
      },
      "outputs": [
        {
          "data": {
            "text/plain": [
              "'HI I overuse  punctuations  and other signs '"
            ]
          },
          "execution_count": 5,
          "metadata": {},
          "output_type": "execute_result"
        }
      ],
      "source": [
        "regex = re.compile('[%s]' % re.escape(string.punctuation))\n",
        "regex.sub('', puncts_text)"
      ]
    },
    {
      "cell_type": "markdown",
      "metadata": {
        "id": "2WbTfpQYhBQ3"
      },
      "source": [
        "#### Method 1 in a single line <a name=\"rmvl-re-compile\"></a>"
      ]
    },
    {
      "cell_type": "code",
      "execution_count": null,
      "metadata": {
        "id": "oW-u124VhBQ3",
        "outputId": "9e6b0790-800f-44a1-9a43-31d3bf0950eb"
      },
      "outputs": [
        {
          "data": {
            "text/plain": [
              "'HI I overuse  punctuations  and other signs '"
            ]
          },
          "execution_count": 6,
          "metadata": {},
          "output_type": "execute_result"
        }
      ],
      "source": [
        "re.sub(f'[{re.escape(string.punctuation)}]','', puncts_text)"
      ]
    },
    {
      "cell_type": "markdown",
      "metadata": {
        "id": "NfwkpnOGhBQ4"
      },
      "source": [
        "#### Method 2 <a name=\"rmvl-re-not-words\"></a>\n",
        "\n",
        "Removes **not words** and **not spaces**\n",
        "\n",
        "Note: `re` treats underscore as a word so its results are different"
      ]
    },
    {
      "cell_type": "code",
      "execution_count": null,
      "metadata": {
        "id": "6AmC9z-0hBQ4",
        "outputId": "fb23c809-b2bb-488a-f39b-1749a383ec2c"
      },
      "outputs": [
        {
          "data": {
            "text/plain": [
              "'HI I overuse  punctuations  and other signs __'"
            ]
          },
          "execution_count": 7,
          "metadata": {},
          "output_type": "execute_result"
        }
      ],
      "source": [
        "re.sub(r'[^\\w\\s]','', puncts_text)"
      ]
    },
    {
      "cell_type": "markdown",
      "metadata": {
        "id": "ftgcC9dBhBQ4"
      },
      "source": [
        "### Excluding string.punctuation <a name=\"rmvl-exclude\"></a>"
      ]
    },
    {
      "cell_type": "code",
      "execution_count": null,
      "metadata": {
        "id": "OTST7kf0hBQ4",
        "outputId": "aa48ebbc-bec1-461d-daee-8544ac939437"
      },
      "outputs": [
        {
          "data": {
            "text/plain": [
              "'HI I overuse  punctuations  and other signs '"
            ]
          },
          "execution_count": 8,
          "metadata": {},
          "output_type": "execute_result"
        }
      ],
      "source": [
        "# a slower solution\n",
        "exclude = set(string.punctuation)\n",
        "\"\".join(ch for ch in puncts_text if ch not in exclude)"
      ]
    },
    {
      "cell_type": "markdown",
      "metadata": {
        "id": "eGR_yYT2hBQ4"
      },
      "source": [
        "### Using `str.replace()` <a name=\"rmvl-str-replace\"></a>"
      ]
    },
    {
      "cell_type": "code",
      "execution_count": null,
      "metadata": {
        "id": "zvXBQceYhBQ4",
        "outputId": "981c3682-5a20-4fc3-f310-4b4c5ca299c4"
      },
      "outputs": [
        {
          "data": {
            "text/plain": [
              "'HI I overuse  punctuations  and other signs '"
            ]
          },
          "execution_count": 9,
          "metadata": {},
          "output_type": "execute_result"
        }
      ],
      "source": [
        "clean_text = puncts_text\n",
        "for c in string.punctuation:\n",
        "    clean_text = clean_text.replace(c, \"\")\n",
        "clean_text"
      ]
    },
    {
      "cell_type": "markdown",
      "metadata": {
        "id": "6CWN4PkKhBQ4"
      },
      "source": [
        "## Numbers Removal <a name=\"removal-nb\"></a>\n",
        "\n"
      ]
    },
    {
      "cell_type": "code",
      "execution_count": null,
      "metadata": {
        "id": "pFUbIulvhBQ4"
      },
      "outputs": [],
      "source": [
        "text_numbers = '12abcd405'"
      ]
    },
    {
      "cell_type": "markdown",
      "metadata": {
        "id": "NJkwskS5hBQ5"
      },
      "source": [
        "### Using `str.translate` with `string.digits` <a name=\"rmvl-nb-tr\"></a>"
      ]
    },
    {
      "cell_type": "code",
      "execution_count": null,
      "metadata": {
        "id": "6yB3CO0rhBQ5",
        "outputId": "ab1c9be8-0008-4a0c-ff95-40b1c6943ac5"
      },
      "outputs": [
        {
          "data": {
            "text/plain": [
              "'abcd'"
            ]
          },
          "execution_count": 11,
          "metadata": {},
          "output_type": "execute_result"
        }
      ],
      "source": [
        "text_numbers.translate(str.maketrans('', '', string.digits))"
      ]
    },
    {
      "cell_type": "markdown",
      "metadata": {
        "id": "VcFld-IghBQ5"
      },
      "source": [
        "### Using `re` <a name=\"rmvl-nb-re\"></a>"
      ]
    },
    {
      "cell_type": "code",
      "execution_count": null,
      "metadata": {
        "id": "Zo41bl80hBQ5",
        "outputId": "c049d045-5952-421e-b8ab-f9061dfd2f94"
      },
      "outputs": [
        {
          "data": {
            "text/plain": [
              "'abcd'"
            ]
          },
          "execution_count": 12,
          "metadata": {},
          "output_type": "execute_result"
        }
      ],
      "source": [
        "re.sub(r'\\d+', '', text_numbers)"
      ]
    },
    {
      "cell_type": "code",
      "execution_count": null,
      "metadata": {
        "id": "C9goeevphBQ5",
        "outputId": "f03bf787-f999-4123-fedc-263294d50edb"
      },
      "outputs": [
        {
          "data": {
            "text/plain": [
              "'abcd'"
            ]
          },
          "execution_count": 13,
          "metadata": {},
          "output_type": "execute_result"
        }
      ],
      "source": [
        "re.sub(r'[0-9]+', '', text_numbers)"
      ]
    },
    {
      "cell_type": "markdown",
      "metadata": {
        "id": "9fTkN7vuhBQ5"
      },
      "source": [
        "### Using `join()` and NOT `isdigit()` <a name=\"rmvl-nb-not-digit\"></a>"
      ]
    },
    {
      "cell_type": "code",
      "execution_count": null,
      "metadata": {
        "id": "o5cMbqkFhBQ5",
        "outputId": "a2a5620c-0d9e-4c47-dcb7-1869a816c131"
      },
      "outputs": [
        {
          "data": {
            "text/plain": [
              "'abcd'"
            ]
          },
          "execution_count": 14,
          "metadata": {},
          "output_type": "execute_result"
        }
      ],
      "source": [
        "\"\".join(i for i in text_numbers if not i.isdigit())"
      ]
    },
    {
      "cell_type": "markdown",
      "metadata": {
        "id": "vjNagh-HhBQ5"
      },
      "source": [
        "### Using `join()` and `isalpha()` <a name=\"rmvl-nb-not-alpha\"></a>\n",
        "\n",
        "This actually isn't the correct solution, because `isalpha()` is True only for letters."
      ]
    },
    {
      "cell_type": "code",
      "execution_count": null,
      "metadata": {
        "id": "YlL3mjHHhBQ5",
        "outputId": "a2b9768e-fa87-48f4-e96b-4f8b9230e0c4"
      },
      "outputs": [
        {
          "data": {
            "text/plain": [
              "'abcd'"
            ]
          },
          "execution_count": 15,
          "metadata": {},
          "output_type": "execute_result"
        }
      ],
      "source": [
        "\"\".join(i for i in text_numbers if i.isalpha())"
      ]
    },
    {
      "cell_type": "markdown",
      "metadata": {
        "id": "5oPUkf_6hBQ6"
      },
      "source": [
        "## HTML Tags Removal <a name=\"html-rmvl\"></a>\n",
        "\n",
        "Solutions from [Stack Overflow](https://stackoverflow.com/questions/753052/strip-html-from-strings-in-python)"
      ]
    },
    {
      "cell_type": "code",
      "execution_count": null,
      "metadata": {
        "id": "xHZlik8QhBQ6"
      },
      "outputs": [],
      "source": [
        "html_text = \"\"\"<tr class=\"color-5 negri a-bottom\">\n",
        "<td class=\"a-center\" width=\"11%\"><div style=\"min-width: 80px\">3-Pointers</div></td>\n",
        "<td><div class=\"left\" style=\"min-width: 120px; max-width:175px; width: 57%\">\n",
        "<div class=\"left margen-l2\">Player</div>\n",
        "<div class=\"right\"> Team</div>\n",
        "</div>\n",
        "</td>\n",
        "<td><div style=\"min-width: 60px; \">Season</div></td>\n",
        "<td><div class=\"\">W/L Game</div>\n",
        "</td>\n",
        "</tr>\"\"\"\n"
      ]
    },
    {
      "cell_type": "markdown",
      "metadata": {
        "id": "oH_kHiCfhBQ6"
      },
      "source": [
        "### Using `re` <a name=\"html-rmvl-re\"></a>\n",
        "\n",
        " - begin with tag opening '<'\n",
        " - then not '<'\n",
        " - not '<' at least once"
      ]
    },
    {
      "cell_type": "code",
      "execution_count": null,
      "metadata": {
        "id": "sKrxaqLThBQ6",
        "outputId": "03433bd4-6035-4d0d-fb6d-348ba08eec6b"
      },
      "outputs": [
        {
          "data": {
            "text/plain": [
              "'\\n3-Pointers\\n\\nPlayer\\n Team\\n\\n\\nSeason\\nW/L Game\\n\\n'"
            ]
          },
          "execution_count": 17,
          "metadata": {},
          "output_type": "execute_result"
        }
      ],
      "source": [
        "re.sub('<[^<]+?>', '', html_text)"
      ]
    },
    {
      "cell_type": "markdown",
      "metadata": {
        "id": "qtwg1f9rhBQ6"
      },
      "source": [
        "### Using `BeautifulSoup` <a name=\"html-rmvl-bs\"></a>\n",
        "\n",
        " - `get_text()` removes HTML tags\n",
        " - `strip = True` removes whitespaces and newlines"
      ]
    },
    {
      "cell_type": "code",
      "execution_count": null,
      "metadata": {
        "id": "p9GmYWQIhBQ6"
      },
      "outputs": [],
      "source": [
        "from bs4 import BeautifulSoup"
      ]
    },
    {
      "cell_type": "code",
      "execution_count": null,
      "metadata": {
        "id": "lKx1FLQ3hBQ6",
        "outputId": "ed70682f-203a-4293-8cfa-d9d40c0fca85"
      },
      "outputs": [
        {
          "data": {
            "text/plain": [
              "'3-Pointers,Player,Team,Season,W/L Game'"
            ]
          },
          "execution_count": 19,
          "metadata": {},
          "output_type": "execute_result"
        }
      ],
      "source": [
        "soup = BeautifulSoup(html_text, 'html.parser')\n",
        "soup.get_text(\",\", strip=True)"
      ]
    },
    {
      "cell_type": "markdown",
      "metadata": {
        "id": "Hp7rQ5A5hBQ_"
      },
      "source": [
        "### Extreme example"
      ]
    },
    {
      "cell_type": "code",
      "execution_count": null,
      "metadata": {
        "id": "w4gta7pzhBRA"
      },
      "outputs": [],
      "source": [
        "html_comment = \"<img<!-- --> src=x onerror=alert(1);//><!-- -->\""
      ]
    },
    {
      "cell_type": "markdown",
      "metadata": {
        "id": "koiNiqgOhBRA"
      },
      "source": [
        "Both solutions fail"
      ]
    },
    {
      "cell_type": "code",
      "execution_count": null,
      "metadata": {
        "id": "TFQ5gaLwhBRA",
        "outputId": "ed98626f-f381-42bb-bcfd-d4377548ac8d"
      },
      "outputs": [
        {
          "data": {
            "text/plain": [
              "'<img src=x onerror=alert(1);//>'"
            ]
          },
          "execution_count": 21,
          "metadata": {},
          "output_type": "execute_result"
        }
      ],
      "source": [
        "re.sub('<[^<]+?>', '', html_comment)"
      ]
    },
    {
      "cell_type": "code",
      "execution_count": null,
      "metadata": {
        "id": "u3jf4YN1hBRA",
        "outputId": "e1b06195-5296-415e-c7d6-f823ae0c1c05"
      },
      "outputs": [
        {
          "data": {
            "text/plain": [
              "'src=x onerror=alert(1);//>'"
            ]
          },
          "execution_count": 22,
          "metadata": {},
          "output_type": "execute_result"
        }
      ],
      "source": [
        "soup = BeautifulSoup(html_comment, 'html.parser')\n",
        "soup.get_text(\",\", strip=True)"
      ]
    },
    {
      "cell_type": "code",
      "execution_count": null,
      "metadata": {
        "id": "vfI4Gy6fhBRA",
        "outputId": "22a81270-8207-4b2d-e266-d2efb528de46"
      },
      "outputs": [
        {
          "data": {
            "text/plain": [
              "' src=x onerror=alert(1);//>'"
            ]
          },
          "execution_count": 23,
          "metadata": {},
          "output_type": "execute_result"
        }
      ],
      "source": [
        "tag_re = re.compile(r'(<!--.*?-->|<[^>]*>)')\n",
        "no_tags = tag_re.sub('', html_comment)\n",
        "no_tags"
      ]
    },
    {
      "cell_type": "code",
      "execution_count": null,
      "metadata": {
        "id": "mYD8zCRkhBRA",
        "outputId": "cf39ee56-5453-485b-f346-942c8941dc38"
      },
      "outputs": [
        {
          "data": {
            "text/plain": [
              "' src=x onerror=alert(1);//&gt;'"
            ]
          },
          "execution_count": 24,
          "metadata": {},
          "output_type": "execute_result"
        }
      ],
      "source": [
        "import html\n",
        "\n",
        "html.escape(no_tags)"
      ]
    },
    {
      "cell_type": "markdown",
      "metadata": {
        "id": "32_uGwh8hBRA"
      },
      "source": [
        "## URL Removal <a name=\"url-rmvl\"></a>\n",
        "\n",
        "From this [StackOverflow Question](https://stackoverflow.com/questions/11331982/how-to-remove-any-url-within-a-string-in-python/11332580)"
      ]
    },
    {
      "cell_type": "code",
      "execution_count": null,
      "metadata": {
        "id": "KLddLKgmhBRA"
      },
      "outputs": [],
      "source": [
        "text_url = \"\"\"text1\n",
        "text2\n",
        "http://url.com/bla1/blah1/\n",
        "text3\n",
        "text4\n",
        "http://url.com/bla2/blah2/\n",
        "text5\n",
        "text6\n",
        "http://url.com/bla3/blah3/\"\"\""
      ]
    },
    {
      "cell_type": "markdown",
      "metadata": {
        "id": "9CRoG3WihBRB"
      },
      "source": [
        "### Using `re` <a name=\"url-rmvl-re\"></a>"
      ]
    },
    {
      "cell_type": "code",
      "execution_count": null,
      "metadata": {
        "id": "VFNbK_nLhBRB",
        "outputId": "8962e1e4-5aac-40ee-be6c-2da7edead9e0"
      },
      "outputs": [
        {
          "data": {
            "text/plain": [
              "'text1\\ntext2\\n\\ntext3\\ntext4\\n\\ntext5\\ntext6\\n'"
            ]
          },
          "execution_count": 26,
          "metadata": {},
          "output_type": "execute_result"
        }
      ],
      "source": [
        "re.sub(r'http\\S+', '', text_url)"
      ]
    },
    {
      "cell_type": "markdown",
      "metadata": {
        "id": "FJQh7KRFhBRB"
      },
      "source": [
        "## Newlines, spaces and tabs removal"
      ]
    },
    {
      "cell_type": "markdown",
      "metadata": {
        "id": "IifdMTnZhBRB"
      },
      "source": [
        "### Using `str.split()` and `join()`"
      ]
    },
    {
      "cell_type": "code",
      "execution_count": null,
      "metadata": {
        "id": "w_7id2g2hBRB",
        "outputId": "9d0b43bd-386b-46e1-de1e-eebd6ca9fc9f"
      },
      "outputs": [
        {
          "data": {
            "text/plain": [
              "'I want to Remove all white spaces, new lines and tabs'"
            ]
          },
          "execution_count": 27,
          "metadata": {},
          "output_type": "execute_result"
        }
      ],
      "source": [
        "my_str=\"I want to Remove all white \\t\\n\\n\\r spaces, new lines \\n and tabs \\t\"\n",
        "\" \".join(my_str.split())"
      ]
    },
    {
      "cell_type": "markdown",
      "metadata": {
        "id": "_m4h34vohBRB"
      },
      "source": [
        "### Using `re`\n",
        "\n",
        " - **`\\s` stands for whitespace character, equivalent to `[ \\n\\r\\t\\f]`**\n",
        " - **`\\S` stands for not whitespace character, equivalent to `[^\\s]`**"
      ]
    },
    {
      "cell_type": "code",
      "execution_count": null,
      "metadata": {
        "id": "u-p9LmhOhBRB",
        "outputId": "4c048db3-b164-40b2-bf34-574b43bd8619"
      },
      "outputs": [
        {
          "data": {
            "text/plain": [
              "'I want to Remove all white spaces, new lines and tabs '"
            ]
          },
          "execution_count": 28,
          "metadata": {},
          "output_type": "execute_result"
        }
      ],
      "source": [
        "re.sub('\\s+', ' ', my_str)"
      ]
    },
    {
      "cell_type": "code",
      "execution_count": null,
      "metadata": {
        "id": "2x0fve3mhBRB",
        "outputId": "83cbb128-ad60-4142-f87f-4194e68dfb82"
      },
      "outputs": [
        {
          "data": {
            "text/plain": [
              "'I want to Remove all white spaces, new lines and tabs '"
            ]
          },
          "execution_count": 29,
          "metadata": {},
          "output_type": "execute_result"
        }
      ],
      "source": [
        "re.sub('[^\\S]+', ' ', my_str)"
      ]
    },
    {
      "cell_type": "code",
      "execution_count": null,
      "metadata": {
        "id": "Au-H5Tb6hBRC",
        "outputId": "1efc00d8-96f3-48ca-ec85-6ae68e512e45"
      },
      "outputs": [
        {
          "data": {
            "text/plain": [
              "'I want to Remove all white spaces, new lines and tabs '"
            ]
          },
          "execution_count": 30,
          "metadata": {},
          "output_type": "execute_result"
        }
      ],
      "source": [
        "re.sub('[\\t\\n\\r\\f ]+', ' ', my_str)"
      ]
    },
    {
      "cell_type": "markdown",
      "metadata": {
        "id": "iB_UBv5hhBRC"
      },
      "source": [
        "### Using `re.findall()`\n",
        "\n",
        "Taken from [StackOverflow](https://stackoverflow.com/questions/4697882/how-can-i-find-all-matches-to-a-regular-expression-in-python)\n",
        "\n",
        "NOTE: I believe this approach is slower than the one with `re.sub()`."
      ]
    },
    {
      "cell_type": "code",
      "execution_count": null,
      "metadata": {
        "id": "Hb1ScTQbhBRC",
        "outputId": "90ea275a-2313-4392-c9bc-bf274285294b"
      },
      "outputs": [
        {
          "data": {
            "text/plain": [
              "'I want to Remove all white new lines and tabs '"
            ]
          },
          "execution_count": 31,
          "metadata": {},
          "output_type": "execute_result"
        }
      ],
      "source": [
        "match = re.findall('[\\w]+ ', my_str)\n",
        "\"\".join(match)"
      ]
    },
    {
      "cell_type": "markdown",
      "metadata": {
        "id": "6IQ3NwCKhBRC"
      },
      "source": [
        "## Emojis Removal\n",
        "\n",
        "Found [here](https://gist.github.com/slowkow/7a7f61f495e3dbb7e3d767f97bd7304b#gistcomment-3315605)"
      ]
    },
    {
      "cell_type": "code",
      "execution_count": null,
      "metadata": {
        "id": "h752ep0UhBRC",
        "outputId": "5838d602-388b-493a-fd12-7d5fa7c22b2f"
      },
      "outputs": [
        {
          "data": {
            "text/plain": [
              "'Hi 🤔 How is your 🙈 and 😌. Have a nice weekend 💕👭👙😀🌀'"
            ]
          },
          "execution_count": 32,
          "metadata": {},
          "output_type": "execute_result"
        }
      ],
      "source": [
        "text_emojis = u\"Hi 🤔 How is your 🙈 and 😌. Have a nice weekend 💕👭👙\\U0001F600\\U0001F300\"\n",
        "text_emojis"
      ]
    },
    {
      "cell_type": "code",
      "execution_count": null,
      "metadata": {
        "id": "J2jLJ7J-hBRC",
        "outputId": "15d000f5-3d04-419f-fb36-30055ade16fd"
      },
      "outputs": [
        {
          "data": {
            "text/plain": [
              "'Hi  How is your  and . Have a nice weekend '"
            ]
          },
          "execution_count": 33,
          "metadata": {},
          "output_type": "execute_result"
        }
      ],
      "source": [
        "emojis_pattern = re.compile(pattern=\"[\"\n",
        "                    u\"\\U0001F600-\\U0001F64F\"  # emoticons\n",
        "                    u\"\\U0001F300-\\U0001F5FF\"  # symbols & pictographs\n",
        "                    u\"\\U0001F680-\\U0001F6FF\"  # transport & map symbols\n",
        "                    u\"\\U0001F1E0-\\U0001F1FF\"  # flags (iOS)\n",
        "                    u\"\\U00002500-\\U00002BEF\"  # chinese char\n",
        "                    u\"\\U00002702-\\U000027B0\"\n",
        "                    u\"\\U00002702-\\U000027B0\"\n",
        "                    u\"\\U000024C2-\\U0001F251\"\n",
        "                    u\"\\U0001f926-\\U0001f937\"\n",
        "                    u\"\\U00010000-\\U0010ffff\"\n",
        "                    u\"\\u2640-\\u2642\"\n",
        "                    u\"\\u2600-\\u2B55\"\n",
        "                    u\"\\u200d\"\n",
        "                    u\"\\u23cf\"\n",
        "                    u\"\\u23e9\"\n",
        "                    u\"\\u231a\"\n",
        "                    u\"\\ufe0f\"  # dingbats\n",
        "                    u\"\\u3030\"\n",
        "                \"]+\", flags = re.UNICODE)\n",
        "\n",
        "emojis_pattern.sub(r'', text_emojis)"
      ]
    },
    {
      "cell_type": "markdown",
      "metadata": {
        "id": "4dfVe72IhBRD"
      },
      "source": [
        "## Replacing Accented Characters"
      ]
    },
    {
      "cell_type": "code",
      "execution_count": null,
      "metadata": {
        "id": "4ktUJ5oYhBRD",
        "outputId": "93e03078-19d4-45fb-8150-5122cc840b02"
      },
      "outputs": [
        {
          "data": {
            "text/plain": [
              "'Malaga, aeeohello. Polish: nNcCsSeaozZzZ letters. German uoaoss letters'"
            ]
          },
          "execution_count": 34,
          "metadata": {},
          "output_type": "execute_result"
        }
      ],
      "source": [
        "import unidecode\n",
        "text_accented = \"Málaga, àéêöhello. Polish: ńŃćĆśŚęąóżŻźŹ letters. German üöäöß letters\"\n",
        "\n",
        "unidecode.unidecode(text_accented)"
      ]
    },
    {
      "cell_type": "markdown",
      "metadata": {
        "id": "eKLNnZTPhBRD"
      },
      "source": [
        "## Spelling corrections\n",
        "\n",
        "Solutions from [StackOverflow](https://stackoverflow.com/questions/13928155/spell-checker-for-python)"
      ]
    },
    {
      "cell_type": "markdown",
      "metadata": {
        "id": "K6V5_9kMhBRD"
      },
      "source": [
        "### Using `spellchecker`"
      ]
    },
    {
      "cell_type": "code",
      "execution_count": null,
      "metadata": {
        "id": "luusq7xQhBRD",
        "outputId": "3215de9e-8627-44bd-b10e-d0779a7e8ec3"
      },
      "outputs": [
        {
          "data": {
            "text/plain": [
              "'I really need some corrections This sentence has misspelled words'"
            ]
          },
          "execution_count": 35,
          "metadata": {},
          "output_type": "execute_result"
        }
      ],
      "source": [
        "from spellchecker import SpellChecker\n",
        "\n",
        "spell = SpellChecker()\n",
        "\n",
        "def correct_spelling(text):\n",
        "    corrected_text = list()\n",
        "    misspelled_words = spell.unknown(text.split())\n",
        "    for word in text.split():\n",
        "        next_word = word\n",
        "        if word in misspelled_words:\n",
        "            next_word = spell.correction(word)\n",
        "        corrected_text.append(next_word)\n",
        "\n",
        "    return \" \".join(corrected_text)\n",
        "\n",
        "text_misspelled = \"I realli needt smoe corection. This sentnce has mispelled wirds\"\n",
        "correct_spelling(text_misspelled)"
      ]
    },
    {
      "cell_type": "markdown",
      "metadata": {
        "id": "0JuAw1qmhBRD"
      },
      "source": [
        "### Using `autocorrect`"
      ]
    },
    {
      "cell_type": "code",
      "execution_count": null,
      "metadata": {
        "id": "uHBL0dNLhBRD",
        "outputId": "94f58af1-23ab-498c-fe1c-9014d837c43e"
      },
      "outputs": [
        {
          "name": "stdout",
          "output_type": "stream",
          "text": [
            "I really need some correction. This sentence has misspelled words\n"
          ]
        }
      ],
      "source": [
        "from autocorrect import Speller\n",
        "\n",
        "speller = Speller(lang='en')\n",
        "\n",
        "print(speller(text_misspelled))"
      ]
    },
    {
      "cell_type": "markdown",
      "metadata": {
        "id": "S5kZeDWmhBRE"
      },
      "source": [
        "### Using `textblob`\n",
        "\n",
        "Found [here](https://www.geeksforgeeks.org/python-textblob-correct-method/)"
      ]
    },
    {
      "cell_type": "code",
      "execution_count": null,
      "metadata": {
        "id": "uZCtpv52hBRE",
        "outputId": "e556fff0-a2ba-495c-908f-d96e3534bff0"
      },
      "outputs": [
        {
          "data": {
            "text/plain": [
              "TextBlob(\"I really need some correction. His sentence has dispelled words\")"
            ]
          },
          "execution_count": 37,
          "metadata": {},
          "output_type": "execute_result"
        }
      ],
      "source": [
        "from textblob import TextBlob\n",
        "\n",
        "TextBlob(text_misspelled).correct()"
      ]
    },
    {
      "cell_type": "markdown",
      "metadata": {
        "id": "2zpxb0_VhBRE"
      },
      "source": [
        "## Reading a text file"
      ]
    },
    {
      "cell_type": "markdown",
      "metadata": {
        "id": "5IgNYAhkhBRE"
      },
      "source": [
        "### Reading line by line"
      ]
    },
    {
      "cell_type": "code",
      "execution_count": null,
      "metadata": {
        "id": "pkfilxBThBRE",
        "outputId": "91a792b1-f0a5-447c-bf1e-af2f8a3b33c4"
      },
      "outputs": [
        {
          "data": {
            "text/plain": [
              "'One morning, when Gregor Samsa woke from troubled dreams, he found himself transformed in his bed into a horrible vermin.  He lay on his armour-like back, and if he lifted his head a little he could see his brown belly, slightly domed and divided by arches into stiff sections.  The bedding was hardly able to cover it and seemed ready to slide off any moment.  His many legs, pitifully thin compared with the size of the rest of him, waved about helplessly as he looked.  \"What\\'s happened to me?\" he thought.  It wasn\\'t a dream.  His room, a proper human room although a little too small, lay peacefully between its four familiar walls.  A collection of textile samples lay spread out on the table - Samsa was a travelling salesman - and above it there hung a picture that he had recently cut out of an illustrated magazine and housed in a nice, gilded frame.  It showed a lady fitted out with a fur hat and fur boa who sat upright, raising a heavy fur muff that covered the whole of her lower arm towards the viewer.  Gregor then turned to look out the window at the dull weather.'"
            ]
          },
          "execution_count": 38,
          "metadata": {},
          "output_type": "execute_result"
        }
      ],
      "source": [
        "with open('metamorphosis.txt', 'r') as f:\n",
        "    # without newlines\n",
        "    lines = [line.rstrip() for line in f]\n",
        "    # read text line by line including newlines \\n\n",
        "    # text_lines = f.readlines()\n",
        "\n",
        "N_LINES = 20\n",
        "text_lines = \" \".join([line for line in lines[:N_LINES]])\n",
        "text_lines"
      ]
    },
    {
      "cell_type": "markdown",
      "metadata": {
        "id": "3iQJ6wvChBRE"
      },
      "source": [
        "### Reading the whole text"
      ]
    },
    {
      "cell_type": "code",
      "execution_count": null,
      "metadata": {
        "id": "1R5xzlv8hBRE",
        "outputId": "6409a193-8ba9-48e3-b73f-b2fd8e54be08"
      },
      "outputs": [
        {
          "data": {
            "text/plain": [
              "'One morning, when Gregor Samsa woke from troubled dreams, he found\\nhimself transformed in his bed into a horrible vermin.  He lay on\\nhis armour-like back, and if he lifted his head a little he could\\nsee his brown belly, slightly domed and divided by arches into stiff\\nsections.  The bedding was hardl'"
            ]
          },
          "execution_count": 39,
          "metadata": {},
          "output_type": "execute_result"
        }
      ],
      "source": [
        "# read the whole file\n",
        "with open('metamorphosis.txt', 'r') as f:\n",
        "    text = f.read()\n",
        "\n",
        "N_CHARS = 300\n",
        "text_chars = text[:N_CHARS]\n",
        "text_chars"
      ]
    },
    {
      "cell_type": "markdown",
      "metadata": {
        "id": "XNGEXRLIhBRE"
      },
      "source": [
        "## Tokenize Words"
      ]
    },
    {
      "cell_type": "markdown",
      "metadata": {
        "id": "E7AyihN8hBRF"
      },
      "source": [
        "### Using `re`\n",
        "\n",
        "Return the list of words"
      ]
    },
    {
      "cell_type": "code",
      "execution_count": null,
      "metadata": {
        "id": "Wpwwnk0whBRF",
        "outputId": "a3c08955-512d-4a19-f85b-e5ffd1202188"
      },
      "outputs": [
        {
          "name": "stdout",
          "output_type": "stream",
          "text": [
            "200\n",
            "['One', 'morning', 'when', 'Gregor', 'Samsa', 'woke', 'from', 'troubled', 'dreams', 'he', 'found', 'himself', 'transformed', 'in', 'his', 'bed', 'into', 'a', 'horrible', 'vermin', 'He', 'lay', 'on', 'his', 'armour', 'like', 'back', 'and', 'if', 'he', 'lifted', 'his', 'head', 'a', 'little', 'he', 'could', 'see', 'his', 'brown', 'belly', 'slightly', 'domed', 'and', 'divided', 'by', 'arches', 'into', 'stiff', 'sections', 'The', 'bedding', 'was', 'hardly', 'able', 'to', 'cover', 'it', 'and', 'seemed', 'ready', 'to', 'slide', 'off', 'any', 'moment', 'His', 'many', 'legs', 'pitifully', 'thin', 'compared', 'with', 'the', 'size', 'of', 'the', 'rest', 'of', 'him', 'waved', 'about', 'helplessly', 'as', 'he', 'looked', 'What', 's', 'happened', 'to', 'me', 'he', 'thought', 'It', 'wasn', 't', 'a', 'dream', 'His', 'room', 'a', 'proper', 'human', 'room', 'although', 'a', 'little', 'too', 'small', 'lay', 'peacefully', 'between', 'its', 'four', 'familiar', 'walls', 'A', 'collection', 'of', 'textile', 'samples', 'lay', 'spread', 'out', 'on', 'the', 'table', 'Samsa', 'was', 'a', 'travelling', 'salesman', 'and', 'above', 'it', 'there', 'hung', 'a', 'picture', 'that', 'he', 'had', 'recently', 'cut', 'out', 'of', 'an', 'illustrated', 'magazine', 'and', 'housed', 'in', 'a', 'nice', 'gilded', 'frame', 'It', 'showed', 'a', 'lady', 'fitted', 'out', 'with', 'a', 'fur', 'hat', 'and', 'fur', 'boa', 'who', 'sat', 'upright', 'raising', 'a', 'heavy', 'fur', 'muff', 'that', 'covered', 'the', 'whole', 'of', 'her', 'lower', 'arm', 'towards', 'the', 'viewer', 'Gregor', 'then', 'turned', 'to', 'look', 'out', 'the', 'window', 'at', 'the', 'dull', 'weather']\n"
          ]
        }
      ],
      "source": [
        "re_tokens = re.findall('[\\w]+', text_lines)\n",
        "print(len(re_tokens))\n",
        "print(re_tokens)"
      ]
    },
    {
      "cell_type": "markdown",
      "metadata": {
        "id": "YDuticgghBRF"
      },
      "source": [
        "### Using `nltk`"
      ]
    },
    {
      "cell_type": "code",
      "execution_count": null,
      "metadata": {
        "id": "qJHApeJThBRF",
        "outputId": "20385ae3-683e-457b-a768-242d5fb1ac9c"
      },
      "outputs": [
        {
          "name": "stdout",
          "output_type": "stream",
          "text": [
            "224 ['One', 'morning', ',', 'when', 'Gregor', 'Samsa', 'woke', 'from', 'troubled', 'dreams', ',', 'he', 'found', 'himself', 'transformed', 'in', 'his', 'bed', 'into', 'a', 'horrible', 'vermin', '.', 'He', 'lay', 'on', 'his', 'armour-like', 'back', ',', 'and', 'if', 'he', 'lifted', 'his', 'head', 'a', 'little', 'he', 'could', 'see', 'his', 'brown', 'belly', ',', 'slightly', 'domed', 'and', 'divided', 'by', 'arches', 'into', 'stiff', 'sections', '.', 'The', 'bedding', 'was', 'hardly', 'able', 'to', 'cover', 'it', 'and', 'seemed', 'ready', 'to', 'slide', 'off', 'any', 'moment', '.', 'His', 'many', 'legs', ',', 'pitifully', 'thin', 'compared', 'with', 'the', 'size', 'of', 'the', 'rest', 'of', 'him', ',', 'waved', 'about', 'helplessly', 'as', 'he', 'looked', '.', '``', 'What', \"'s\", 'happened', 'to', 'me', '?', \"''\", 'he', 'thought', '.', 'It', 'was', \"n't\", 'a', 'dream', '.', 'His', 'room', ',', 'a', 'proper', 'human', 'room', 'although', 'a', 'little', 'too', 'small', ',', 'lay', 'peacefully', 'between', 'its', 'four', 'familiar', 'walls', '.', 'A', 'collection', 'of', 'textile', 'samples', 'lay', 'spread', 'out', 'on', 'the', 'table', '-', 'Samsa', 'was', 'a', 'travelling', 'salesman', '-', 'and', 'above', 'it', 'there', 'hung', 'a', 'picture', 'that', 'he', 'had', 'recently', 'cut', 'out', 'of', 'an', 'illustrated', 'magazine', 'and', 'housed', 'in', 'a', 'nice', ',', 'gilded', 'frame', '.', 'It', 'showed', 'a', 'lady', 'fitted', 'out', 'with', 'a', 'fur', 'hat', 'and', 'fur', 'boa', 'who', 'sat', 'upright', ',', 'raising', 'a', 'heavy', 'fur', 'muff', 'that', 'covered', 'the', 'whole', 'of', 'her', 'lower', 'arm', 'towards', 'the', 'viewer', '.', 'Gregor', 'then', 'turned', 'to', 'look', 'out', 'the', 'window', 'at', 'the', 'dull', 'weather', '.']\n"
          ]
        }
      ],
      "source": [
        "from nltk.tokenize import word_tokenize\n",
        "\n",
        "nltk_tokens = word_tokenize(text_lines)\n",
        "print(len(nltk_tokens), nltk_tokens)"
      ]
    },
    {
      "cell_type": "markdown",
      "metadata": {
        "id": "KVKQjQmyhBRF"
      },
      "source": [
        "### Using `spaCy`"
      ]
    },
    {
      "cell_type": "code",
      "execution_count": null,
      "metadata": {
        "id": "2rM0DDexhBRF",
        "outputId": "03d1e894-7549-47fe-e83b-bde3abbfc9e6"
      },
      "outputs": [
        {
          "name": "stdout",
          "output_type": "stream",
          "text": [
            "235\n",
            "[One, morning, ,, when, Gregor, Samsa, woke, from, troubled, dreams, ,, he, found, himself, transformed, in, his, bed, into, a, horrible, vermin, .,  , He, lay, on, his, armour, -, like, back, ,, and, if, he, lifted, his, head, a, little, he, could, see, his, brown, belly, ,, slightly, domed, and, divided, by, arches, into, stiff, sections, .,  , The, bedding, was, hardly, able, to, cover, it, and, seemed, ready, to, slide, off, any, moment, .,  , His, many, legs, ,, pitifully, thin, compared, with, the, size, of, the, rest, of, him, ,, waved, about, helplessly, as, he, looked, .,  , \", What, 's, happened, to, me, ?, \", he, thought, .,  , It, was, n't, a, dream, .,  , His, room, ,, a, proper, human, room, although, a, little, too, small, ,, lay, peacefully, between, its, four, familiar, walls, .,  , A, collection, of, textile, samples, lay, spread, out, on, the, table, -, Samsa, was, a, travelling, salesman, -, and, above, it, there, hung, a, picture, that, he, had, recently, cut, out, of, an, illustrated, magazine, and, housed, in, a, nice, ,, gilded, frame, .,  , It, showed, a, lady, fitted, out, with, a, fur, hat, and, fur, boa, who, sat, upright, ,, raising, a, heavy, fur, muff, that, covered, the, whole, of, her, lower, arm, towards, the, viewer, .,  , Gregor, then, turned, to, look, out, the, window, at, the, dull, weather, .]\n"
          ]
        }
      ],
      "source": [
        "nlp = spacy.load(\"en_core_web_sm\")\n",
        "doc = nlp(text_lines)\n",
        "spacy_tokens = list([token for token in doc])\n",
        "print(len(spacy_tokens))\n",
        "print(spacy_tokens)"
      ]
    },
    {
      "cell_type": "markdown",
      "metadata": {
        "id": "kEaj-Zr9hBRF"
      },
      "source": [
        "### Using `gensim`"
      ]
    },
    {
      "cell_type": "code",
      "execution_count": null,
      "metadata": {
        "id": "ieMlGWsVhBRF",
        "outputId": "006a5490-3457-457c-9b0d-dd0897a41098"
      },
      "outputs": [
        {
          "name": "stdout",
          "output_type": "stream",
          "text": [
            "200\n",
            "['One', 'morning', 'when', 'Gregor', 'Samsa', 'woke', 'from', 'troubled', 'dreams', 'he', 'found', 'himself', 'transformed', 'in', 'his', 'bed', 'into', 'a', 'horrible', 'vermin', 'He', 'lay', 'on', 'his', 'armour', 'like', 'back', 'and', 'if', 'he', 'lifted', 'his', 'head', 'a', 'little', 'he', 'could', 'see', 'his', 'brown', 'belly', 'slightly', 'domed', 'and', 'divided', 'by', 'arches', 'into', 'stiff', 'sections', 'The', 'bedding', 'was', 'hardly', 'able', 'to', 'cover', 'it', 'and', 'seemed', 'ready', 'to', 'slide', 'off', 'any', 'moment', 'His', 'many', 'legs', 'pitifully', 'thin', 'compared', 'with', 'the', 'size', 'of', 'the', 'rest', 'of', 'him', 'waved', 'about', 'helplessly', 'as', 'he', 'looked', 'What', 's', 'happened', 'to', 'me', 'he', 'thought', 'It', 'wasn', 't', 'a', 'dream', 'His', 'room', 'a', 'proper', 'human', 'room', 'although', 'a', 'little', 'too', 'small', 'lay', 'peacefully', 'between', 'its', 'four', 'familiar', 'walls', 'A', 'collection', 'of', 'textile', 'samples', 'lay', 'spread', 'out', 'on', 'the', 'table', 'Samsa', 'was', 'a', 'travelling', 'salesman', 'and', 'above', 'it', 'there', 'hung', 'a', 'picture', 'that', 'he', 'had', 'recently', 'cut', 'out', 'of', 'an', 'illustrated', 'magazine', 'and', 'housed', 'in', 'a', 'nice', 'gilded', 'frame', 'It', 'showed', 'a', 'lady', 'fitted', 'out', 'with', 'a', 'fur', 'hat', 'and', 'fur', 'boa', 'who', 'sat', 'upright', 'raising', 'a', 'heavy', 'fur', 'muff', 'that', 'covered', 'the', 'whole', 'of', 'her', 'lower', 'arm', 'towards', 'the', 'viewer', 'Gregor', 'then', 'turned', 'to', 'look', 'out', 'the', 'window', 'at', 'the', 'dull', 'weather']\n"
          ]
        }
      ],
      "source": [
        "from gensim.utils import tokenize\n",
        "\n",
        "gensim_tokens = list(tokenize(text_lines))\n",
        "print(len(gensim_tokens))\n",
        "print(gensim_tokens)"
      ]
    },
    {
      "cell_type": "markdown",
      "metadata": {
        "id": "DTLv1mABhBRF"
      },
      "source": [
        "### Tokenization Comparision\n",
        "\n",
        " - it seems that `gensim` uses the same `re` function, that we showed above. Both returned only words\n",
        " - `nltk` and `spacy` return also punctuations\n",
        " - `spacy` treats a whitespace as a token if there is a double whitespace. In our text each sentence-ending dot is followed by double whitespace. We could clean this but at least we see that `spacy` behaves differently\n",
        " - **not or n't** contraction gives different results. `spacy` and `nltk` splits *wasn't* to *was* and *n't*, whereas `re` and `gensim` to *wasn* and *t*.\n",
        " - when there is a hyphen between words, we get 3 different results. Our example is armour-like. `nltk` returns **a single token**: *armour-like*, `re` and `gensim` return **two tokens**: *armour* and *like*. `spacy` returns **three tokens**: *armour*, *-*, and *like*\n",
        " - `nltk` converts quotation marks. Quote opening: **``**, quote closing **' '**"
      ]
    },
    {
      "cell_type": "markdown",
      "metadata": {
        "id": "9rCs2QYfhBRG"
      },
      "source": [
        "## Tokenize Sentences"
      ]
    },
    {
      "cell_type": "markdown",
      "metadata": {
        "id": "vHB6JIhRhBRG"
      },
      "source": [
        "### Using `re`"
      ]
    },
    {
      "cell_type": "code",
      "execution_count": null,
      "metadata": {
        "id": "fnZKTQVhhBRG",
        "outputId": "b731e03e-5126-441e-bd1d-152ed5a764c8"
      },
      "outputs": [
        {
          "data": {
            "text/plain": [
              "(12,\n",
              " ['One morning, when Gregor Samsa woke from troubled dreams, he found himself transformed in his bed into a horrible vermin',\n",
              "  '  He lay on his armour-like back, and if he lifted his head a little he could see his brown belly, slightly domed and divided by arches into stiff sections',\n",
              "  '  The bedding was hardly able to cover it and seemed ready to slide off any moment',\n",
              "  '  His many legs, pitifully thin compared with the size of the rest of him, waved about helplessly as he looked',\n",
              "  '  \"What\\'s happened to me',\n",
              "  '\" he thought',\n",
              "  \"  It wasn't a dream\",\n",
              "  '  His room, a proper human room although a little too small, lay peacefully between its four familiar walls',\n",
              "  '  A collection of textile samples lay spread out on the table - Samsa was a travelling salesman - and above it there hung a picture that he had recently cut out of an illustrated magazine and housed in a nice, gilded frame',\n",
              "  '  It showed a lady fitted out with a fur hat and fur boa who sat upright, raising a heavy fur muff that covered the whole of her lower arm towards the viewer',\n",
              "  '  Gregor then turned to look out the window at the dull weather',\n",
              "  ''])"
            ]
          },
          "execution_count": 44,
          "metadata": {},
          "output_type": "execute_result"
        }
      ],
      "source": [
        "re_sentences = re.compile('[.?!]').split(text_lines)\n",
        "len(re_sentences), re_sentences"
      ]
    },
    {
      "cell_type": "markdown",
      "metadata": {
        "id": "h584emPZhBRG"
      },
      "source": [
        "### Using `nltk`"
      ]
    },
    {
      "cell_type": "code",
      "execution_count": null,
      "metadata": {
        "id": "KnERzOODhBRG",
        "outputId": "6f47d073-9b4b-4165-80ad-187f33baa78e"
      },
      "outputs": [
        {
          "name": "stdout",
          "output_type": "stream",
          "text": [
            "11 ['One morning, when Gregor Samsa woke from troubled dreams, he found himself transformed in his bed into a horrible vermin.', 'He lay on his armour-like back, and if he lifted his head a little he could see his brown belly, slightly domed and divided by arches into stiff sections.', 'The bedding was hardly able to cover it and seemed ready to slide off any moment.', 'His many legs, pitifully thin compared with the size of the rest of him, waved about helplessly as he looked.', '\"What\\'s happened to me?\"', 'he thought.', \"It wasn't a dream.\", 'His room, a proper human room although a little too small, lay peacefully between its four familiar walls.', 'A collection of textile samples lay spread out on the table - Samsa was a travelling salesman - and above it there hung a picture that he had recently cut out of an illustrated magazine and housed in a nice, gilded frame.', 'It showed a lady fitted out with a fur hat and fur boa who sat upright, raising a heavy fur muff that covered the whole of her lower arm towards the viewer.', 'Gregor then turned to look out the window at the dull weather.']\n"
          ]
        }
      ],
      "source": [
        "from nltk.tokenize import sent_tokenize\n",
        "\n",
        "nltk_sentences = sent_tokenize(text_lines)\n",
        "print(len(nltk_sentences), nltk_sentences)"
      ]
    },
    {
      "cell_type": "markdown",
      "metadata": {
        "id": "6jkUQi9ChBRG"
      },
      "source": [
        "### Using `spaCy`"
      ]
    },
    {
      "cell_type": "code",
      "execution_count": null,
      "metadata": {
        "id": "0mATZixXhBRG",
        "outputId": "72816c1a-d879-41fa-8b3d-72aec410ff18"
      },
      "outputs": [
        {
          "data": {
            "text/plain": [
              "(11,\n",
              " [One morning, when Gregor Samsa woke from troubled dreams, he found himself transformed in his bed into a horrible vermin.,\n",
              "   He lay on his armour-like back, and if he lifted his head a little he could see his brown belly, slightly domed and divided by arches into stiff sections.,\n",
              "   The bedding was hardly able to cover it and seemed ready to slide off any moment.,\n",
              "   His many legs, pitifully thin compared with the size of the rest of him, waved about helplessly as he looked.,\n",
              "   \"What's happened to me?\",\n",
              "  he thought.,\n",
              "   It wasn't a dream.,\n",
              "   His room, a proper human room although a little too small, lay peacefully between its four familiar walls.,\n",
              "   A collection of textile samples lay spread out on the table - Samsa was a travelling salesman - and above it there hung a picture that he had recently cut out of an illustrated magazine and housed in a nice, gilded frame.,\n",
              "   It showed a lady fitted out with a fur hat and fur boa who sat upright, raising a heavy fur muff that covered the whole of her lower arm towards the viewer.,\n",
              "   Gregor then turned to look out the window at the dull weather.])"
            ]
          },
          "execution_count": 46,
          "metadata": {},
          "output_type": "execute_result"
        }
      ],
      "source": [
        "nlp = spacy.load(\"en_core_web_sm\")\n",
        "doc = nlp(text_lines)\n",
        "spacy_sentences = list([sent for sent in doc.sents])\n",
        "len(spacy_sentences), spacy_sentences"
      ]
    },
    {
      "cell_type": "markdown",
      "metadata": {
        "id": "EIPsHcbwhBRG"
      },
      "source": [
        "## Stopwords Removal"
      ]
    },
    {
      "cell_type": "markdown",
      "metadata": {
        "id": "iYyROLizhBRG"
      },
      "source": [
        "We'll ignore punctuations. Tokenization step using `re` gives us exactly that."
      ]
    },
    {
      "cell_type": "markdown",
      "metadata": {
        "id": "aljySGGohBRH"
      },
      "source": [
        "### Using `nltk`"
      ]
    },
    {
      "cell_type": "code",
      "execution_count": null,
      "metadata": {
        "id": "_OX-5aNShBRH",
        "outputId": "04a93468-a5db-4157-9399-2a2acf4785b5"
      },
      "outputs": [
        {
          "name": "stdout",
          "output_type": "stream",
          "text": [
            "106 ['One', 'morning', 'Gregor', 'Samsa', 'woke', 'troubled', 'dreams', 'found', 'transformed', 'bed', 'horrible', 'vermin', 'lay', 'armour', 'like', 'back', 'lifted', 'head', 'little', 'could', 'see', 'brown', 'belly', 'slightly', 'domed', 'divided', 'arches', 'stiff', 'sections', 'bedding', 'hardly', 'able', 'cover', 'seemed', 'ready', 'slide', 'moment', 'many', 'legs', 'pitifully', 'thin', 'compared', 'size', 'rest', 'waved', 'helplessly', 'looked', 'happened', 'thought', 'dream', 'room', 'proper', 'human', 'room', 'although', 'little', 'small', 'lay', 'peacefully', 'four', 'familiar', 'walls', 'collection', 'textile', 'samples', 'lay', 'spread', 'table', 'Samsa', 'travelling', 'salesman', 'hung', 'picture', 'recently', 'cut', 'illustrated', 'magazine', 'housed', 'nice', 'gilded', 'frame', 'showed', 'lady', 'fitted', 'fur', 'hat', 'fur', 'boa', 'sat', 'upright', 'raising', 'heavy', 'fur', 'muff', 'covered', 'whole', 'lower', 'arm', 'towards', 'viewer', 'Gregor', 'turned', 'look', 'window', 'dull', 'weather']\n"
          ]
        }
      ],
      "source": [
        "from nltk.corpus import stopwords\n",
        "\n",
        "stop_words_nltk = stopwords.words('english')\n",
        "# print(len(stop_words_nltk),stop_words_nltk)\n",
        "\n",
        "filtered_nltk = [word for word in re_tokens if word.lower() not in stop_words_nltk]\n",
        "print(len(filtered_nltk), filtered_nltk)"
      ]
    },
    {
      "cell_type": "markdown",
      "metadata": {
        "id": "WbaUJGoohBRH"
      },
      "source": [
        "### Using `spaCy`"
      ]
    },
    {
      "cell_type": "code",
      "execution_count": null,
      "metadata": {
        "id": "IyXfpMMPhBRH",
        "outputId": "b24f134f-195a-4afd-dc69-4826a21e44e9"
      },
      "outputs": [
        {
          "name": "stdout",
          "output_type": "stream",
          "text": [
            "99 ['morning', 'Gregor', 'Samsa', 'woke', 'troubled', 'dreams', 'found', 'transformed', 'bed', 'horrible', 'vermin', 'lay', 'armour', 'like', 'lifted', 'head', 'little', 'brown', 'belly', 'slightly', 'domed', 'divided', 'arches', 'stiff', 'sections', 'bedding', 'hardly', 'able', 'cover', 'ready', 'slide', 'moment', 'legs', 'pitifully', 'thin', 'compared', 'size', 'rest', 'waved', 'helplessly', 'looked', 's', 'happened', 'thought', 'wasn', 't', 'dream', 'room', 'proper', 'human', 'room', 'little', 'small', 'lay', 'peacefully', 'familiar', 'walls', 'collection', 'textile', 'samples', 'lay', 'spread', 'table', 'Samsa', 'travelling', 'salesman', 'hung', 'picture', 'recently', 'cut', 'illustrated', 'magazine', 'housed', 'nice', 'gilded', 'frame', 'showed', 'lady', 'fitted', 'fur', 'hat', 'fur', 'boa', 'sat', 'upright', 'raising', 'heavy', 'fur', 'muff', 'covered', 'lower', 'arm', 'viewer', 'Gregor', 'turned', 'look', 'window', 'dull', 'weather']\n"
          ]
        }
      ],
      "source": [
        "stop_words_spacy = nlp.Defaults.stop_words\n",
        "\n",
        "filtered_spacy = [word for word in re_tokens if word.lower() not in stop_words_spacy]\n",
        "print(len(filtered_spacy), filtered_spacy)"
      ]
    },
    {
      "cell_type": "markdown",
      "metadata": {
        "id": "GzGY2Q9ehBRH"
      },
      "source": [
        "### Using `gensim`"
      ]
    },
    {
      "cell_type": "code",
      "execution_count": null,
      "metadata": {
        "id": "cx1YiMoWhBRH",
        "outputId": "77d245ed-e916-4473-8959-305921112e35"
      },
      "outputs": [
        {
          "name": "stdout",
          "output_type": "stream",
          "text": [
            "97 ['morning', 'Gregor', 'Samsa', 'woke', 'troubled', 'dreams', 'transformed', 'bed', 'horrible', 'vermin', 'lay', 'armour', 'like', 'lifted', 'head', 'little', 'brown', 'belly', 'slightly', 'domed', 'divided', 'arches', 'stiff', 'sections', 'bedding', 'hardly', 'able', 'cover', 'ready', 'slide', 'moment', 'legs', 'pitifully', 'compared', 'size', 'rest', 'waved', 'helplessly', 'looked', 's', 'happened', 'thought', 'wasn', 't', 'dream', 'room', 'proper', 'human', 'room', 'little', 'small', 'lay', 'peacefully', 'familiar', 'walls', 'collection', 'textile', 'samples', 'lay', 'spread', 'table', 'Samsa', 'travelling', 'salesman', 'hung', 'picture', 'recently', 'cut', 'illustrated', 'magazine', 'housed', 'nice', 'gilded', 'frame', 'showed', 'lady', 'fitted', 'fur', 'hat', 'fur', 'boa', 'sat', 'upright', 'raising', 'heavy', 'fur', 'muff', 'covered', 'lower', 'arm', 'viewer', 'Gregor', 'turned', 'look', 'window', 'dull', 'weather']\n"
          ]
        }
      ],
      "source": [
        "from gensim.parsing.preprocessing import STOPWORDS\n",
        "\n",
        "stop_words_gensim = STOPWORDS\n",
        "\n",
        "filtered_gensim = [word for word in re_tokens if word.lower() not in stop_words_gensim]\n",
        "print(len(filtered_gensim), filtered_gensim)"
      ]
    },
    {
      "cell_type": "markdown",
      "metadata": {
        "id": "ZnMjxCiOhBRH"
      },
      "source": [
        "Another method from gensim using the `remove_stopwords` function."
      ]
    },
    {
      "cell_type": "code",
      "execution_count": null,
      "metadata": {
        "id": "F01wjO3shBRH",
        "outputId": "516fef02-75ed-46ce-b66a-5cd765226052"
      },
      "outputs": [
        {
          "name": "stdout",
          "output_type": "stream",
          "text": [
            "713 One morning, Gregor Samsa woke troubled dreams, transformed bed horrible vermin. He lay armour-like back, lifted head little brown belly, slightly domed divided arches stiff sections. The bedding hardly able cover ready slide moment. His legs, pitifully compared size rest him, waved helplessly looked. \"What's happened me?\" thought. It wasn't dream. His room, proper human room little small, lay peacefully familiar walls. A collection textile samples lay spread table - Samsa travelling salesman - hung picture recently cut illustrated magazine housed nice, gilded frame. It showed lady fitted fur hat fur boa sat upright, raising heavy fur muff covered lower arm viewer. Gregor turned look window dull weather.\n"
          ]
        }
      ],
      "source": [
        "from gensim.parsing.preprocessing import remove_stopwords\n",
        "\n",
        "filtered_sentence_gensim = remove_stopwords(text_lines)\n",
        "print(len(filtered_sentence_gensim), filtered_sentence_gensim)"
      ]
    },
    {
      "cell_type": "markdown",
      "metadata": {
        "id": "8elDIajihBRI"
      },
      "source": [
        "### Comparing results"
      ]
    },
    {
      "cell_type": "markdown",
      "metadata": {
        "id": "WZlgTG6EhBRI"
      },
      "source": [
        "**`nltk` vs `spacy`**"
      ]
    },
    {
      "cell_type": "code",
      "execution_count": null,
      "metadata": {
        "id": "vr9TWjrUhBRI",
        "outputId": "895bf050-2f5e-40fd-ff68-db481fef7390"
      },
      "outputs": [
        {
          "data": {
            "text/plain": [
              "['s',\n",
              " 'see',\n",
              " 'four',\n",
              " 'many',\n",
              " 'back',\n",
              " 'could',\n",
              " 'although',\n",
              " 'One',\n",
              " 't',\n",
              " 'seemed',\n",
              " 'wasn',\n",
              " 'whole',\n",
              " 'towards']"
            ]
          },
          "execution_count": 51,
          "metadata": {},
          "output_type": "execute_result"
        }
      ],
      "source": [
        "list(set(filtered_nltk) ^ set(filtered_spacy))"
      ]
    },
    {
      "cell_type": "markdown",
      "metadata": {
        "id": "SBOQ1uqihBRI"
      },
      "source": [
        "**`nltk` vs `gensim`**"
      ]
    },
    {
      "cell_type": "code",
      "execution_count": null,
      "metadata": {
        "id": "NvpfYUg7hBRI",
        "outputId": "3dfd8cb6-8bb0-49e7-d771-1862d51d2e31"
      },
      "outputs": [
        {
          "data": {
            "text/plain": [
              "['thin',\n",
              " 's',\n",
              " 'see',\n",
              " 'four',\n",
              " 'many',\n",
              " 'back',\n",
              " 'could',\n",
              " 'although',\n",
              " 'One',\n",
              " 't',\n",
              " 'seemed',\n",
              " 'found',\n",
              " 'wasn',\n",
              " 'whole',\n",
              " 'towards']"
            ]
          },
          "execution_count": 52,
          "metadata": {},
          "output_type": "execute_result"
        }
      ],
      "source": [
        "list(set(filtered_nltk) ^ set(filtered_gensim))"
      ]
    },
    {
      "cell_type": "markdown",
      "metadata": {
        "id": "HVcP75y0hBRI"
      },
      "source": [
        "**`gensim` vs `spacy`**"
      ]
    },
    {
      "cell_type": "code",
      "execution_count": null,
      "metadata": {
        "id": "7lgpIgK2hBRI",
        "outputId": "c26ba3c1-e962-44a6-909e-ec66562e768b"
      },
      "outputs": [
        {
          "data": {
            "text/plain": [
              "['thin', 'found']"
            ]
          },
          "execution_count": 53,
          "metadata": {},
          "output_type": "execute_result"
        }
      ],
      "source": [
        "list(set(filtered_gensim) ^ set(filtered_spacy))"
      ]
    },
    {
      "cell_type": "markdown",
      "metadata": {
        "id": "jkPY7--ahBRI"
      },
      "source": [
        "### Comparing stopwords lists"
      ]
    },
    {
      "cell_type": "markdown",
      "metadata": {
        "id": "9r463o5NhBRI"
      },
      "source": [
        "Lists of words"
      ]
    },
    {
      "cell_type": "code",
      "execution_count": null,
      "metadata": {
        "id": "MJNmAesqhBRJ"
      },
      "outputs": [],
      "source": [
        "# print(\"NLTK stopwords\",stop_words_nltk)\n",
        "# print(\"Spacy stopwords\",stop_words_spacy)\n",
        "# print(\"Gensim stopwords\",stop_words_gensim)"
      ]
    },
    {
      "cell_type": "markdown",
      "metadata": {
        "id": "87PB64XlhBRJ"
      },
      "source": [
        "Comparing length"
      ]
    },
    {
      "cell_type": "code",
      "execution_count": null,
      "metadata": {
        "id": "F-DDR18phBRJ",
        "outputId": "a647e620-3dca-4926-bb08-d5255a05fc8d"
      },
      "outputs": [
        {
          "name": "stdout",
          "output_type": "stream",
          "text": [
            "NLTK stopwords len 179\n",
            "Spacy stopwords len 326\n",
            "Gensim stopwords len 337\n"
          ]
        }
      ],
      "source": [
        "print(\"NLTK stopwords len\", len(stop_words_nltk))\n",
        "print(\"Spacy stopwords len\", len(stop_words_spacy))\n",
        "print(\"Gensim stopwords len\", len(stop_words_gensim))"
      ]
    },
    {
      "cell_type": "markdown",
      "metadata": {
        "id": "bTyuGvCVhBRJ"
      },
      "source": [
        "## Lemmatization\n",
        "\n",
        "For lemmatization we'll ignore punctuations. Tokenization step using `re` gives us exactly that."
      ]
    },
    {
      "cell_type": "markdown",
      "metadata": {
        "id": "z76fYC1dhBRJ"
      },
      "source": [
        "### Using `nltk`"
      ]
    },
    {
      "cell_type": "code",
      "execution_count": null,
      "metadata": {
        "id": "QoREbU5OhBRJ",
        "outputId": "de677a62-1b70-4c5f-c8e7-0511f56e7b59"
      },
      "outputs": [
        {
          "name": "stdout",
          "output_type": "stream",
          "text": [
            "['One', 'morning', 'when', 'Gregor', 'Samsa', 'woke', 'from', 'troubled', 'dream', 'he', 'found', 'himself', 'transformed', 'in', 'his', 'bed', 'into', 'a', 'horrible', 'vermin', 'He', 'lay', 'on', 'his', 'armour', 'like', 'back', 'and', 'if', 'he', 'lifted', 'his', 'head', 'a', 'little', 'he', 'could', 'see', 'his', 'brown', 'belly', 'slightly', 'domed', 'and', 'divided', 'by', 'arch', 'into', 'stiff', 'section', 'The', 'bedding', 'wa', 'hardly', 'able', 'to', 'cover', 'it', 'and', 'seemed', 'ready', 'to', 'slide', 'off', 'any', 'moment', 'His', 'many', 'leg', 'pitifully', 'thin', 'compared', 'with', 'the', 'size', 'of', 'the', 'rest', 'of', 'him', 'waved', 'about', 'helplessly', 'a', 'he', 'looked', 'What', 's', 'happened', 'to', 'me', 'he', 'thought', 'It', 'wasn', 't', 'a', 'dream', 'His', 'room', 'a', 'proper', 'human', 'room', 'although', 'a', 'little', 'too', 'small', 'lay', 'peacefully', 'between', 'it', 'four', 'familiar', 'wall', 'A', 'collection', 'of', 'textile', 'sample', 'lay', 'spread', 'out', 'on', 'the', 'table', 'Samsa', 'wa', 'a', 'travelling', 'salesman', 'and', 'above', 'it', 'there', 'hung', 'a', 'picture', 'that', 'he', 'had', 'recently', 'cut', 'out', 'of', 'an', 'illustrated', 'magazine', 'and', 'housed', 'in', 'a', 'nice', 'gilded', 'frame', 'It', 'showed', 'a', 'lady', 'fitted', 'out', 'with', 'a', 'fur', 'hat', 'and', 'fur', 'boa', 'who', 'sat', 'upright', 'raising', 'a', 'heavy', 'fur', 'muff', 'that', 'covered', 'the', 'whole', 'of', 'her', 'lower', 'arm', 'towards', 'the', 'viewer', 'Gregor', 'then', 'turned', 'to', 'look', 'out', 'the', 'window', 'at', 'the', 'dull', 'weather']\n"
          ]
        }
      ],
      "source": [
        "from nltk.stem import WordNetLemmatizer\n",
        "\n",
        "nltk_lemmatizer = WordNetLemmatizer()\n",
        "nltk_lemmas = [nltk_lemmatizer.lemmatize(w) for w in re_tokens]\n",
        "print(nltk_lemmas)"
      ]
    },
    {
      "cell_type": "markdown",
      "metadata": {
        "id": "iHD8JV6GhBRJ"
      },
      "source": [
        "### Using `spaCy`\n",
        "\n",
        "[spacy documentation](https://spacy.io/api/lemmatizer)"
      ]
    },
    {
      "cell_type": "code",
      "execution_count": null,
      "metadata": {
        "id": "N-ECF_bhhBRK",
        "outputId": "e2daa779-44d7-47b0-8729-3cd1d3810fa3"
      },
      "outputs": [
        {
          "name": "stdout",
          "output_type": "stream",
          "text": [
            "200 ['one', 'morning', 'when', 'Gregor', 'Samsa', 'wake', 'from', 'troubled', 'dream', 'he', 'find', 'himself', 'transform', 'in', 'his', 'bed', 'into', 'a', 'horrible', 'vermin', 'he', 'lie', 'on', 'his', 'armour', 'like', 'back', 'and', 'if', 'he', 'lift', 'his', 'head', 'a', 'little', 'he', 'could', 'see', 'his', 'brown', 'belly', 'slightly', 'dome', 'and', 'divide', 'by', 'arch', 'into', 'stiff', 'section', 'the', 'bedding', 'be', 'hardly', 'able', 'to', 'cover', 'it', 'and', 'seem', 'ready', 'to', 'slide', 'off', 'any', 'moment', 'his', 'many', 'leg', 'pitifully', 'thin', 'compare', 'with', 'the', 'size', 'of', 'the', 'rest', 'of', 'he', 'wave', 'about', 'helplessly', 'as', 'he', 'look', 'what', 's', 'happen', 'to', 'I', 'he', 'think', 'it', 'wasn', 't', 'a', 'dream', 'his', 'room', 'a', 'proper', 'human', 'room', 'although', 'a', 'little', 'too', 'small', 'lay', 'peacefully', 'between', 'its', 'four', 'familiar', 'wall', 'a', 'collection', 'of', 'textile', 'sample', 'lie', 'spread', 'out', 'on', 'the', 'table', 'Samsa', 'be', 'a', 'travel', 'salesman', 'and', 'above', 'it', 'there', 'hang', 'a', 'picture', 'that', 'he', 'have', 'recently', 'cut', 'out', 'of', 'an', 'illustrate', 'magazine', 'and', 'house', 'in', 'a', 'nice', 'gild', 'frame', 'it', 'show', 'a', 'lady', 'fit', 'out', 'with', 'a', 'fur', 'hat', 'and', 'fur', 'boa', 'who', 'sit', 'upright', 'raise', 'a', 'heavy', 'fur', 'muff', 'that', 'cover', 'the', 'whole', 'of', 'her', 'low', 'arm', 'towards', 'the', 'viewer', 'Gregor', 'then', 'turn', 'to', 'look', 'out', 'the', 'window', 'at', 'the', 'dull', 'weather']\n"
          ]
        }
      ],
      "source": [
        "# spacy_text = \" \".join([token.text for token in spacy_tokens])\n",
        "text_from_re_tokens = \" \".join([word for word in re_tokens])\n",
        "# spacy_lemmas = [word.lemma_ for word in nlp(text_lines)]\n",
        "spacy_lemmas = [word.lemma_ for word in nlp(text_from_re_tokens)]\n",
        "print(len(spacy_lemmas), spacy_lemmas)"
      ]
    },
    {
      "cell_type": "markdown",
      "metadata": {
        "id": "AwV6ikN7hBRK"
      },
      "source": [
        "### Using `TextBlob`"
      ]
    },
    {
      "cell_type": "code",
      "execution_count": null,
      "metadata": {
        "id": "T22JlwKlhBRK",
        "outputId": "565f3b54-5e48-463e-fdeb-e5526eaeb310"
      },
      "outputs": [
        {
          "name": "stdout",
          "output_type": "stream",
          "text": [
            "200 ['One', 'morning', 'when', 'Gregor', 'Samsa', 'woke', 'from', 'troubled', 'dream', 'he', 'found', 'himself', 'transformed', 'in', 'his', 'bed', 'into', 'a', 'horrible', 'vermin', 'He', 'lay', 'on', 'his', 'armour', 'like', 'back', 'and', 'if', 'he', 'lifted', 'his', 'head', 'a', 'little', 'he', 'could', 'see', 'his', 'brown', 'belly', 'slightly', 'domed', 'and', 'divided', 'by', 'arch', 'into', 'stiff', 'section', 'The', 'bedding', 'wa', 'hardly', 'able', 'to', 'cover', 'it', 'and', 'seemed', 'ready', 'to', 'slide', 'off', 'any', 'moment', 'His', 'many', 'leg', 'pitifully', 'thin', 'compared', 'with', 'the', 'size', 'of', 'the', 'rest', 'of', 'him', 'waved', 'about', 'helplessly', 'a', 'he', 'looked', 'What', 's', 'happened', 'to', 'me', 'he', 'thought', 'It', 'wasn', 't', 'a', 'dream', 'His', 'room', 'a', 'proper', 'human', 'room', 'although', 'a', 'little', 'too', 'small', 'lay', 'peacefully', 'between', 'it', 'four', 'familiar', 'wall', 'A', 'collection', 'of', 'textile', 'sample', 'lay', 'spread', 'out', 'on', 'the', 'table', 'Samsa', 'wa', 'a', 'travelling', 'salesman', 'and', 'above', 'it', 'there', 'hung', 'a', 'picture', 'that', 'he', 'had', 'recently', 'cut', 'out', 'of', 'an', 'illustrated', 'magazine', 'and', 'housed', 'in', 'a', 'nice', 'gilded', 'frame', 'It', 'showed', 'a', 'lady', 'fitted', 'out', 'with', 'a', 'fur', 'hat', 'and', 'fur', 'boa', 'who', 'sat', 'upright', 'raising', 'a', 'heavy', 'fur', 'muff', 'that', 'covered', 'the', 'whole', 'of', 'her', 'lower', 'arm', 'towards', 'the', 'viewer', 'Gregor', 'then', 'turned', 'to', 'look', 'out', 'the', 'window', 'at', 'the', 'dull', 'weather']\n"
          ]
        }
      ],
      "source": [
        "from textblob import TextBlob, Word\n",
        "\n",
        "# create a TextBlob for our sentence\n",
        "sent_tb = TextBlob(text_from_re_tokens)\n",
        "\n",
        "# lemmatize each word\n",
        "blob_lemmas = [word.lemmatize() for word in sent_tb.words]\n",
        "print(len(blob_lemmas), blob_lemmas)"
      ]
    },
    {
      "cell_type": "markdown",
      "metadata": {
        "id": "xyZ8ha02hBRK"
      },
      "source": [
        "### Adding POS Tags to `nltk` and `TextBlob`"
      ]
    },
    {
      "cell_type": "markdown",
      "metadata": {
        "id": "2bSmfVaDhBRK"
      },
      "source": [
        "By default, `nltk` and `TextBlob` treat every word as a noun. This is why words like \"woke\", \"found\", or \"transformed\" don't change after the lemmatization step. We can provide more information by adding the corresponding Part of Speech for each token.\n",
        "\n",
        "In `nltk`:\n",
        "\n",
        " - we use `pos_tag()` to get tokens along with tags\n",
        " - we call the `lemmatize()` function with the second parameter, that is a tag\n",
        "\n",
        "[Source](https://www.guru99.com/stemming-lemmatization-python-nltk.html)"
      ]
    },
    {
      "cell_type": "code",
      "execution_count": null,
      "metadata": {
        "id": "hkjWGNOVhBRK",
        "outputId": "16e19dee-cc44-414f-c971-48fc8b6dbbbd"
      },
      "outputs": [
        {
          "name": "stdout",
          "output_type": "stream",
          "text": [
            "['One', 'morning', 'when', 'Gregor', 'Samsa', 'wake', 'from', 'troubled', 'dream', 'he', 'find', 'himself', 'transform', 'in', 'his', 'bed', 'into', 'a', 'horrible', 'vermin', 'He', 'lay', 'on', 'his', 'armour', 'like', 'back', 'and', 'if', 'he', 'lift', 'his', 'head', 'a', 'little', 'he', 'could', 'see', 'his', 'brown', 'belly', 'slightly', 'domed', 'and', 'divide', 'by', 'arch', 'into', 'stiff', 'section', 'The', 'bedding', 'be', 'hardly', 'able', 'to', 'cover', 'it', 'and', 'seem', 'ready', 'to', 'slide', 'off', 'any', 'moment', 'His', 'many', 'leg', 'pitifully', 'thin', 'compare', 'with', 'the', 'size', 'of', 'the', 'rest', 'of', 'him', 'wave', 'about', 'helplessly', 'a', 'he', 'look', 'What', 's', 'happen', 'to', 'me', 'he', 'think', 'It', 'wasn', 't', 'a', 'dream', 'His', 'room', 'a', 'proper', 'human', 'room', 'although', 'a', 'little', 'too', 'small', 'lay', 'peacefully', 'between', 'it', 'four', 'familiar', 'wall', 'A', 'collection', 'of', 'textile', 'sample', 'lay', 'spread', 'out', 'on', 'the', 'table', 'Samsa', 'be', 'a', 'travelling', 'salesman', 'and', 'above', 'it', 'there', 'hang', 'a', 'picture', 'that', 'he', 'have', 'recently', 'cut', 'out', 'of', 'an', 'illustrated', 'magazine', 'and', 'house', 'in', 'a', 'nice', 'gild', 'frame', 'It', 'show', 'a', 'lady', 'fit', 'out', 'with', 'a', 'fur', 'hat', 'and', 'fur', 'boa', 'who', 'sit', 'upright', 'raise', 'a', 'heavy', 'fur', 'muff', 'that', 'cover', 'the', 'whole', 'of', 'her', 'low', 'arm', 'towards', 'the', 'viewer', 'Gregor', 'then', 'turn', 'to', 'look', 'out', 'the', 'window', 'at', 'the', 'dull', 'weather']\n"
          ]
        }
      ],
      "source": [
        "from nltk.corpus import wordnet as wn\n",
        "from nltk import pos_tag\n",
        "from collections import defaultdict\n",
        "\n",
        "tag_map_nltk = defaultdict(lambda : wn.NOUN)\n",
        "tag_map_nltk['J'] = wn.ADJ\n",
        "tag_map_nltk['V'] = wn.VERB\n",
        "tag_map_nltk['R'] = wn.ADV\n",
        "\n",
        "nltk_lemmas2 = [nltk_lemmatizer.lemmatize(token, tag_map_nltk[tag[0]]) for token, tag in pos_tag(re_tokens)]\n",
        "print(nltk_lemmas2)"
      ]
    },
    {
      "cell_type": "markdown",
      "metadata": {
        "id": "cN-AUZoJhBRK"
      },
      "source": [
        "In `TextBlob`:\n",
        "\n",
        " - we call `TextBlob(text).tags` to get tokens and tags\n",
        " - we call `word.lemmatize()` with the tag parameter\n",
        "\n",
        "[Source](https://www.machinelearningplus.com/nlp/lemmatization-examples-python/#textbloblemmatizer)"
      ]
    },
    {
      "cell_type": "code",
      "execution_count": null,
      "metadata": {
        "id": "pUG1MnQbhBRL",
        "outputId": "04872446-dc8d-46ab-e117-8065b57334cc"
      },
      "outputs": [
        {
          "name": "stdout",
          "output_type": "stream",
          "text": [
            "200 ['One', 'morning', 'when', 'Gregor', 'Samsa', 'wake', 'from', 'troubled', 'dream', 'he', 'find', 'himself', 'transform', 'in', 'his', 'bed', 'into', 'a', 'horrible', 'vermin', 'He', 'lay', 'on', 'his', 'armour', 'like', 'back', 'and', 'if', 'he', 'lift', 'his', 'head', 'a', 'little', 'he', 'could', 'see', 'his', 'brown', 'belly', 'slightly', 'domed', 'and', 'divide', 'by', 'arch', 'into', 'stiff', 'section', 'The', 'bedding', 'be', 'hardly', 'able', 'to', 'cover', 'it', 'and', 'seem', 'ready', 'to', 'slide', 'off', 'any', 'moment', 'His', 'many', 'leg', 'pitifully', 'thin', 'compare', 'with', 'the', 'size', 'of', 'the', 'rest', 'of', 'him', 'wave', 'about', 'helplessly', 'a', 'he', 'look', 'What', 's', 'happen', 'to', 'me', 'he', 'think', 'It', 'wasn', 't', 'a', 'dream', 'His', 'room', 'a', 'proper', 'human', 'room', 'although', 'a', 'little', 'too', 'small', 'lay', 'peacefully', 'between', 'it', 'four', 'familiar', 'wall', 'A', 'collection', 'of', 'textile', 'sample', 'lay', 'spread', 'out', 'on', 'the', 'table', 'Samsa', 'be', 'a', 'travelling', 'salesman', 'and', 'above', 'it', 'there', 'hang', 'a', 'picture', 'that', 'he', 'have', 'recently', 'cut', 'out', 'of', 'an', 'illustrated', 'magazine', 'and', 'house', 'in', 'a', 'nice', 'gild', 'frame', 'It', 'show', 'a', 'lady', 'fit', 'out', 'with', 'a', 'fur', 'hat', 'and', 'fur', 'boa', 'who', 'sit', 'upright', 'raise', 'a', 'heavy', 'fur', 'muff', 'that', 'cover', 'the', 'whole', 'of', 'her', 'low', 'arm', 'towards', 'the', 'viewer', 'Gregor', 'then', 'turn', 'to', 'look', 'out', 'the', 'window', 'at', 'the', 'dull', 'weather']\n"
          ]
        }
      ],
      "source": [
        "tag_map_tb = {  \"J\": 'a', # adjectives\n",
        "                \"N\": 'n', # nouns\n",
        "                \"V\": 'v', # verbs\n",
        "                \"R\": 'r'} # adverbs\n",
        "\n",
        "words_and_tags = [(w, tag_map_tb.get(pos[0], 'n')) for w, pos in sent_tb.tags]\n",
        "blob_lemmas2 = [word.lemmatize(tag) for word, tag in words_and_tags]\n",
        "print(len(blob_lemmas2), blob_lemmas2)"
      ]
    },
    {
      "cell_type": "markdown",
      "metadata": {
        "id": "eVCp9p0DhBRL"
      },
      "source": [
        "### Comparing Results"
      ]
    },
    {
      "cell_type": "code",
      "execution_count": null,
      "metadata": {
        "id": "YKBF0NtshBRL",
        "outputId": "c9f6bd76-c8d5-4072-f1a7-b0562be8546c"
      },
      "outputs": [
        {
          "data": {
            "text/plain": [
              "[]"
            ]
          },
          "execution_count": 61,
          "metadata": {},
          "output_type": "execute_result"
        }
      ],
      "source": [
        "list(set(nltk_lemmas) ^ set(blob_lemmas))"
      ]
    },
    {
      "cell_type": "code",
      "execution_count": null,
      "metadata": {
        "id": "rYS2eeUKhBRL",
        "outputId": "ac0e27b8-68cf-48b5-fbc5-84932ae42984"
      },
      "outputs": [
        {
          "data": {
            "text/plain": [
              "[]"
            ]
          },
          "execution_count": 62,
          "metadata": {},
          "output_type": "execute_result"
        }
      ],
      "source": [
        "list(set(nltk_lemmas2) ^ set(blob_lemmas2))"
      ]
    },
    {
      "cell_type": "markdown",
      "metadata": {
        "id": "wgn8PWTXhBRL"
      },
      "source": [
        "`nltk` and `TextBlob` return identical results.\n",
        "\n",
        "Let's see what's changed after applying POS tags"
      ]
    },
    {
      "cell_type": "code",
      "execution_count": null,
      "metadata": {
        "id": "TAqd-tJghBRL",
        "outputId": "b45bddca-df33-4b80-c65f-c5cccd0a9648"
      },
      "outputs": [
        {
          "data": {
            "text/plain": [
              "['be',\n",
              " 'compare',\n",
              " 'compared',\n",
              " 'covered',\n",
              " 'divide',\n",
              " 'divided',\n",
              " 'find',\n",
              " 'fit',\n",
              " 'fitted',\n",
              " 'found',\n",
              " 'gild',\n",
              " 'gilded',\n",
              " 'had',\n",
              " 'hang',\n",
              " 'happen',\n",
              " 'happened',\n",
              " 'have',\n",
              " 'house',\n",
              " 'housed',\n",
              " 'hung',\n",
              " 'lift',\n",
              " 'lifted',\n",
              " 'looked',\n",
              " 'low',\n",
              " 'lower',\n",
              " 'raise',\n",
              " 'raising',\n",
              " 'sat',\n",
              " 'seem',\n",
              " 'seemed',\n",
              " 'show',\n",
              " 'showed',\n",
              " 'sit',\n",
              " 'think',\n",
              " 'thought',\n",
              " 'transform',\n",
              " 'transformed',\n",
              " 'turn',\n",
              " 'turned',\n",
              " 'wa',\n",
              " 'wake',\n",
              " 'wave',\n",
              " 'waved',\n",
              " 'woke']"
            ]
          },
          "execution_count": 63,
          "metadata": {},
          "output_type": "execute_result"
        }
      ],
      "source": [
        "sorted(list(set(nltk_lemmas) ^ set(nltk_lemmas2)))"
      ]
    },
    {
      "cell_type": "markdown",
      "metadata": {
        "id": "7LiOioMihBRL"
      },
      "source": [
        "`nltk` did a great job at turning past tense verbs to the present tense"
      ]
    },
    {
      "cell_type": "markdown",
      "metadata": {
        "id": "jeuBDqENhBRL"
      },
      "source": [
        "## Stemming with `nltk`\n",
        "\n",
        "Compare 2 types of Stemmers. [Source](https://stackoverflow.com/questions/24647400/what-is-the-best-stemming-method-in-python)"
      ]
    },
    {
      "cell_type": "markdown",
      "metadata": {
        "id": "XFCPODXchBRM"
      },
      "source": [
        "### Using `PorterStemmer()`"
      ]
    },
    {
      "cell_type": "code",
      "execution_count": null,
      "metadata": {
        "id": "JKejgnpwhBRM",
        "outputId": "fcaa93ce-4778-448c-ca83-9bf11b69c92f"
      },
      "outputs": [
        {
          "name": "stdout",
          "output_type": "stream",
          "text": [
            "['one', 'morn', 'when', 'gregor', 'samsa', 'woke', 'from', 'troubl', 'dream', 'he', 'found', 'himself', 'transform', 'in', 'hi', 'bed', 'into', 'a', 'horribl', 'vermin', 'he', 'lay', 'on', 'hi', 'armour', 'like', 'back', 'and', 'if', 'he', 'lift', 'hi', 'head', 'a', 'littl', 'he', 'could', 'see', 'hi', 'brown', 'belli', 'slightli', 'dome', 'and', 'divid', 'by', 'arch', 'into', 'stiff', 'section', 'the', 'bed', 'wa', 'hardli', 'abl', 'to', 'cover', 'it', 'and', 'seem', 'readi', 'to', 'slide', 'off', 'ani', 'moment', 'hi', 'mani', 'leg', 'piti', 'thin', 'compar', 'with', 'the', 'size', 'of', 'the', 'rest', 'of', 'him', 'wave', 'about', 'helplessli', 'as', 'he', 'look', 'what', 's', 'happen', 'to', 'me', 'he', 'thought', 'it', 'wasn', 't', 'a', 'dream', 'hi', 'room', 'a', 'proper', 'human', 'room', 'although', 'a', 'littl', 'too', 'small', 'lay', 'peac', 'between', 'it', 'four', 'familiar', 'wall', 'a', 'collect', 'of', 'textil', 'sampl', 'lay', 'spread', 'out', 'on', 'the', 'tabl', 'samsa', 'wa', 'a', 'travel', 'salesman', 'and', 'abov', 'it', 'there', 'hung', 'a', 'pictur', 'that', 'he', 'had', 'recent', 'cut', 'out', 'of', 'an', 'illustr', 'magazin', 'and', 'hous', 'in', 'a', 'nice', 'gild', 'frame', 'it', 'show', 'a', 'ladi', 'fit', 'out', 'with', 'a', 'fur', 'hat', 'and', 'fur', 'boa', 'who', 'sat', 'upright', 'rais', 'a', 'heavi', 'fur', 'muff', 'that', 'cover', 'the', 'whole', 'of', 'her', 'lower', 'arm', 'toward', 'the', 'viewer', 'gregor', 'then', 'turn', 'to', 'look', 'out', 'the', 'window', 'at', 'the', 'dull', 'weather']\n"
          ]
        }
      ],
      "source": [
        "from nltk.stem import PorterStemmer\n",
        "\n",
        "ps = PorterStemmer()\n",
        "\n",
        "ps_stemms = [ps.stem(w) for w in re_tokens]\n",
        "print(ps_stemms)"
      ]
    },
    {
      "cell_type": "code",
      "execution_count": null,
      "metadata": {
        "id": "KxoIEYVXhBRM",
        "outputId": "42482cf7-03d9-46e9-c717-d2c36d1c932f"
      },
      "outputs": [
        {
          "name": "stdout",
          "output_type": "stream",
          "text": [
            "['one', 'morn', 'when', 'gregor', 'samsa', 'woke', 'from', 'troubl', 'dream', 'he', 'found', 'himself', 'transform', 'in', 'his', 'bed', 'into', 'a', 'horribl', 'vermin', 'he', 'lay', 'on', 'his', 'armour', 'like', 'back', 'and', 'if', 'he', 'lift', 'his', 'head', 'a', 'littl', 'he', 'could', 'see', 'his', 'brown', 'belli', 'slight', 'dome', 'and', 'divid', 'by', 'arch', 'into', 'stiff', 'section', 'the', 'bed', 'was', 'hard', 'abl', 'to', 'cover', 'it', 'and', 'seem', 'readi', 'to', 'slide', 'off', 'ani', 'moment', 'his', 'mani', 'leg', 'piti', 'thin', 'compar', 'with', 'the', 'size', 'of', 'the', 'rest', 'of', 'him', 'wave', 'about', 'helpless', 'as', 'he', 'look', 'what', 's', 'happen', 'to', 'me', 'he', 'thought', 'it', 'wasn', 't', 'a', 'dream', 'his', 'room', 'a', 'proper', 'human', 'room', 'although', 'a', 'littl', 'too', 'small', 'lay', 'peac', 'between', 'it', 'four', 'familiar', 'wall', 'a', 'collect', 'of', 'textil', 'sampl', 'lay', 'spread', 'out', 'on', 'the', 'tabl', 'samsa', 'was', 'a', 'travel', 'salesman', 'and', 'abov', 'it', 'there', 'hung', 'a', 'pictur', 'that', 'he', 'had', 'recent', 'cut', 'out', 'of', 'an', 'illustr', 'magazin', 'and', 'hous', 'in', 'a', 'nice', 'gild', 'frame', 'it', 'show', 'a', 'ladi', 'fit', 'out', 'with', 'a', 'fur', 'hat', 'and', 'fur', 'boa', 'who', 'sat', 'upright', 'rais', 'a', 'heavi', 'fur', 'muff', 'that', 'cover', 'the', 'whole', 'of', 'her', 'lower', 'arm', 'toward', 'the', 'viewer', 'gregor', 'then', 'turn', 'to', 'look', 'out', 'the', 'window', 'at', 'the', 'dull', 'weather']\n"
          ]
        }
      ],
      "source": [
        "from nltk.stem import SnowballStemmer\n",
        "\n",
        "sno = SnowballStemmer('english')\n",
        "\n",
        "sno_stemms = [sno.stem(w) for w in re_tokens]\n",
        "print(sno_stemms)"
      ]
    },
    {
      "cell_type": "code",
      "execution_count": null,
      "metadata": {
        "id": "zxIWiFWchBRM",
        "outputId": "cbc7966c-627a-4c30-c5da-c0bcb8fdfd42"
      },
      "outputs": [
        {
          "data": {
            "text/plain": [
              "['hard',\n",
              " 'hardli',\n",
              " 'helpless',\n",
              " 'helplessli',\n",
              " 'hi',\n",
              " 'his',\n",
              " 'slight',\n",
              " 'slightli',\n",
              " 'wa',\n",
              " 'was']"
            ]
          },
          "execution_count": 66,
          "metadata": {},
          "output_type": "execute_result"
        }
      ],
      "source": [
        "sorted(list(set(ps_stemms) ^ set(sno_stemms)))"
      ]
    },
    {
      "cell_type": "markdown",
      "metadata": {
        "id": "6tPJC0zHhBRM"
      },
      "source": [
        "`PorterStemmer` and `SnowballStemmer` handle adverbs differently"
      ]
    },
    {
      "cell_type": "markdown",
      "metadata": {
        "id": "9grojyZ8hBRM"
      },
      "source": []
    }
  ],
  "metadata": {
    "interpreter": {
      "hash": "9a4f0234084b86db25ca1539382b5a4944f4886887c3cc83d09ff270c40bf732"
    },
    "kernelspec": {
      "display_name": "Python 3.8.10 64-bit ('venv': venv)",
      "language": "python",
      "name": "python3"
    },
    "language_info": {
      "codemirror_mode": {
        "name": "ipython",
        "version": 3
      },
      "file_extension": ".py",
      "mimetype": "text/x-python",
      "name": "python",
      "nbconvert_exporter": "python",
      "pygments_lexer": "ipython3",
      "version": "3.8.10"
    },
    "orig_nbformat": 4,
    "colab": {
      "provenance": [],
      "include_colab_link": true
    }
  },
  "nbformat": 4,
  "nbformat_minor": 0
}