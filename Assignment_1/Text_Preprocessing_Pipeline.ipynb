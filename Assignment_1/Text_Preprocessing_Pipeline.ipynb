{
  "nbformat": 4,
  "nbformat_minor": 0,
  "metadata": {
    "colab": {
      "provenance": []
    },
    "kernelspec": {
      "name": "python3",
      "display_name": "Python 3"
    },
    "language_info": {
      "name": "python"
    }
  },
  "cells": [
    {
      "cell_type": "markdown",
      "source": [
        "**Title:** Implementing a Text Preprocessing Pipeline in Jupyter Notebook or Google Colab"
      ],
      "metadata": {
        "id": "GkuD-YnxQEgt"
      }
    },
    {
      "cell_type": "markdown",
      "source": [
        "**Objective:**\n",
        "**By the end of this activity, students will be able to: **\n",
        "\n",
        "1. Understand the importance of text preprocessing in Natural\n",
        "2. Extract a sample dataset from NLTK and store it in a structured format.\n",
        "3. Implement a text preprocessing pipeline that includes:\n",
        "  a. Lowercasing\n",
        "  b. Special character removal\n",
        "  c. Stopword removal\n",
        "  d. Tokenization\n",
        "4. Apply the preprocessing pipeline to real-world text data using Jupyter Notebook or Google Colab\n",
        "\n",
        "\n",
        "\n",
        "\n",
        "\n",
        "\n"
      ],
      "metadata": {
        "id": "d5QV-3CiQHa1"
      }
    },
    {
      "cell_type": "markdown",
      "source": [
        "Install NLTK and necessary libraries"
      ],
      "metadata": {
        "id": "Eqil_qpTQz0A"
      }
    },
    {
      "cell_type": "code",
      "execution_count": 11,
      "metadata": {
        "colab": {
          "base_uri": "https://localhost:8080/"
        },
        "id": "WgqKXQzpPkxU",
        "outputId": "04e6514b-6b8b-42be-efa2-722a43d1d398"
      },
      "outputs": [
        {
          "output_type": "stream",
          "name": "stdout",
          "text": [
            "Requirement already satisfied: nltk in /usr/local/lib/python3.11/dist-packages (3.9.1)\n",
            "Requirement already satisfied: pandas in /usr/local/lib/python3.11/dist-packages (2.2.2)\n",
            "Requirement already satisfied: click in /usr/local/lib/python3.11/dist-packages (from nltk) (8.2.1)\n",
            "Requirement already satisfied: joblib in /usr/local/lib/python3.11/dist-packages (from nltk) (1.5.1)\n",
            "Requirement already satisfied: regex>=2021.8.3 in /usr/local/lib/python3.11/dist-packages (from nltk) (2024.11.6)\n",
            "Requirement already satisfied: tqdm in /usr/local/lib/python3.11/dist-packages (from nltk) (4.67.1)\n",
            "Requirement already satisfied: numpy>=1.23.2 in /usr/local/lib/python3.11/dist-packages (from pandas) (2.0.2)\n",
            "Requirement already satisfied: python-dateutil>=2.8.2 in /usr/local/lib/python3.11/dist-packages (from pandas) (2.9.0.post0)\n",
            "Requirement already satisfied: pytz>=2020.1 in /usr/local/lib/python3.11/dist-packages (from pandas) (2025.2)\n",
            "Requirement already satisfied: tzdata>=2022.7 in /usr/local/lib/python3.11/dist-packages (from pandas) (2025.2)\n",
            "Requirement already satisfied: six>=1.5 in /usr/local/lib/python3.11/dist-packages (from python-dateutil>=2.8.2->pandas) (1.17.0)\n"
          ]
        }
      ],
      "source": [
        "!pip install nltk pandas  # Use in Google Colab or Jupyter Notebook\n",
        "\n"
      ]
    },
    {
      "cell_type": "markdown",
      "source": [
        "Import the required libraries"
      ],
      "metadata": {
        "id": "kPVkbFbEQ4nZ"
      }
    },
    {
      "cell_type": "code",
      "source": [
        "import nltk\n",
        "from nltk.corpus import movie_reviews\n",
        "import pandas as pd\n",
        "import random\n",
        "import re\n",
        "from nltk.corpus import stopwords\n",
        "from nltk.tokenize import word_tokenize\n",
        "\n",
        "# Download necessary datasets\n",
        "nltk.download('movie_reviews')\n",
        "nltk.download('punkt')\n",
        "nltk.download('stopwords')\n"
      ],
      "metadata": {
        "colab": {
          "base_uri": "https://localhost:8080/"
        },
        "id": "MwQKXQWbQ5FR",
        "outputId": "c4b8ed37-f789-4d0d-823d-0de8839d9a44"
      },
      "execution_count": 12,
      "outputs": [
        {
          "output_type": "stream",
          "name": "stderr",
          "text": [
            "[nltk_data] Downloading package movie_reviews to /root/nltk_data...\n",
            "[nltk_data]   Package movie_reviews is already up-to-date!\n",
            "[nltk_data] Downloading package punkt to /root/nltk_data...\n",
            "[nltk_data]   Package punkt is already up-to-date!\n",
            "[nltk_data] Downloading package stopwords to /root/nltk_data...\n",
            "[nltk_data]   Package stopwords is already up-to-date!\n"
          ]
        },
        {
          "output_type": "execute_result",
          "data": {
            "text/plain": [
              "True"
            ]
          },
          "metadata": {},
          "execution_count": 12
        }
      ]
    },
    {
      "cell_type": "markdown",
      "source": [
        "**Load and Save the Sample Dataset from NLTK**"
      ],
      "metadata": {
        "id": "F6EPrW9TRLpy"
      }
    },
    {
      "cell_type": "markdown",
      "source": [
        "Extract movie review texts and their corresponding labels (positive/negative):\n"
      ],
      "metadata": {
        "id": "K6KFjctcRNgw"
      }
    },
    {
      "cell_type": "code",
      "source": [
        "# Get a list of file IDs\n",
        "file_ids = movie_reviews.fileids()\n",
        "\n",
        "# Create a list of (text, category) tuples\n",
        "dataset = [(movie_reviews.raw(file_id), movie_reviews.categories(file_id)[0]) for file_id in file_ids]\n",
        "\n",
        "# Shuffle the dataset for randomness\n",
        "random.shuffle(dataset)\n",
        "\n",
        "# Convert into a DataFrame\n",
        "df = pd.DataFrame(dataset, columns=[\"text\", \"category\"])\n",
        "\n",
        "# Display sample data\n",
        "df.head()\n"
      ],
      "metadata": {
        "colab": {
          "base_uri": "https://localhost:8080/",
          "height": 206
        },
        "id": "0B2tj-T8Q8Qo",
        "outputId": "8eec37fb-59f1-4905-bbd2-152eec87d8ca"
      },
      "execution_count": 13,
      "outputs": [
        {
          "output_type": "execute_result",
          "data": {
            "text/plain": [
              "                                                text category\n",
              "0  this british import follows the ( mis- ) adven...      pos\n",
              "1  i remember really enjoying this movie when i s...      neg\n",
              "2  synopsis : melissa , a mentally-disturbed woma...      neg\n",
              "3  i had been expecting more of this movie than t...      pos\n",
              "4  whenever writer/director robert altman works i...      pos"
            ],
            "text/html": [
              "\n",
              "  <div id=\"df-e4197cbb-671d-4ffa-b132-887f86bbaa70\" class=\"colab-df-container\">\n",
              "    <div>\n",
              "<style scoped>\n",
              "    .dataframe tbody tr th:only-of-type {\n",
              "        vertical-align: middle;\n",
              "    }\n",
              "\n",
              "    .dataframe tbody tr th {\n",
              "        vertical-align: top;\n",
              "    }\n",
              "\n",
              "    .dataframe thead th {\n",
              "        text-align: right;\n",
              "    }\n",
              "</style>\n",
              "<table border=\"1\" class=\"dataframe\">\n",
              "  <thead>\n",
              "    <tr style=\"text-align: right;\">\n",
              "      <th></th>\n",
              "      <th>text</th>\n",
              "      <th>category</th>\n",
              "    </tr>\n",
              "  </thead>\n",
              "  <tbody>\n",
              "    <tr>\n",
              "      <th>0</th>\n",
              "      <td>this british import follows the ( mis- ) adven...</td>\n",
              "      <td>pos</td>\n",
              "    </tr>\n",
              "    <tr>\n",
              "      <th>1</th>\n",
              "      <td>i remember really enjoying this movie when i s...</td>\n",
              "      <td>neg</td>\n",
              "    </tr>\n",
              "    <tr>\n",
              "      <th>2</th>\n",
              "      <td>synopsis : melissa , a mentally-disturbed woma...</td>\n",
              "      <td>neg</td>\n",
              "    </tr>\n",
              "    <tr>\n",
              "      <th>3</th>\n",
              "      <td>i had been expecting more of this movie than t...</td>\n",
              "      <td>pos</td>\n",
              "    </tr>\n",
              "    <tr>\n",
              "      <th>4</th>\n",
              "      <td>whenever writer/director robert altman works i...</td>\n",
              "      <td>pos</td>\n",
              "    </tr>\n",
              "  </tbody>\n",
              "</table>\n",
              "</div>\n",
              "    <div class=\"colab-df-buttons\">\n",
              "\n",
              "  <div class=\"colab-df-container\">\n",
              "    <button class=\"colab-df-convert\" onclick=\"convertToInteractive('df-e4197cbb-671d-4ffa-b132-887f86bbaa70')\"\n",
              "            title=\"Convert this dataframe to an interactive table.\"\n",
              "            style=\"display:none;\">\n",
              "\n",
              "  <svg xmlns=\"http://www.w3.org/2000/svg\" height=\"24px\" viewBox=\"0 -960 960 960\">\n",
              "    <path d=\"M120-120v-720h720v720H120Zm60-500h600v-160H180v160Zm220 220h160v-160H400v160Zm0 220h160v-160H400v160ZM180-400h160v-160H180v160Zm440 0h160v-160H620v160ZM180-180h160v-160H180v160Zm440 0h160v-160H620v160Z\"/>\n",
              "  </svg>\n",
              "    </button>\n",
              "\n",
              "  <style>\n",
              "    .colab-df-container {\n",
              "      display:flex;\n",
              "      gap: 12px;\n",
              "    }\n",
              "\n",
              "    .colab-df-convert {\n",
              "      background-color: #E8F0FE;\n",
              "      border: none;\n",
              "      border-radius: 50%;\n",
              "      cursor: pointer;\n",
              "      display: none;\n",
              "      fill: #1967D2;\n",
              "      height: 32px;\n",
              "      padding: 0 0 0 0;\n",
              "      width: 32px;\n",
              "    }\n",
              "\n",
              "    .colab-df-convert:hover {\n",
              "      background-color: #E2EBFA;\n",
              "      box-shadow: 0px 1px 2px rgba(60, 64, 67, 0.3), 0px 1px 3px 1px rgba(60, 64, 67, 0.15);\n",
              "      fill: #174EA6;\n",
              "    }\n",
              "\n",
              "    .colab-df-buttons div {\n",
              "      margin-bottom: 4px;\n",
              "    }\n",
              "\n",
              "    [theme=dark] .colab-df-convert {\n",
              "      background-color: #3B4455;\n",
              "      fill: #D2E3FC;\n",
              "    }\n",
              "\n",
              "    [theme=dark] .colab-df-convert:hover {\n",
              "      background-color: #434B5C;\n",
              "      box-shadow: 0px 1px 3px 1px rgba(0, 0, 0, 0.15);\n",
              "      filter: drop-shadow(0px 1px 2px rgba(0, 0, 0, 0.3));\n",
              "      fill: #FFFFFF;\n",
              "    }\n",
              "  </style>\n",
              "\n",
              "    <script>\n",
              "      const buttonEl =\n",
              "        document.querySelector('#df-e4197cbb-671d-4ffa-b132-887f86bbaa70 button.colab-df-convert');\n",
              "      buttonEl.style.display =\n",
              "        google.colab.kernel.accessAllowed ? 'block' : 'none';\n",
              "\n",
              "      async function convertToInteractive(key) {\n",
              "        const element = document.querySelector('#df-e4197cbb-671d-4ffa-b132-887f86bbaa70');\n",
              "        const dataTable =\n",
              "          await google.colab.kernel.invokeFunction('convertToInteractive',\n",
              "                                                    [key], {});\n",
              "        if (!dataTable) return;\n",
              "\n",
              "        const docLinkHtml = 'Like what you see? Visit the ' +\n",
              "          '<a target=\"_blank\" href=https://colab.research.google.com/notebooks/data_table.ipynb>data table notebook</a>'\n",
              "          + ' to learn more about interactive tables.';\n",
              "        element.innerHTML = '';\n",
              "        dataTable['output_type'] = 'display_data';\n",
              "        await google.colab.output.renderOutput(dataTable, element);\n",
              "        const docLink = document.createElement('div');\n",
              "        docLink.innerHTML = docLinkHtml;\n",
              "        element.appendChild(docLink);\n",
              "      }\n",
              "    </script>\n",
              "  </div>\n",
              "\n",
              "\n",
              "    <div id=\"df-077bf86a-c74a-41a6-8401-f302b1ce7c59\">\n",
              "      <button class=\"colab-df-quickchart\" onclick=\"quickchart('df-077bf86a-c74a-41a6-8401-f302b1ce7c59')\"\n",
              "                title=\"Suggest charts\"\n",
              "                style=\"display:none;\">\n",
              "\n",
              "<svg xmlns=\"http://www.w3.org/2000/svg\" height=\"24px\"viewBox=\"0 0 24 24\"\n",
              "     width=\"24px\">\n",
              "    <g>\n",
              "        <path d=\"M19 3H5c-1.1 0-2 .9-2 2v14c0 1.1.9 2 2 2h14c1.1 0 2-.9 2-2V5c0-1.1-.9-2-2-2zM9 17H7v-7h2v7zm4 0h-2V7h2v10zm4 0h-2v-4h2v4z\"/>\n",
              "    </g>\n",
              "</svg>\n",
              "      </button>\n",
              "\n",
              "<style>\n",
              "  .colab-df-quickchart {\n",
              "      --bg-color: #E8F0FE;\n",
              "      --fill-color: #1967D2;\n",
              "      --hover-bg-color: #E2EBFA;\n",
              "      --hover-fill-color: #174EA6;\n",
              "      --disabled-fill-color: #AAA;\n",
              "      --disabled-bg-color: #DDD;\n",
              "  }\n",
              "\n",
              "  [theme=dark] .colab-df-quickchart {\n",
              "      --bg-color: #3B4455;\n",
              "      --fill-color: #D2E3FC;\n",
              "      --hover-bg-color: #434B5C;\n",
              "      --hover-fill-color: #FFFFFF;\n",
              "      --disabled-bg-color: #3B4455;\n",
              "      --disabled-fill-color: #666;\n",
              "  }\n",
              "\n",
              "  .colab-df-quickchart {\n",
              "    background-color: var(--bg-color);\n",
              "    border: none;\n",
              "    border-radius: 50%;\n",
              "    cursor: pointer;\n",
              "    display: none;\n",
              "    fill: var(--fill-color);\n",
              "    height: 32px;\n",
              "    padding: 0;\n",
              "    width: 32px;\n",
              "  }\n",
              "\n",
              "  .colab-df-quickchart:hover {\n",
              "    background-color: var(--hover-bg-color);\n",
              "    box-shadow: 0 1px 2px rgba(60, 64, 67, 0.3), 0 1px 3px 1px rgba(60, 64, 67, 0.15);\n",
              "    fill: var(--button-hover-fill-color);\n",
              "  }\n",
              "\n",
              "  .colab-df-quickchart-complete:disabled,\n",
              "  .colab-df-quickchart-complete:disabled:hover {\n",
              "    background-color: var(--disabled-bg-color);\n",
              "    fill: var(--disabled-fill-color);\n",
              "    box-shadow: none;\n",
              "  }\n",
              "\n",
              "  .colab-df-spinner {\n",
              "    border: 2px solid var(--fill-color);\n",
              "    border-color: transparent;\n",
              "    border-bottom-color: var(--fill-color);\n",
              "    animation:\n",
              "      spin 1s steps(1) infinite;\n",
              "  }\n",
              "\n",
              "  @keyframes spin {\n",
              "    0% {\n",
              "      border-color: transparent;\n",
              "      border-bottom-color: var(--fill-color);\n",
              "      border-left-color: var(--fill-color);\n",
              "    }\n",
              "    20% {\n",
              "      border-color: transparent;\n",
              "      border-left-color: var(--fill-color);\n",
              "      border-top-color: var(--fill-color);\n",
              "    }\n",
              "    30% {\n",
              "      border-color: transparent;\n",
              "      border-left-color: var(--fill-color);\n",
              "      border-top-color: var(--fill-color);\n",
              "      border-right-color: var(--fill-color);\n",
              "    }\n",
              "    40% {\n",
              "      border-color: transparent;\n",
              "      border-right-color: var(--fill-color);\n",
              "      border-top-color: var(--fill-color);\n",
              "    }\n",
              "    60% {\n",
              "      border-color: transparent;\n",
              "      border-right-color: var(--fill-color);\n",
              "    }\n",
              "    80% {\n",
              "      border-color: transparent;\n",
              "      border-right-color: var(--fill-color);\n",
              "      border-bottom-color: var(--fill-color);\n",
              "    }\n",
              "    90% {\n",
              "      border-color: transparent;\n",
              "      border-bottom-color: var(--fill-color);\n",
              "    }\n",
              "  }\n",
              "</style>\n",
              "\n",
              "      <script>\n",
              "        async function quickchart(key) {\n",
              "          const quickchartButtonEl =\n",
              "            document.querySelector('#' + key + ' button');\n",
              "          quickchartButtonEl.disabled = true;  // To prevent multiple clicks.\n",
              "          quickchartButtonEl.classList.add('colab-df-spinner');\n",
              "          try {\n",
              "            const charts = await google.colab.kernel.invokeFunction(\n",
              "                'suggestCharts', [key], {});\n",
              "          } catch (error) {\n",
              "            console.error('Error during call to suggestCharts:', error);\n",
              "          }\n",
              "          quickchartButtonEl.classList.remove('colab-df-spinner');\n",
              "          quickchartButtonEl.classList.add('colab-df-quickchart-complete');\n",
              "        }\n",
              "        (() => {\n",
              "          let quickchartButtonEl =\n",
              "            document.querySelector('#df-077bf86a-c74a-41a6-8401-f302b1ce7c59 button');\n",
              "          quickchartButtonEl.style.display =\n",
              "            google.colab.kernel.accessAllowed ? 'block' : 'none';\n",
              "        })();\n",
              "      </script>\n",
              "    </div>\n",
              "\n",
              "    </div>\n",
              "  </div>\n"
            ],
            "application/vnd.google.colaboratory.intrinsic+json": {
              "type": "dataframe",
              "variable_name": "df",
              "summary": "{\n  \"name\": \"df\",\n  \"rows\": 2000,\n  \"fields\": [\n    {\n      \"column\": \"text\",\n      \"properties\": {\n        \"dtype\": \"string\",\n        \"num_unique_values\": 2000,\n        \"samples\": [\n          \"veteran actor clint eastwood has never looked as grizzled as he does in true crime , his latest directorial effort . \\nwhen steve everett ( his newest character ) gets angry at someone , he glares them down with those famous dirty harry eyes , furrows his brow and frowns like a grizzly bear who's just lost his cubs . \\neastwood has played some particularly despicable characters in his time , but everett could just take the cake . \\nhe gets my vote , at least , partly because `ev' is a drunken affair-a-week womanizer who has many relationship problems , very few of which are with his wife ( diane venora ) . \\nwhen his colleague at the oakland tribune is in an ugly car wreck and dies , everett must take over for her at a vital interview session . \\nthe interview is with frank beacham ( isaiah washington ) , a death-row inmate set to die at midnight for the murder of a pregnant convenience store clerk . \\neastwood furrows his brow . \\nas everett gradually finds information , he realizes that beacham could very well be innocent . \\nhe interviews a key witness ( michael jeter ) , who claims that he burst in the door at pocum's foods because his car had overheated , only to see beacham standing over the dead woman's body , blood on his suspenders , gun in hand . \\nbut everett protests : how could he have seen the gun , which was lowered by his side , with the potato chip rack in front of him ? \\njeter doesn't know what he's talking about . \\neastwood furrows his brow . \\ncrinkled expressions and all , clint is the centre of energy of true crime . \\nthe film is by no means a standard action/suspense yarn , but a thoughtful human story in which the characters come before the shoot-outs . \\nisaiah washington has a break-out performance as frank beacham , and scenes with him and his weary wife ( lisa gay hamilton ) are truly heartfelt moments . \\nbut the best scenes are ones that feature eastwood duking it out with those in authority over him . \\ndenis leary , as everett's editor and boss , has more than a few memorable moments of restrained anger ( you see , ev is sleeping with his wife ) . \\nbut hands down , the most enjoyable segments of the film are when james woods is on camera . \\nplaying the big boss alan mann , woods and eastwood create amusing chemistry and laugh-out-loud punchlines . \\nwhen true crime opts for a high-speed chase to the governer's house at the finale , the quality of film-making takes an abrupt nosedive . \\neastwood was so successful with colorful character portraits that he didn't need to switch lanes . \\ntrue crime is a tension-building , intriguing drama showcase for the talented director and star . \\nthis is a road block he could have easily dismissed ( i furrow my brow ) . \\n . . . . . . . . . . . . . . . . . . . . . . . . . . . \\n\",\n          \"first , i am not a big fan of the x-files tv series . \\ni have nothing against it particularly , i just don't happen to watch it . \\nhaving said that , i can now say that i liked the x-files pretty well . \\nfor us non-fans , there's nothing big going for it , but there are a lot of little things . \\nthe movie opens on an ice cave in north texas in 35 , 000 b . c . \\ntwo proto-humans enter the cave and find a space alien cocooned inside . \\nthe alien breaks free and kills one man in a struggle while the other is seemingly captured by the bloody ooze from the alien . \\nthe movie jumps to the same cave today where a boy ( lucas black , from sling blade ) is captured by the same black ooze . \\nwe then cut to fbi agents scully and mulder ( gillian anderson and david duchovny ) , who have been pulled off of their previous assignment ( investigations into the paranormal ) and put onto the bomb squad detail . \\na caller has threatened a federal building in dallas , texas . \\non a hunch , mulder checks out the building across the street , and , wouldn't you know it , he turns out to be right . \\nthe fbi finds the bomb in time to evacuate but not in time to defuse . \\nfive people die in the blast , and when mulder learns who the victims were , a light bulb goes on over his head . \\nthe two agents team up to investigate , against fbi orders , the links mulder has made . \\ntheir search leads them back to the north texas cave , all across the country , and even to antarctica as they get closer and closer to \\\" the truth . \\\" \\nthe plot , and \\\" the truth , \\\" are uninspired . \\ni got the feeling that what i learned was supposed to shock and amaze me . \\nit didn't . \\nthe possible existence of aliens on earth has been explored so many times before in movies that one could hardly count them . \\nbut the point of the x-files is not what the truth is , but the extent to which it has been hidden . \\nit's a slightly more interesting angle , but it still raises expectations about that \\\" truth \\\" too high . \\nif this were the whole film , i would say the movie was mediocre , perhaps even boring . \\nbut there are other qualities that make me like this movie well enough to recommend it . \\nthe pacing of the film was brisk enough to hold my interest . \\nbefore the audience can get tired of one location , the agents follow a hot tip to another location , and so on and so forth . \\nthe locations are not all computer-generated sets , either . \\nthere are some artificial settings , but the desert night of nevada , the edge of suburbia in texas , and the endless fields of snow in antarctica ( actually somewhere in north america . ) \\nmake this fantastic film feel more real . \\nward russell's cinematography is very good . \\nthe overall look is dark and ominous , appropriate to the intended tone of the film's plot . \\nrussell is able to make something as innocuous as a cornfield look foreboding . \\nwhen the movie is set in darkness , the picture quality is still rich and detailed . \\nfinally , and specifically , there is an incredible shot at night in which the camera crosses the tracks in front of a fast oncoming train . \\ni don't know if the shot is faked in any way , but it looks dangerous , and it looks great . \\nthe movie's soundtrack is also used to convey the dark tone of the film . ( skip \\nto the next paragraph if you have yet to see the movie - there is a spoiler in the following sentences . ) during the opening prehistoric sequence , a howling wind dogs the soundtrack , never giving the characters or the audience an escape from the lonely terrible sound . \\nin one of the movie's most effective sequences , metallic doors suddenly slam open to release a cloud of buzzing bees . \\nthe visuals of the scene are good , but what makes it so surprising and frightening is the sound . \\nthere was no question as to who the movie's stars would be . \\neven so , duchovny and anderson are an interesting pair of actors and a good combination . \\nboth are easy on the eyes and together , they have some good timing , banter , and energy . \\nthere is a hint of chemistry between them , but it never gets in the way of their professional relationship . \\nthey are like a couple of kids out exploring the empty lot at the end of the street . \\nthere might be some romantic interest , but for now they're more interested in their environs than they are in each other . \\nno single element really makes this movie outstanding - not even the sense of paranoia that makes the tv show so popular . \\nbut enough things were done right that the x-files is one of the more interesting summer adventures to come along . \\n\",\n          \"at the end of an action scene in \\\" lara croft : tomb raider , \\\" a wall collapses near the nubile warrior . \\nwith her face on the floor , she gazes into the rubble , then grins abruptly and says \\\" oh , my car keys ! \\\" \\ni mention this scene because it was the only moment in the whole damned production that made me smile . \\nbased on an incredibly popular video game , \\\" lara croft : tomb raider \\\" is a lousy movie . \\nthe structure goes like this : poorly-staged action sequence , boring exposition , poorly-staged action sequence , boring exposition , etc . etc . , the end . \\nbasically , the film exists to showcase angelina jolie's puffy lips and enhanced tits . \\nclose-ups are framed oh-so-carefully to include her million dollar bazooms . \\nrunning scenes highlight her bouncing breasts in vintage \\\" baywatch \\\" fashion . \\nthere's even include a shower scene that offers a brief side view of them . \\nbut the filmmakers are so inept they can't even flash the audience correctly . \\nthe one extended display of nudity is of - get ready for this - a guy . \\nfor no particular reason , a muscular supporting character strolls around naked for about 30 seconds , with each shot composed to barely cover his package , ? la \\\" austin powers . \\\" \\nnow , i enjoy a good looking male body as much as the next gay guy , but what the hell is beefcake doing in a t&a flick aimed at heterosexual males ? \\nof course , what else should one expect in a film that does virtually nothing right ? \\n \\\" tomb raider \\\" sets up elaborate action set pieces , then renders them incomprehensible with needless jump cut editing ( a promising dual bungee cord battle is ruined by excessive cuts ) . \\nit promises a series of exotic locales , then delivers cavernous sets and grimy matte paintings with smoggy skies . \\nthrow in some bargain basement computer graphics and you end up with the ugliest movie to come down the pike in many moons . \\nintended to be a rousing \\\" indiana jones \\\" style adventure , \\\" tomb raider \\\" lacks any sense of tension . \\nthe low point comes when lara is \\\" threatened \\\" by statues of monkey warriors and a giant multi-armed shiva figure that come to life courtesy of cgi . \\neasily the lamest menaces i have ever seen , the creatures move like snails and fall apart with a single shot from a gun . \\nif you ever have to be chased by monsters , pray that you get the monkey warriors . \\n \\\" tomb raider \\\" tells a story , sort of . \\nonce every 5 , 000 years , the planets align . \\na group of very bad men are out to find two halves of an object that , if reassembled just as the planets align , will give them control over time itself . \\nlara's goal is to stop them and rescue her long-missing poppa ( jon voight , jolie's real life dad ) . \\nnone of this matters though , because stunning gaps in internal logic assure that the plot of \\\" lara croft : tomb raider \\\" is as lame as ever other aspect of the film ? except angelina jolie's lips and breasts . \\n\"\n        ],\n        \"semantic_type\": \"\",\n        \"description\": \"\"\n      }\n    },\n    {\n      \"column\": \"category\",\n      \"properties\": {\n        \"dtype\": \"category\",\n        \"num_unique_values\": 2,\n        \"samples\": [\n          \"neg\",\n          \"pos\"\n        ],\n        \"semantic_type\": \"\",\n        \"description\": \"\"\n      }\n    }\n  ]\n}"
            }
          },
          "metadata": {},
          "execution_count": 13
        }
      ]
    },
    {
      "cell_type": "markdown",
      "source": [
        "Save the dataset as a CSV file:"
      ],
      "metadata": {
        "id": "hVTi090ARVbf"
      }
    },
    {
      "cell_type": "code",
      "source": [
        "from google.colab import files\n",
        "files.download('nltk_movie_reviews.csv')\n",
        "\n"
      ],
      "metadata": {
        "colab": {
          "base_uri": "https://localhost:8080/",
          "height": 17
        },
        "id": "_yyJkTCFRV_g",
        "outputId": "548da594-882e-4eb7-e91f-e34ee2a8ee4d"
      },
      "execution_count": 14,
      "outputs": [
        {
          "output_type": "display_data",
          "data": {
            "text/plain": [
              "<IPython.core.display.Javascript object>"
            ],
            "application/javascript": [
              "\n",
              "    async function download(id, filename, size) {\n",
              "      if (!google.colab.kernel.accessAllowed) {\n",
              "        return;\n",
              "      }\n",
              "      const div = document.createElement('div');\n",
              "      const label = document.createElement('label');\n",
              "      label.textContent = `Downloading \"${filename}\": `;\n",
              "      div.appendChild(label);\n",
              "      const progress = document.createElement('progress');\n",
              "      progress.max = size;\n",
              "      div.appendChild(progress);\n",
              "      document.body.appendChild(div);\n",
              "\n",
              "      const buffers = [];\n",
              "      let downloaded = 0;\n",
              "\n",
              "      const channel = await google.colab.kernel.comms.open(id);\n",
              "      // Send a message to notify the kernel that we're ready.\n",
              "      channel.send({})\n",
              "\n",
              "      for await (const message of channel.messages) {\n",
              "        // Send a message to notify the kernel that we're ready.\n",
              "        channel.send({})\n",
              "        if (message.buffers) {\n",
              "          for (const buffer of message.buffers) {\n",
              "            buffers.push(buffer);\n",
              "            downloaded += buffer.byteLength;\n",
              "            progress.value = downloaded;\n",
              "          }\n",
              "        }\n",
              "      }\n",
              "      const blob = new Blob(buffers, {type: 'application/binary'});\n",
              "      const a = document.createElement('a');\n",
              "      a.href = window.URL.createObjectURL(blob);\n",
              "      a.download = filename;\n",
              "      div.appendChild(a);\n",
              "      a.click();\n",
              "      div.remove();\n",
              "    }\n",
              "  "
            ]
          },
          "metadata": {}
        },
        {
          "output_type": "display_data",
          "data": {
            "text/plain": [
              "<IPython.core.display.Javascript object>"
            ],
            "application/javascript": [
              "download(\"download_289ee5c4-6fa7-4d71-bf62-31a4d661175f\", \"nltk_movie_reviews.csv\", 7817630)"
            ]
          },
          "metadata": {}
        }
      ]
    },
    {
      "cell_type": "markdown",
      "source": [
        "**Define the Text Preprocessing Pipeline**"
      ],
      "metadata": {
        "id": "eynSB1U9RfQe"
      }
    },
    {
      "cell_type": "markdown",
      "source": [
        "Implement a function to perform the following preprocessing steps:\n",
        "  1. Lowercasing\n",
        "  2. Special character removal\n",
        "  3. Stopword removal\n",
        "  4. Tokenization\n"
      ],
      "metadata": {
        "id": "IVp41D6-RiTj"
      }
    },
    {
      "cell_type": "code",
      "source": [
        "def preprocess_text(text):\n",
        "    # Step 1: Convert to lowercase\n",
        "    text = text.lower()\n",
        "\n",
        "    # Step 2: Remove special characters\n",
        "    text = re.sub(r'[^a-zA-Z0-9\\s]', '', text)\n",
        "\n",
        "    # Step 3: Remove stopwords\n",
        "    stop_words = set(stopwords.words('english'))\n",
        "    word_tokens = word_tokenize(text)\n",
        "    filtered_text = [word for word in word_tokens if word not in stop_words]\n",
        "\n",
        "    # Step 4: Tokenization (returning list of tokens)\n",
        "    return filtered_text\n"
      ],
      "metadata": {
        "id": "CZIUeigGRXj5"
      },
      "execution_count": 15,
      "outputs": []
    },
    {
      "cell_type": "markdown",
      "source": [
        "**Test the Preprocessing Function**"
      ],
      "metadata": {
        "id": "cE-gHmVsR35a"
      }
    },
    {
      "cell_type": "markdown",
      "source": [
        "Apply the function to a sample sentence:"
      ],
      "metadata": {
        "id": "rlpPTA64R6L1"
      }
    },
    {
      "cell_type": "code",
      "source": [
        "import nltk\n",
        "nltk.download('punkt_tab')\n",
        "\n",
        "sample_text = \"Wow! This movie was amazing, but some parts were too slow.\"\n",
        "processed_text = preprocess_text(sample_text)\n",
        "print(processed_text)\n"
      ],
      "metadata": {
        "colab": {
          "base_uri": "https://localhost:8080/"
        },
        "id": "iOg05bVFR4z1",
        "outputId": "4f915cea-0f00-4cb4-e459-cd691b1b3684"
      },
      "execution_count": 18,
      "outputs": [
        {
          "output_type": "stream",
          "name": "stderr",
          "text": [
            "[nltk_data] Downloading package punkt_tab to /root/nltk_data...\n",
            "[nltk_data]   Unzipping tokenizers/punkt_tab.zip.\n"
          ]
        },
        {
          "output_type": "stream",
          "name": "stdout",
          "text": [
            "['wow', 'movie', 'amazing', 'parts', 'slow']\n"
          ]
        }
      ]
    },
    {
      "cell_type": "markdown",
      "source": [
        "**Apply the Preprocessing Pipeline to the Dataset**"
      ],
      "metadata": {
        "id": "3b1ydO-PSisY"
      }
    },
    {
      "cell_type": "markdown",
      "source": [
        "Apply the function to the \"text\" column of the dataset:\n"
      ],
      "metadata": {
        "id": "6VEaO3kRSlUO"
      }
    },
    {
      "cell_type": "code",
      "source": [
        "df['processed_text'] = df['text'].apply(preprocess_text)\n",
        "df[['text', 'processed_text', 'category']].head()\n"
      ],
      "metadata": {
        "colab": {
          "base_uri": "https://localhost:8080/",
          "height": 206
        },
        "id": "XUlzyH8PScrw",
        "outputId": "664efb74-5ee8-4145-851d-b4b70aa7c60f"
      },
      "execution_count": 19,
      "outputs": [
        {
          "output_type": "execute_result",
          "data": {
            "text/plain": [
              "                                                text  \\\n",
              "0  this british import follows the ( mis- ) adven...   \n",
              "1  i remember really enjoying this movie when i s...   \n",
              "2  synopsis : melissa , a mentally-disturbed woma...   \n",
              "3  i had been expecting more of this movie than t...   \n",
              "4  whenever writer/director robert altman works i...   \n",
              "\n",
              "                                      processed_text category  \n",
              "0  [british, import, follows, mis, adventures, gr...      pos  \n",
              "1  [remember, really, enjoying, movie, saw, years...      neg  \n",
              "2  [synopsis, melissa, mentallydisturbed, woman, ...      neg  \n",
              "3  [expecting, movie, less, thrilling, twister, t...      pos  \n",
              "4  [whenever, writerdirector, robert, altman, wor...      pos  "
            ],
            "text/html": [
              "\n",
              "  <div id=\"df-30af94c2-960c-4188-9511-41e37bd02ace\" class=\"colab-df-container\">\n",
              "    <div>\n",
              "<style scoped>\n",
              "    .dataframe tbody tr th:only-of-type {\n",
              "        vertical-align: middle;\n",
              "    }\n",
              "\n",
              "    .dataframe tbody tr th {\n",
              "        vertical-align: top;\n",
              "    }\n",
              "\n",
              "    .dataframe thead th {\n",
              "        text-align: right;\n",
              "    }\n",
              "</style>\n",
              "<table border=\"1\" class=\"dataframe\">\n",
              "  <thead>\n",
              "    <tr style=\"text-align: right;\">\n",
              "      <th></th>\n",
              "      <th>text</th>\n",
              "      <th>processed_text</th>\n",
              "      <th>category</th>\n",
              "    </tr>\n",
              "  </thead>\n",
              "  <tbody>\n",
              "    <tr>\n",
              "      <th>0</th>\n",
              "      <td>this british import follows the ( mis- ) adven...</td>\n",
              "      <td>[british, import, follows, mis, adventures, gr...</td>\n",
              "      <td>pos</td>\n",
              "    </tr>\n",
              "    <tr>\n",
              "      <th>1</th>\n",
              "      <td>i remember really enjoying this movie when i s...</td>\n",
              "      <td>[remember, really, enjoying, movie, saw, years...</td>\n",
              "      <td>neg</td>\n",
              "    </tr>\n",
              "    <tr>\n",
              "      <th>2</th>\n",
              "      <td>synopsis : melissa , a mentally-disturbed woma...</td>\n",
              "      <td>[synopsis, melissa, mentallydisturbed, woman, ...</td>\n",
              "      <td>neg</td>\n",
              "    </tr>\n",
              "    <tr>\n",
              "      <th>3</th>\n",
              "      <td>i had been expecting more of this movie than t...</td>\n",
              "      <td>[expecting, movie, less, thrilling, twister, t...</td>\n",
              "      <td>pos</td>\n",
              "    </tr>\n",
              "    <tr>\n",
              "      <th>4</th>\n",
              "      <td>whenever writer/director robert altman works i...</td>\n",
              "      <td>[whenever, writerdirector, robert, altman, wor...</td>\n",
              "      <td>pos</td>\n",
              "    </tr>\n",
              "  </tbody>\n",
              "</table>\n",
              "</div>\n",
              "    <div class=\"colab-df-buttons\">\n",
              "\n",
              "  <div class=\"colab-df-container\">\n",
              "    <button class=\"colab-df-convert\" onclick=\"convertToInteractive('df-30af94c2-960c-4188-9511-41e37bd02ace')\"\n",
              "            title=\"Convert this dataframe to an interactive table.\"\n",
              "            style=\"display:none;\">\n",
              "\n",
              "  <svg xmlns=\"http://www.w3.org/2000/svg\" height=\"24px\" viewBox=\"0 -960 960 960\">\n",
              "    <path d=\"M120-120v-720h720v720H120Zm60-500h600v-160H180v160Zm220 220h160v-160H400v160Zm0 220h160v-160H400v160ZM180-400h160v-160H180v160Zm440 0h160v-160H620v160ZM180-180h160v-160H180v160Zm440 0h160v-160H620v160Z\"/>\n",
              "  </svg>\n",
              "    </button>\n",
              "\n",
              "  <style>\n",
              "    .colab-df-container {\n",
              "      display:flex;\n",
              "      gap: 12px;\n",
              "    }\n",
              "\n",
              "    .colab-df-convert {\n",
              "      background-color: #E8F0FE;\n",
              "      border: none;\n",
              "      border-radius: 50%;\n",
              "      cursor: pointer;\n",
              "      display: none;\n",
              "      fill: #1967D2;\n",
              "      height: 32px;\n",
              "      padding: 0 0 0 0;\n",
              "      width: 32px;\n",
              "    }\n",
              "\n",
              "    .colab-df-convert:hover {\n",
              "      background-color: #E2EBFA;\n",
              "      box-shadow: 0px 1px 2px rgba(60, 64, 67, 0.3), 0px 1px 3px 1px rgba(60, 64, 67, 0.15);\n",
              "      fill: #174EA6;\n",
              "    }\n",
              "\n",
              "    .colab-df-buttons div {\n",
              "      margin-bottom: 4px;\n",
              "    }\n",
              "\n",
              "    [theme=dark] .colab-df-convert {\n",
              "      background-color: #3B4455;\n",
              "      fill: #D2E3FC;\n",
              "    }\n",
              "\n",
              "    [theme=dark] .colab-df-convert:hover {\n",
              "      background-color: #434B5C;\n",
              "      box-shadow: 0px 1px 3px 1px rgba(0, 0, 0, 0.15);\n",
              "      filter: drop-shadow(0px 1px 2px rgba(0, 0, 0, 0.3));\n",
              "      fill: #FFFFFF;\n",
              "    }\n",
              "  </style>\n",
              "\n",
              "    <script>\n",
              "      const buttonEl =\n",
              "        document.querySelector('#df-30af94c2-960c-4188-9511-41e37bd02ace button.colab-df-convert');\n",
              "      buttonEl.style.display =\n",
              "        google.colab.kernel.accessAllowed ? 'block' : 'none';\n",
              "\n",
              "      async function convertToInteractive(key) {\n",
              "        const element = document.querySelector('#df-30af94c2-960c-4188-9511-41e37bd02ace');\n",
              "        const dataTable =\n",
              "          await google.colab.kernel.invokeFunction('convertToInteractive',\n",
              "                                                    [key], {});\n",
              "        if (!dataTable) return;\n",
              "\n",
              "        const docLinkHtml = 'Like what you see? Visit the ' +\n",
              "          '<a target=\"_blank\" href=https://colab.research.google.com/notebooks/data_table.ipynb>data table notebook</a>'\n",
              "          + ' to learn more about interactive tables.';\n",
              "        element.innerHTML = '';\n",
              "        dataTable['output_type'] = 'display_data';\n",
              "        await google.colab.output.renderOutput(dataTable, element);\n",
              "        const docLink = document.createElement('div');\n",
              "        docLink.innerHTML = docLinkHtml;\n",
              "        element.appendChild(docLink);\n",
              "      }\n",
              "    </script>\n",
              "  </div>\n",
              "\n",
              "\n",
              "    <div id=\"df-868675be-aa68-4f0c-9f07-39d5b717c7c4\">\n",
              "      <button class=\"colab-df-quickchart\" onclick=\"quickchart('df-868675be-aa68-4f0c-9f07-39d5b717c7c4')\"\n",
              "                title=\"Suggest charts\"\n",
              "                style=\"display:none;\">\n",
              "\n",
              "<svg xmlns=\"http://www.w3.org/2000/svg\" height=\"24px\"viewBox=\"0 0 24 24\"\n",
              "     width=\"24px\">\n",
              "    <g>\n",
              "        <path d=\"M19 3H5c-1.1 0-2 .9-2 2v14c0 1.1.9 2 2 2h14c1.1 0 2-.9 2-2V5c0-1.1-.9-2-2-2zM9 17H7v-7h2v7zm4 0h-2V7h2v10zm4 0h-2v-4h2v4z\"/>\n",
              "    </g>\n",
              "</svg>\n",
              "      </button>\n",
              "\n",
              "<style>\n",
              "  .colab-df-quickchart {\n",
              "      --bg-color: #E8F0FE;\n",
              "      --fill-color: #1967D2;\n",
              "      --hover-bg-color: #E2EBFA;\n",
              "      --hover-fill-color: #174EA6;\n",
              "      --disabled-fill-color: #AAA;\n",
              "      --disabled-bg-color: #DDD;\n",
              "  }\n",
              "\n",
              "  [theme=dark] .colab-df-quickchart {\n",
              "      --bg-color: #3B4455;\n",
              "      --fill-color: #D2E3FC;\n",
              "      --hover-bg-color: #434B5C;\n",
              "      --hover-fill-color: #FFFFFF;\n",
              "      --disabled-bg-color: #3B4455;\n",
              "      --disabled-fill-color: #666;\n",
              "  }\n",
              "\n",
              "  .colab-df-quickchart {\n",
              "    background-color: var(--bg-color);\n",
              "    border: none;\n",
              "    border-radius: 50%;\n",
              "    cursor: pointer;\n",
              "    display: none;\n",
              "    fill: var(--fill-color);\n",
              "    height: 32px;\n",
              "    padding: 0;\n",
              "    width: 32px;\n",
              "  }\n",
              "\n",
              "  .colab-df-quickchart:hover {\n",
              "    background-color: var(--hover-bg-color);\n",
              "    box-shadow: 0 1px 2px rgba(60, 64, 67, 0.3), 0 1px 3px 1px rgba(60, 64, 67, 0.15);\n",
              "    fill: var(--button-hover-fill-color);\n",
              "  }\n",
              "\n",
              "  .colab-df-quickchart-complete:disabled,\n",
              "  .colab-df-quickchart-complete:disabled:hover {\n",
              "    background-color: var(--disabled-bg-color);\n",
              "    fill: var(--disabled-fill-color);\n",
              "    box-shadow: none;\n",
              "  }\n",
              "\n",
              "  .colab-df-spinner {\n",
              "    border: 2px solid var(--fill-color);\n",
              "    border-color: transparent;\n",
              "    border-bottom-color: var(--fill-color);\n",
              "    animation:\n",
              "      spin 1s steps(1) infinite;\n",
              "  }\n",
              "\n",
              "  @keyframes spin {\n",
              "    0% {\n",
              "      border-color: transparent;\n",
              "      border-bottom-color: var(--fill-color);\n",
              "      border-left-color: var(--fill-color);\n",
              "    }\n",
              "    20% {\n",
              "      border-color: transparent;\n",
              "      border-left-color: var(--fill-color);\n",
              "      border-top-color: var(--fill-color);\n",
              "    }\n",
              "    30% {\n",
              "      border-color: transparent;\n",
              "      border-left-color: var(--fill-color);\n",
              "      border-top-color: var(--fill-color);\n",
              "      border-right-color: var(--fill-color);\n",
              "    }\n",
              "    40% {\n",
              "      border-color: transparent;\n",
              "      border-right-color: var(--fill-color);\n",
              "      border-top-color: var(--fill-color);\n",
              "    }\n",
              "    60% {\n",
              "      border-color: transparent;\n",
              "      border-right-color: var(--fill-color);\n",
              "    }\n",
              "    80% {\n",
              "      border-color: transparent;\n",
              "      border-right-color: var(--fill-color);\n",
              "      border-bottom-color: var(--fill-color);\n",
              "    }\n",
              "    90% {\n",
              "      border-color: transparent;\n",
              "      border-bottom-color: var(--fill-color);\n",
              "    }\n",
              "  }\n",
              "</style>\n",
              "\n",
              "      <script>\n",
              "        async function quickchart(key) {\n",
              "          const quickchartButtonEl =\n",
              "            document.querySelector('#' + key + ' button');\n",
              "          quickchartButtonEl.disabled = true;  // To prevent multiple clicks.\n",
              "          quickchartButtonEl.classList.add('colab-df-spinner');\n",
              "          try {\n",
              "            const charts = await google.colab.kernel.invokeFunction(\n",
              "                'suggestCharts', [key], {});\n",
              "          } catch (error) {\n",
              "            console.error('Error during call to suggestCharts:', error);\n",
              "          }\n",
              "          quickchartButtonEl.classList.remove('colab-df-spinner');\n",
              "          quickchartButtonEl.classList.add('colab-df-quickchart-complete');\n",
              "        }\n",
              "        (() => {\n",
              "          let quickchartButtonEl =\n",
              "            document.querySelector('#df-868675be-aa68-4f0c-9f07-39d5b717c7c4 button');\n",
              "          quickchartButtonEl.style.display =\n",
              "            google.colab.kernel.accessAllowed ? 'block' : 'none';\n",
              "        })();\n",
              "      </script>\n",
              "    </div>\n",
              "\n",
              "    </div>\n",
              "  </div>\n"
            ],
            "application/vnd.google.colaboratory.intrinsic+json": {
              "type": "dataframe",
              "summary": "{\n  \"name\": \"df[['text', 'processed_text', 'category']]\",\n  \"rows\": 5,\n  \"fields\": [\n    {\n      \"column\": \"text\",\n      \"properties\": {\n        \"dtype\": \"string\",\n        \"num_unique_values\": 5,\n        \"samples\": [\n          \"i remember really enjoying this movie when i saw it years ago . \\ni guess my memory really sucks . \\nthere is very , very little that is funny in caddyshack . \\nthe laughs are few , and far between , and what there are really aren't that great . \\ncaddyshack , as the name implies , more or less centers on one young caddy working at an exclusive country club . \\nmichael o'keefe plays said caddy . \\nwhy they cast this unknown , fairly untalented actor in the lead role is completely beyond me . \\nthe movie doesn't seem to have a real plot , just a series of scenes that are little more than opportunities for the rest of the cast to mug at the camera . \\nthe only real story , if you can call it that , was a subplot involving the mentally disturbed greens keeper , bill murray , who is having his own private little war against a gopher who is ruining the course . \\nmost of the marginal laughs come from rodney dangerfield and ted knight mugging and overacting for the camera -- with painfully limited success . \\nbill murray is slightly amusing in places , but fairly wasted . \\nthe biggest waste of all is chevy chase , who didn't even crack a smile on my face with his character's lame zen-like approach to golfing . \\nthere are a few decent scenes involving the interaction between dangerfield and knight , but they are far too infrequent to carry the movie . \\ni guess that's what you get for basing a story around an unknown kid . \\ni'm not sure what the writers of this thing were thinking of , but i really think it was something far removed from comedy as they were putting pen to paper . \\nnothing about this movie works . \\nit wouldn't have taken a genius to figure out that this thing wasn't going to fly . \\nmost of the scenes just couldn't possibly be funny . \\nit's as if the writers where off in their own little brain damaged world . \\ni'm sure scenes involving chevy chase and his oneness with the golf ball were supposed to be funny . \\nin reality , they were painfully embarrassing to watch . \\nthere is a scene at the club pool where all the caddies go wild for the \\\" hot babe \\\" of the movie walking by in her bikini . \\nolive oil would have filled out this swimsuit better than this girl . \\neverything about this movie was just completely implausible as far as the comedy was concerned . \\nmaybe if you were drunk out of you mind or high off some sort of illegal narcotic this thing might be funny . \\nbut for the rest of us , stay the hell away from caddyshack . \\n\",\n          \"whenever writer/director robert altman works in a specific genre , he has the tendency to rewrite it on his own terms . \\nhe made the west dirty in \\\" mccabe and mrs . miller \\\" ( 1971 ) , he parodied hard-boiled detective stories in \\\" the long goodbye \\\" ( 1973 ) , and he transformed a cartoon into flesh and blood with \\\" popeye \\\" ( 1980 ) . \\nthe same holds true for his most recent film , \\\" the gingerbread man , \\\" which reinvents a genre that has developed at an exponential rate over the last five years : the john grisham movie . \\nby the time \\\" the gingerbread man \\\" was completed , there was very little evidence that it was ever based on a story by grisham . \\nthere's no idealist young lawyer ala tom cruise , matthew mcconaughey , chris o'donnell or matt damon , and it doesn't feature a great showdown in a courtroom . \\ninstead of being a grand ode to the powers of the legal profession , \\\" the gingerbread man \\\" is a rain-soaked , southern gothic noir thriller with wildly eccentric characters , a twisting plot line , black humor , a somewhat bleak ending , and even altman's trademark full-frontal female nudity . \\nthe central character of the film is rick magruder , who is unlike any of grisham's other lawyer heroes . \\nhe is older , experienced , and rich ; he drives a cherry-red $80 , 000 mercedes that never gets dirty , even in the incessantly pouring rain of savannah , georgia , where the story unfolds . \\nrick is in the midst of an ugly divorce with his wife , leeanne ( famke janssen ) , and he rarely gets to see his two children , jeff ( jesse james ) and libby ( mae whitman ) . \\na reason is never given for the divorce , but it isn't hard to surmise that rick's womanizing had a large part in it . \\nwhenever he's late to pick up the kids on his visitation days , leeanne always assumes it's because he's been \\\" screwing around . \\\" \\nafter an office party celebrating another of his court victories ( he hasn't lost in eight years ) , rick becomes involved with mallory doss ( embeth davidtz ) , one of the catering waitresses . \\nhe drives her home because her car has been stolen , and they end up in bed together . \\nrick finds out that mallory is being terrorized and stalked by her slightly psychotic father , dixon doss ( robert duvall ) , a grungy , stringy , bare-footed old man who leads a commune of other greasy old codgers . \\nit was actually dixon who stole her car that night , and when rick asks why , mallory replies that he always does \\\" weird \\\" stuff like that . \\nas another character puts it , dixon is \\\" a few beers short of six-pack . \\\" \\nrick ends up convincing mallory to have dixon brought to court and tried for competency . \\nhe succeeds with information dug up by clyde pell , a private investigator friend ( robert downey jr . ) , and testimony from mallory's begrudging ex-husband , pete randle ( tom berenger ) . \\ndixon is put in a mental hospital , but his commune buddies succeed in breaking him out . \\nfrom there , the story delves into kidnapping , murder , double-crossing , and even a hurricane that adds an ominous cloud of constant violence to the action . \\naltman's cinematographer , changwei gu , gives the film a dark , soaked look . \\nif it isn't night-time , at least it's raining . \\ngu shoots the interiors , which are almost all dark wood paneling , with a minimum of light . \\na great deal of the action takes place in the leafy georgia backwoods , which altman uses to create an acute sense of dread and vulnerability . \\nin the city there is danger enough , but when rick has to venture into the woods , you can almost feel him leaving all hope of civilization behind as he literally enters another world . \\naltman has worked in just about every conceivable genre , from westerns to epic dramas to comedies . \\nbut , no matter what the genre , he is always sure to give it the altman stamp , which usually consists of all kinds of idiosyncratic quirks and little details that are often missed without repeat viewings . \\n \\\" the gingerbread man \\\" is no different , although his style is much more restrained here . \\nhowever , without those little touches , the film could have easily slumped into a routine action/thriller . \\na great deal of the credit for the film's success can be given to the actors , especially branagh , who rarely works outside of period pieces and his own direction . \\nhere , the british actor consistently maintains a serviceable southern drawl , while making an essentially contemptible character interesting and sympathetic . \\nrick is an extremely flawed man , but branaugh brings real humanity to his character . \\nwithout it , the entire film would fall flat because so much of it is reliant on the audience feeling rick's pain and frustration . \\nthe supporting actors also put in fine performances , including embeth davidtz , who is probably best known for her heart-breaking role as the jewish maid in \\\" schindler's list \\\" ( 1993 ) . \\ntom berenger provides some gruff comic relief , and robert duvall spends most of his on-screen time just looking weird . \\nit doesn't seem like he does much because he has very little spoken dialogue , but watch him closely during the film's one courtroom scene : his entire performance is in his eyes and his body language , and few actors could have pulled it off without being either silly or overbearing . \\nwhile \\\" the gingerbread man \\\" isn't in league with altman's greatest works like \\\" nashville \\\" ( 1975 ) or \\\" the player \\\" ( 1992 ) , it is nonetheless a solid piece of genre filmmaking , which may prove a successful vehicle to restart his somewhat lagging career . \\nsome critics love to stamp films like this as \\\" commercial , \\\" as if altman can only maintain artistic integrity if his films are aimed at a tiny audience and don't make money . \\naltman has done something much better : he took what could have been a generic movie , and by investing artistry and effort , he made it into something more . \\n\",\n          \"synopsis : melissa , a mentally-disturbed woman who likes to smoke , seduces doug , a minor-league baseball player who likes to study anatomy , work on motorcycles , and make out with his girlfriend in a public library . \\nwhen doug decides to stop seeing her , melissa maliciously takes revenge on those around him , including his girlfriend , his mother , and his cat . \\ncomments : malicious , i suppose , is an acceptable moview for what it is : a cheap , b-movie thriller which rips off dozens and dozens of spurned-psycho-lover-who-wants-revenge films ( like fatal attraction , hand that rocks the cradle , etc . etc . ) that have come before it . \\nmalicious , however , really doesn't provide very many particularly suspenseful moments . \\nthe plot starts off energetically enough , the main characters are introduced and the affair between doug and melissa begins and ends pretty early on in the film . \\nit starts to drag , unfortunately , after this . \\nmelissa will obviously try to take her revenge on doug ( as always seems to happen in movies like these ) , but she does so in unimaginative ways that have been done in other , better thrillers before . \\nshe drugs someone . \\nshe kills a family pet and leaves it in the girlfriend's apartment . \\nand , of course , she stalks , so we see a number of shots , which are supposed to be suspenseful , where she's spying on doug and his girlfriend . \\ni won't reveal the ludicrous ending to this turkey , but i warn you that it's both painfully obvious and a real yawner . \\njohn vernon does a remarkably good job at playing the not-so-bright baseball jock who initially gets swept away by melissa ( one of the script's faults is to try to pass off a character like this as a pre-med student ) . \\nthe same cannot be said , though , for molly ringwald . \\nat times , she can effectively pull off the obsessed lover routine , especially during her silent , i'm-going-to-stare-you-down scenes . \\nat other times , however , she just seems somehow goofy and out of place . \\nin one particular scene which i guess was supposed to be suspenseful , she screeches \\\" f--k you , you b-----d \\\" and throws a phone . \\nshe delivers the line so ridiculously that one can't help but laugh . \\nmalicious certainly isn't the worst thriller of its kind out in the video racks ( a number of really fat turkies in this genre are out there ) , but it isn't all that good or original either . \\nfeel free to treat this film maliciously , watch something else . \\n\"\n        ],\n        \"semantic_type\": \"\",\n        \"description\": \"\"\n      }\n    },\n    {\n      \"column\": \"processed_text\",\n      \"properties\": {\n        \"dtype\": \"object\",\n        \"semantic_type\": \"\",\n        \"description\": \"\"\n      }\n    },\n    {\n      \"column\": \"category\",\n      \"properties\": {\n        \"dtype\": \"category\",\n        \"num_unique_values\": 2,\n        \"samples\": [\n          \"neg\",\n          \"pos\"\n        ],\n        \"semantic_type\": \"\",\n        \"description\": \"\"\n      }\n    }\n  ]\n}"
            }
          },
          "metadata": {},
          "execution_count": 19
        }
      ]
    },
    {
      "cell_type": "markdown",
      "source": [
        "**Save the Processed Data**"
      ],
      "metadata": {
        "id": "4q0jQXQ3Srq7"
      }
    },
    {
      "cell_type": "markdown",
      "source": [
        "Save the cleaned dataset:"
      ],
      "metadata": {
        "id": "0W5_tP-zSuhU"
      }
    },
    {
      "cell_type": "code",
      "source": [
        "df.to_csv('processed_nltk_reviews.csv', index=False)\n",
        "print(\"Preprocessed dataset saved as 'processed_nltk_reviews.csv'\")"
      ],
      "metadata": {
        "colab": {
          "base_uri": "https://localhost:8080/"
        },
        "id": "BaUqJ86OSnsa",
        "outputId": "5267d247-0921-42b3-eb77-b454ccf2b262"
      },
      "execution_count": 20,
      "outputs": [
        {
          "output_type": "stream",
          "name": "stdout",
          "text": [
            "Preprocessed dataset saved as 'processed_nltk_reviews.csv'\n"
          ]
        }
      ]
    },
    {
      "cell_type": "markdown",
      "source": [
        "**If using Google Colab, download the processed dataset:**"
      ],
      "metadata": {
        "id": "CBpHMTpvS0GN"
      }
    },
    {
      "cell_type": "code",
      "source": [
        "files.download('processed_nltk_reviews.csv')"
      ],
      "metadata": {
        "colab": {
          "base_uri": "https://localhost:8080/",
          "height": 17
        },
        "id": "Wjfn2jPhSyHG",
        "outputId": "ea6f8959-df45-4dfa-bba1-ff38515aa096"
      },
      "execution_count": 21,
      "outputs": [
        {
          "output_type": "display_data",
          "data": {
            "text/plain": [
              "<IPython.core.display.Javascript object>"
            ],
            "application/javascript": [
              "\n",
              "    async function download(id, filename, size) {\n",
              "      if (!google.colab.kernel.accessAllowed) {\n",
              "        return;\n",
              "      }\n",
              "      const div = document.createElement('div');\n",
              "      const label = document.createElement('label');\n",
              "      label.textContent = `Downloading \"${filename}\": `;\n",
              "      div.appendChild(label);\n",
              "      const progress = document.createElement('progress');\n",
              "      progress.max = size;\n",
              "      div.appendChild(progress);\n",
              "      document.body.appendChild(div);\n",
              "\n",
              "      const buffers = [];\n",
              "      let downloaded = 0;\n",
              "\n",
              "      const channel = await google.colab.kernel.comms.open(id);\n",
              "      // Send a message to notify the kernel that we're ready.\n",
              "      channel.send({})\n",
              "\n",
              "      for await (const message of channel.messages) {\n",
              "        // Send a message to notify the kernel that we're ready.\n",
              "        channel.send({})\n",
              "        if (message.buffers) {\n",
              "          for (const buffer of message.buffers) {\n",
              "            buffers.push(buffer);\n",
              "            downloaded += buffer.byteLength;\n",
              "            progress.value = downloaded;\n",
              "          }\n",
              "        }\n",
              "      }\n",
              "      const blob = new Blob(buffers, {type: 'application/binary'});\n",
              "      const a = document.createElement('a');\n",
              "      a.href = window.URL.createObjectURL(blob);\n",
              "      a.download = filename;\n",
              "      div.appendChild(a);\n",
              "      a.click();\n",
              "      div.remove();\n",
              "    }\n",
              "  "
            ]
          },
          "metadata": {}
        },
        {
          "output_type": "display_data",
          "data": {
            "text/plain": [
              "<IPython.core.display.Javascript object>"
            ],
            "application/javascript": [
              "download(\"download_dd241b91-1fc1-4248-b53b-45c7054dd1c8\", \"processed_nltk_reviews.csv\", 14998892)"
            ]
          },
          "metadata": {}
        }
      ]
    },
    {
      "cell_type": "markdown",
      "source": [
        "Answer the following questions:\n",
        "* What changes did you observe in the preprocessed text?\n",
        "* Why is each step of preprocessing important?\n",
        "* How does preprocessing improve text analysis in machine learning?\n",
        "* How would you modify this pipeline for sentiment analysis?\n"
      ],
      "metadata": {
        "id": "WNU7is6_T91h"
      }
    },
    {
      "cell_type": "markdown",
      "source": [
        "**What changes did you observe in the preprocessed text?**\n",
        "In the preprocessed text:\n",
        "\n",
        "1. All words are in lowercase.\n",
        "\n",
        "Example: \"Wow! This Movie\" → \"wow this movie\"\n",
        "\n",
        "2. Special characters like punctuation are removed.\n",
        "\n",
        "Example: \"amazing!\" → \"amazing\"\n",
        "\n",
        "3. Common words (stopwords) are removed.\n",
        "\n",
        "Words like \"this\", \"was\", \"but\", \"some\" are removed because they don’t add much meaning.\n",
        "\n",
        "4. Text is broken into individual words (tokens).\n",
        "\n",
        "Example: \"wow this movie was amazing\" → [\"wow\", \"movie\", \"amazing\"]"
      ],
      "metadata": {
        "id": "ETOSA9yqUTc1"
      }
    },
    {
      "cell_type": "markdown",
      "source": [
        "**Why is each step of preprocessing important?**\n",
        "1. Lowercasing\n",
        "→ Makes all words uniform. \"Movie\" and \"movie\" should be treated the same.\n",
        "\n",
        "2. Removing special characters\n",
        "→ Cleans the text. Punctuation doesn't usually help the model understand meaning.\n",
        "\n",
        "3. Removing stopwords\n",
        "→ Gets rid of common, less useful words. Keeps the important ones.\n",
        "\n",
        "4. Tokenization\n",
        "→ Breaks text into words, so machine learning models can work with them.\n",
        "\n"
      ],
      "metadata": {
        "id": "dvcmHzOxUgM3"
      }
    },
    {
      "cell_type": "markdown",
      "source": [
        "**How does preprocessing improve text analysis in machine learning?**\n",
        "1. Makes data clean and consistent.\n",
        "\n",
        "2. Reduces noise by removing unnecessary stuff (like stopwords or punctuation).\n",
        "\n",
        "3. Improves accuracy by focusing on the most useful words.\n",
        "\n",
        "4. Speeds up training because there’s less data to process."
      ],
      "metadata": {
        "id": "wGZSqDELUqd9"
      }
    },
    {
      "cell_type": "markdown",
      "source": [
        "**How would you modify this pipeline for sentiment analysis?**\n",
        "For sentiment analysis, you might:\n",
        "\n",
        "1. Keep some stopwords like “not” or “no” – because they change meaning.\n",
        "\n",
        "Example: “not good” ≠ “good”\n",
        "\n",
        "2. Add stemming or lemmatization\n",
        "\n",
        "Converts words like “running”, “runs”, “ran” → “run”\n",
        "\n",
        "Helps reduce word variations.\n",
        "\n",
        "3. Use word embeddings or TF-IDF\n",
        "\n",
        "Turns words into numbers that show importance or context.\n",
        "\n",
        "4. Use labeled sentiment data\n",
        "\n",
        "Make sure your data has labels like \"positive\", \"negative\".\n",
        "\n"
      ],
      "metadata": {
        "id": "4PulJgteUzbN"
      }
    },
    {
      "cell_type": "code",
      "source": [
        ""
      ],
      "metadata": {
        "id": "0xmuVzNQS6XL"
      },
      "execution_count": null,
      "outputs": []
    }
  ]
}