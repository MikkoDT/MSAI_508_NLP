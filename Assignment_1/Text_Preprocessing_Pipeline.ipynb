{
  "nbformat": 4,
  "nbformat_minor": 0,
  "metadata": {
    "colab": {
      "provenance": []
    },
    "kernelspec": {
      "name": "python3",
      "display_name": "Python 3"
    },
    "language_info": {
      "name": "python"
    }
  },
  "cells": [
    {
      "cell_type": "markdown",
      "source": [
        "**Install NLTK and necessary libraries**"
      ],
      "metadata": {
        "id": "4qwUpfdi0Eg6"
      }
    },
    {
      "cell_type": "code",
      "execution_count": null,
      "metadata": {
        "colab": {
          "base_uri": "https://localhost:8080/"
        },
        "id": "gXrtl46oxAZj",
        "outputId": "bfb27afc-c6f3-41bc-8c6e-4dec4a221930"
      },
      "outputs": [
        {
          "output_type": "stream",
          "name": "stdout",
          "text": [
            "Requirement already satisfied: nltk in /usr/local/lib/python3.11/dist-packages (3.9.1)\n",
            "Requirement already satisfied: pandas in /usr/local/lib/python3.11/dist-packages (2.2.2)\n",
            "Requirement already satisfied: click in /usr/local/lib/python3.11/dist-packages (from nltk) (8.1.8)\n",
            "Requirement already satisfied: joblib in /usr/local/lib/python3.11/dist-packages (from nltk) (1.4.2)\n",
            "Requirement already satisfied: regex>=2021.8.3 in /usr/local/lib/python3.11/dist-packages (from nltk) (2024.11.6)\n",
            "Requirement already satisfied: tqdm in /usr/local/lib/python3.11/dist-packages (from nltk) (4.67.1)\n",
            "Requirement already satisfied: numpy>=1.23.2 in /usr/local/lib/python3.11/dist-packages (from pandas) (1.26.4)\n",
            "Requirement already satisfied: python-dateutil>=2.8.2 in /usr/local/lib/python3.11/dist-packages (from pandas) (2.8.2)\n",
            "Requirement already satisfied: pytz>=2020.1 in /usr/local/lib/python3.11/dist-packages (from pandas) (2025.1)\n",
            "Requirement already satisfied: tzdata>=2022.7 in /usr/local/lib/python3.11/dist-packages (from pandas) (2025.1)\n",
            "Requirement already satisfied: six>=1.5 in /usr/local/lib/python3.11/dist-packages (from python-dateutil>=2.8.2->pandas) (1.17.0)\n"
          ]
        }
      ],
      "source": [
        "!pip install nltk pandas  # Use in Google Colab or Jupyter Notebook"
      ]
    },
    {
      "cell_type": "markdown",
      "source": [
        "**Import the required libraries**"
      ],
      "metadata": {
        "id": "hkBtM6Zz0H4Z"
      }
    },
    {
      "cell_type": "code",
      "source": [
        "import nltk\n",
        "from nltk.corpus import movie_reviews\n",
        "import pandas as pd\n",
        "import random\n",
        "import re\n",
        "from nltk.corpus import stopwords\n",
        "from nltk.tokenize import word_tokenize\n",
        "\n",
        "# Download necessary datasets\n",
        "nltk.download('movie_reviews')\n",
        "nltk.download('punkt')\n",
        "nltk.download('stopwords')\n"
      ],
      "metadata": {
        "colab": {
          "base_uri": "https://localhost:8080/"
        },
        "id": "uv5GL4-IxhwV",
        "outputId": "5821c477-de8e-4ea8-8d70-0eb951955169"
      },
      "execution_count": null,
      "outputs": [
        {
          "output_type": "stream",
          "name": "stderr",
          "text": [
            "[nltk_data] Downloading package movie_reviews to /root/nltk_data...\n",
            "[nltk_data]   Package movie_reviews is already up-to-date!\n",
            "[nltk_data] Downloading package punkt to /root/nltk_data...\n",
            "[nltk_data]   Package punkt is already up-to-date!\n",
            "[nltk_data] Downloading package stopwords to /root/nltk_data...\n",
            "[nltk_data]   Package stopwords is already up-to-date!\n"
          ]
        },
        {
          "output_type": "execute_result",
          "data": {
            "text/plain": [
              "True"
            ]
          },
          "metadata": {},
          "execution_count": 12
        }
      ]
    },
    {
      "cell_type": "markdown",
      "source": [
        "**Load and Save the Sample Dataset from NLTK**"
      ],
      "metadata": {
        "id": "PApWPQjq0PAB"
      }
    },
    {
      "cell_type": "code",
      "source": [
        "# Get a list of file IDs\n",
        "file_ids = movie_reviews.fileids()\n",
        "\n",
        "# Create a list of (text, category) tuples\n",
        "dataset = [(movie_reviews.raw(file_id), movie_reviews.categories(file_id)[0]) for file_id in file_ids]\n",
        "\n",
        "# Shuffle the dataset for randomness\n",
        "random.shuffle(dataset)\n",
        "\n",
        "# Convert into a DataFrame\n",
        "df = pd.DataFrame(dataset, columns=[\"text\", \"category\"])\n",
        "\n",
        "# Display sample data\n",
        "df.head()\n"
      ],
      "metadata": {
        "colab": {
          "base_uri": "https://localhost:8080/",
          "height": 206
        },
        "id": "6Tt3hiZlyb-K",
        "outputId": "bda0798a-66d2-47e7-955d-e5976067e647"
      },
      "execution_count": null,
      "outputs": [
        {
          "output_type": "execute_result",
          "data": {
            "text/plain": [
              "                                                text category\n",
              "0  the seasoned capt . dudley smith ( james cromw...      pos\n",
              "1  contact is the 1997 movie i've seen the most -...      pos\n",
              "2  michael robbins' hardball is quite the cinemat...      neg\n",
              "3  well i'll be damned , what a most excellent su...      pos\n",
              "4  the makers of spawn have created something alm...      neg"
            ],
            "text/html": [
              "\n",
              "  <div id=\"df-c0109d0d-9ea3-42d1-bdc2-0f97543630be\" class=\"colab-df-container\">\n",
              "    <div>\n",
              "<style scoped>\n",
              "    .dataframe tbody tr th:only-of-type {\n",
              "        vertical-align: middle;\n",
              "    }\n",
              "\n",
              "    .dataframe tbody tr th {\n",
              "        vertical-align: top;\n",
              "    }\n",
              "\n",
              "    .dataframe thead th {\n",
              "        text-align: right;\n",
              "    }\n",
              "</style>\n",
              "<table border=\"1\" class=\"dataframe\">\n",
              "  <thead>\n",
              "    <tr style=\"text-align: right;\">\n",
              "      <th></th>\n",
              "      <th>text</th>\n",
              "      <th>category</th>\n",
              "    </tr>\n",
              "  </thead>\n",
              "  <tbody>\n",
              "    <tr>\n",
              "      <th>0</th>\n",
              "      <td>the seasoned capt . dudley smith ( james cromw...</td>\n",
              "      <td>pos</td>\n",
              "    </tr>\n",
              "    <tr>\n",
              "      <th>1</th>\n",
              "      <td>contact is the 1997 movie i've seen the most -...</td>\n",
              "      <td>pos</td>\n",
              "    </tr>\n",
              "    <tr>\n",
              "      <th>2</th>\n",
              "      <td>michael robbins' hardball is quite the cinemat...</td>\n",
              "      <td>neg</td>\n",
              "    </tr>\n",
              "    <tr>\n",
              "      <th>3</th>\n",
              "      <td>well i'll be damned , what a most excellent su...</td>\n",
              "      <td>pos</td>\n",
              "    </tr>\n",
              "    <tr>\n",
              "      <th>4</th>\n",
              "      <td>the makers of spawn have created something alm...</td>\n",
              "      <td>neg</td>\n",
              "    </tr>\n",
              "  </tbody>\n",
              "</table>\n",
              "</div>\n",
              "    <div class=\"colab-df-buttons\">\n",
              "\n",
              "  <div class=\"colab-df-container\">\n",
              "    <button class=\"colab-df-convert\" onclick=\"convertToInteractive('df-c0109d0d-9ea3-42d1-bdc2-0f97543630be')\"\n",
              "            title=\"Convert this dataframe to an interactive table.\"\n",
              "            style=\"display:none;\">\n",
              "\n",
              "  <svg xmlns=\"http://www.w3.org/2000/svg\" height=\"24px\" viewBox=\"0 -960 960 960\">\n",
              "    <path d=\"M120-120v-720h720v720H120Zm60-500h600v-160H180v160Zm220 220h160v-160H400v160Zm0 220h160v-160H400v160ZM180-400h160v-160H180v160Zm440 0h160v-160H620v160ZM180-180h160v-160H180v160Zm440 0h160v-160H620v160Z\"/>\n",
              "  </svg>\n",
              "    </button>\n",
              "\n",
              "  <style>\n",
              "    .colab-df-container {\n",
              "      display:flex;\n",
              "      gap: 12px;\n",
              "    }\n",
              "\n",
              "    .colab-df-convert {\n",
              "      background-color: #E8F0FE;\n",
              "      border: none;\n",
              "      border-radius: 50%;\n",
              "      cursor: pointer;\n",
              "      display: none;\n",
              "      fill: #1967D2;\n",
              "      height: 32px;\n",
              "      padding: 0 0 0 0;\n",
              "      width: 32px;\n",
              "    }\n",
              "\n",
              "    .colab-df-convert:hover {\n",
              "      background-color: #E2EBFA;\n",
              "      box-shadow: 0px 1px 2px rgba(60, 64, 67, 0.3), 0px 1px 3px 1px rgba(60, 64, 67, 0.15);\n",
              "      fill: #174EA6;\n",
              "    }\n",
              "\n",
              "    .colab-df-buttons div {\n",
              "      margin-bottom: 4px;\n",
              "    }\n",
              "\n",
              "    [theme=dark] .colab-df-convert {\n",
              "      background-color: #3B4455;\n",
              "      fill: #D2E3FC;\n",
              "    }\n",
              "\n",
              "    [theme=dark] .colab-df-convert:hover {\n",
              "      background-color: #434B5C;\n",
              "      box-shadow: 0px 1px 3px 1px rgba(0, 0, 0, 0.15);\n",
              "      filter: drop-shadow(0px 1px 2px rgba(0, 0, 0, 0.3));\n",
              "      fill: #FFFFFF;\n",
              "    }\n",
              "  </style>\n",
              "\n",
              "    <script>\n",
              "      const buttonEl =\n",
              "        document.querySelector('#df-c0109d0d-9ea3-42d1-bdc2-0f97543630be button.colab-df-convert');\n",
              "      buttonEl.style.display =\n",
              "        google.colab.kernel.accessAllowed ? 'block' : 'none';\n",
              "\n",
              "      async function convertToInteractive(key) {\n",
              "        const element = document.querySelector('#df-c0109d0d-9ea3-42d1-bdc2-0f97543630be');\n",
              "        const dataTable =\n",
              "          await google.colab.kernel.invokeFunction('convertToInteractive',\n",
              "                                                    [key], {});\n",
              "        if (!dataTable) return;\n",
              "\n",
              "        const docLinkHtml = 'Like what you see? Visit the ' +\n",
              "          '<a target=\"_blank\" href=https://colab.research.google.com/notebooks/data_table.ipynb>data table notebook</a>'\n",
              "          + ' to learn more about interactive tables.';\n",
              "        element.innerHTML = '';\n",
              "        dataTable['output_type'] = 'display_data';\n",
              "        await google.colab.output.renderOutput(dataTable, element);\n",
              "        const docLink = document.createElement('div');\n",
              "        docLink.innerHTML = docLinkHtml;\n",
              "        element.appendChild(docLink);\n",
              "      }\n",
              "    </script>\n",
              "  </div>\n",
              "\n",
              "\n",
              "<div id=\"df-e1e8fec2-2d37-411f-abb6-da3b0252faf4\">\n",
              "  <button class=\"colab-df-quickchart\" onclick=\"quickchart('df-e1e8fec2-2d37-411f-abb6-da3b0252faf4')\"\n",
              "            title=\"Suggest charts\"\n",
              "            style=\"display:none;\">\n",
              "\n",
              "<svg xmlns=\"http://www.w3.org/2000/svg\" height=\"24px\"viewBox=\"0 0 24 24\"\n",
              "     width=\"24px\">\n",
              "    <g>\n",
              "        <path d=\"M19 3H5c-1.1 0-2 .9-2 2v14c0 1.1.9 2 2 2h14c1.1 0 2-.9 2-2V5c0-1.1-.9-2-2-2zM9 17H7v-7h2v7zm4 0h-2V7h2v10zm4 0h-2v-4h2v4z\"/>\n",
              "    </g>\n",
              "</svg>\n",
              "  </button>\n",
              "\n",
              "<style>\n",
              "  .colab-df-quickchart {\n",
              "      --bg-color: #E8F0FE;\n",
              "      --fill-color: #1967D2;\n",
              "      --hover-bg-color: #E2EBFA;\n",
              "      --hover-fill-color: #174EA6;\n",
              "      --disabled-fill-color: #AAA;\n",
              "      --disabled-bg-color: #DDD;\n",
              "  }\n",
              "\n",
              "  [theme=dark] .colab-df-quickchart {\n",
              "      --bg-color: #3B4455;\n",
              "      --fill-color: #D2E3FC;\n",
              "      --hover-bg-color: #434B5C;\n",
              "      --hover-fill-color: #FFFFFF;\n",
              "      --disabled-bg-color: #3B4455;\n",
              "      --disabled-fill-color: #666;\n",
              "  }\n",
              "\n",
              "  .colab-df-quickchart {\n",
              "    background-color: var(--bg-color);\n",
              "    border: none;\n",
              "    border-radius: 50%;\n",
              "    cursor: pointer;\n",
              "    display: none;\n",
              "    fill: var(--fill-color);\n",
              "    height: 32px;\n",
              "    padding: 0;\n",
              "    width: 32px;\n",
              "  }\n",
              "\n",
              "  .colab-df-quickchart:hover {\n",
              "    background-color: var(--hover-bg-color);\n",
              "    box-shadow: 0 1px 2px rgba(60, 64, 67, 0.3), 0 1px 3px 1px rgba(60, 64, 67, 0.15);\n",
              "    fill: var(--button-hover-fill-color);\n",
              "  }\n",
              "\n",
              "  .colab-df-quickchart-complete:disabled,\n",
              "  .colab-df-quickchart-complete:disabled:hover {\n",
              "    background-color: var(--disabled-bg-color);\n",
              "    fill: var(--disabled-fill-color);\n",
              "    box-shadow: none;\n",
              "  }\n",
              "\n",
              "  .colab-df-spinner {\n",
              "    border: 2px solid var(--fill-color);\n",
              "    border-color: transparent;\n",
              "    border-bottom-color: var(--fill-color);\n",
              "    animation:\n",
              "      spin 1s steps(1) infinite;\n",
              "  }\n",
              "\n",
              "  @keyframes spin {\n",
              "    0% {\n",
              "      border-color: transparent;\n",
              "      border-bottom-color: var(--fill-color);\n",
              "      border-left-color: var(--fill-color);\n",
              "    }\n",
              "    20% {\n",
              "      border-color: transparent;\n",
              "      border-left-color: var(--fill-color);\n",
              "      border-top-color: var(--fill-color);\n",
              "    }\n",
              "    30% {\n",
              "      border-color: transparent;\n",
              "      border-left-color: var(--fill-color);\n",
              "      border-top-color: var(--fill-color);\n",
              "      border-right-color: var(--fill-color);\n",
              "    }\n",
              "    40% {\n",
              "      border-color: transparent;\n",
              "      border-right-color: var(--fill-color);\n",
              "      border-top-color: var(--fill-color);\n",
              "    }\n",
              "    60% {\n",
              "      border-color: transparent;\n",
              "      border-right-color: var(--fill-color);\n",
              "    }\n",
              "    80% {\n",
              "      border-color: transparent;\n",
              "      border-right-color: var(--fill-color);\n",
              "      border-bottom-color: var(--fill-color);\n",
              "    }\n",
              "    90% {\n",
              "      border-color: transparent;\n",
              "      border-bottom-color: var(--fill-color);\n",
              "    }\n",
              "  }\n",
              "</style>\n",
              "\n",
              "  <script>\n",
              "    async function quickchart(key) {\n",
              "      const quickchartButtonEl =\n",
              "        document.querySelector('#' + key + ' button');\n",
              "      quickchartButtonEl.disabled = true;  // To prevent multiple clicks.\n",
              "      quickchartButtonEl.classList.add('colab-df-spinner');\n",
              "      try {\n",
              "        const charts = await google.colab.kernel.invokeFunction(\n",
              "            'suggestCharts', [key], {});\n",
              "      } catch (error) {\n",
              "        console.error('Error during call to suggestCharts:', error);\n",
              "      }\n",
              "      quickchartButtonEl.classList.remove('colab-df-spinner');\n",
              "      quickchartButtonEl.classList.add('colab-df-quickchart-complete');\n",
              "    }\n",
              "    (() => {\n",
              "      let quickchartButtonEl =\n",
              "        document.querySelector('#df-e1e8fec2-2d37-411f-abb6-da3b0252faf4 button');\n",
              "      quickchartButtonEl.style.display =\n",
              "        google.colab.kernel.accessAllowed ? 'block' : 'none';\n",
              "    })();\n",
              "  </script>\n",
              "</div>\n",
              "\n",
              "    </div>\n",
              "  </div>\n"
            ],
            "application/vnd.google.colaboratory.intrinsic+json": {
              "type": "dataframe",
              "variable_name": "df",
              "summary": "{\n  \"name\": \"df\",\n  \"rows\": 2000,\n  \"fields\": [\n    {\n      \"column\": \"text\",\n      \"properties\": {\n        \"dtype\": \"string\",\n        \"num_unique_values\": 2000,\n        \"samples\": [\n          \" \\\" battlefield earth \\\" is the best comedy of the year . \\nit has to be . \\nthe other prospect is just too horrifying to consider . \\nbad movie syndrome struck me again , so after witnessing how much \\\" battlefield earth \\\" has been proclaimed a train wreck in both critical and popular circles , i felt the masochistic urge to see the disaster first-hand . \\nis it as bad as advertised ? \\noh yes , very much so . \\nthe plot is incomprehensible . \\nthe acting is atrocious . \\nthe special effects are mediocre . \\nthe action is dull . \\nthe implausibilities are legion . \\nthe dialogue is cringe-inducing . \\nthe whole package is funny when it wants to be serious and irritating when it wants to be funny . \\ni don't even want to continue reviewing this movie ; i'd like to purge the atrocity from my mind as soon as possible , but you probably want to read my thrashing in all its sarcastic glory , so here it is : \\nthe premise is basically a rip-off of \\\" planet of the apes , \\\" only minus the apes and philosophical discussion , and plus a race of evil aliens from the planet psychlo . \\nthe year is 3000 , the psychlos have conquered earth , and the human population has been enslaved . \\nonly a handful of humans escaped to radiation-rich areas to escape the aliens ; they live out their lives in fear . \\none man , johnny goodboy ( i know , i know ) tyler ( barry pepper ) , ventures to the outworld and is captured by the psychlos . \\nthere he confronts the psychlo head of security : a big , ugly , klingon-looking creature called terl ( john travolta ) . \\npressed into slavery , johnny vows to lead a revolution and take the planet back . \\nmeanwhile , terl is faced with his own problems : he has recently learned that he's stuck living on earth ( which he hates ) for the rest of his career because he pissed off his boss by sleeping with the big man's daughter . \\nhe decides to give johnny knowledge of the psychlo language and technology ( this is where the plot gets ridiculous . \\n . \\n . ) \\nso the \\\" man-animal \\\" can lead a mining expedition into places the psychlos can't go . \\nterl then plans to keep the mined gold for himself . \\nof course , his plan doesn't work . \\nso many things wrong with this movie -- where to begin ? \\nhow about with travolta , whose hollywood clout brought about this , the cinematic version of scientology guru l . ron hubbard's sci-fi novel ? \\nearly previews for \\\" battlefield earth , \\\" with constant shots of a makeup-laden travolta cackling like lex luthor , had me ( and several audience members ) remarking , \\\" what the hell is travolta thinking ? \\\" \\nthe movie did nothing to stem such remarks . \\nall that ridiculous cackling he did in the trailers is in full force here : terl cackles after nearly every line , and so does every other psychlo . \\nof course , this makes every scene hilariously overwrought , no more so than when the script clumsily stumbles into political commentary . \\nthe psychlos are probably supposed to be some kind of satire of corporate america , but ceos generally don't laugh maniacally after denying pay raises to their employees . \\n ( \\\" you were going to be promoted -- but now you're not ! \\nfwahahahahahahahaha ! ! ! ! ! \\\" ) \\nit's no big surprise terl loses to the humans -- he's an idiot . \\nhe breaks every kind of supervillain rule in the book . \\nhe underestimates his enemies , assuming he'll win just because he's smarter . \\n ( he uses the word \\\" leverage \\\" like some sort of scientologist mantra . ) \\nnot content to go the james bond villain route of explaining his plans to the hero , he hooks him up to a machine that gives him knowledge of all the psychlos' language and technology . \\n ( why this machine is even around in the first place is beyond me . ) \\nhe then appears shocked that johnny points a gun at him . \\nno wonder this guy never got his promotion . \\nthe plot inconsistencies are too numerous to mention . \\nwhy do the psychlos build an earth base in which both they and the human slaves must wear little breathing apparatuses to survive ? \\nhow come the psychlos are wasting their time mining for gold when the doors of fort knox are wide open ? \\nhow in the world did all those fighter jets survive sitting in a hangar for 1 , 000 years ? \\nand how do all these previously brain-dead cavemen learn to fly them so quickly ? \\nthere's a whole lot more to scratch one's head about in \\\" battlefield earth . \\\" \\nbring a scorecard to track the plot holes . \\ndirector roger christian shoots \\\" battlefield earth \\\" in the most distracting way possible , tilting nearly every shot sideways for no discernible reason . \\nall the characters appear to be standing on the walls , and it's awfully difficult to watch a movie when you must tilt your head just to watch ordinary passages of dialogue . \\nthe action sequences are atrociously edited , every one turned into an endless slow-motion parade that drains all potential excitement . \\nare these things really so hard to construct ? \\nmy respect for supposed \\\" lightweight \\\" action directors has grown by leaps and bounds after witnessing in \\\" battlefield earth \\\" how badly an action sequence can be shot . \\nthis movie is an absolute headache . \\nit's not just the shot selection and editing ; the movie , quite frankly , makes no sense . \\nfor most of \\\" battlefield earth's \\\" running time , i just didn't know what was happening . \\nit didn't have anything to do with me finding the events stupid or illogical ( though they certainly are ) -- i really had no idea what the hell was going on . \\nwhen i pieced the plot together later , it didn't look any better . \\nhere's how much of a disaster this is : \\\" battlefield earth \\\" is already the worst movie of the year , and it's going to take something really , really inept to top it . \\nthe only thing we can take comfort in about the film is that no one will be suckered into joining the church of scientology because of it . \\nin fact , i'd think that hubbard's cult would want to distance themselves from this bomb as fast as possible . \\nthat'll teach me to give into bad movie syndrome again . \\n\",\n          \"chris tucker is one of those guys you immediately get a reaction from -- you either find his helium voice , crazy eyes and jerky mannerisms funny or annoying . \\ni think i fall into the former category ( i'm one of the few who thought his turn in \\\" the fifth element \\\" as a prancing , prince-like deejay was complete inspired lunacy and not the least bit aggravating ) , but his new vehicle \\\" money talks \\\" just doesn't do him service . \\ntucker is good in the movie -- and this is the kind of film that , if people see it , could make him a big star -- but he's also really the only thing good about the movie . \\nin fact , if you see \\\" money talks , \\\" it should shock you beyond recognition that two of \\\" toy story \\\" 's writers penned the sloppy script . \\ntucker's role here is that of franklin hatchett , a petty los angeles con artist whose carwash scams get him dogged by investigative reporter james russell ( charlie sheen ) . \\nafter being busted on the job for some illegal business involving counterfeit passports , franklin finds himself on a bus to the county jail and handcuffed to slick international jewel smuggler raymond villard ( gerard ismael ) . \\nbut villard's thugs blow up the bus in an attempt to free their leader ( never mind that the explosion could have instead killed him ) , and because he and franklin are joined at the wrist , franklin is allowed to escape as well , but not before overhearing some important information regarding a diamond stash that -- for some reason or another -- is being hidden in a vintage roadster waiting to be auctioned off at an upcoming auto expo . \\nthe local media mistakenly puts the prison break-out blame on franklin , which is where james comes back into the picture . \\nhe makes a deal to protect franklin if , in turn , franklin gives him an exclusive interview . \\nthis means james must present his new \\\" friend \\\" in the stickiest of situations -- a formal dinner party for he and fiancee grace ( heather locklear ) , also attended by her uber-rich parents ( veronica cartwright and nicely game paul sorvino ) . \\nand of course the bad guys track franklin down and try to knock him off , all the while he spars and forms an unlikely bond with james . \\n \\\" this ain't no buddy movie , \\\" claim the print ads . \\nyeah , right . \\nactually , for the better part of , oh , 20 minutes , it appears \\\" money talks \\\" has the momentum to cover entertaining ground , and this is mostly due to the presence of spastic motormouth tucker . \\nthis is tucker's first leading role , and if you imagine a slightly lankier , african-american jim carrey with a reliance on wild r-rated raunch rather than pg-13 physical comedy , you have a good idea of the conviction with which he assaults the role . \\nbut you realize all too quickly that tucker's overstated liveliness is the only thing \\\" money talks \\\" has going for it . \\nand a lively actor alone does not a successful movie make . \\nit's all too easy to pick out everything wrong with \\\" money talks . \\\" \\nthe plot is recycled buddy-buddy comedy-thriller tripe that seemed overused even when \\\" nothing to lose \\\" employed it last month . \\neverything is paint-by-numbers , especially the los angeles coliseum finale , which finds not one , not two , but three separate enemy factions firing at franklin as they pursue him through the bleachers . \\nthe villains , as many as there are , are dull . \\ncertain story elements are too coincidental . \\nand too much of the film's dramatic agenda is played too straight . \\na scene where grace confronts james after learning franklin's true identity ( \\\" you brought a killer into my parents' house ! \\\" ) \\nis extremely silly . \\nyou get the picture . \\nobviously , i did not have a pleasant experience at \\\" money talks . \\\" \\nbut the people around me appeared to be having a rip-roaring good time ( one gentleman several rows behind me chortled with such expressive conviction i began fearing for his health ) . \\nbut tucker , at least for me , is a pretty funny guy , and aces the movie's best scene , where franklin passes himself off as vic damone's son at james and grace's engagement bash and toasts the couple with barry white lyrics . \\ntucker's audience -- and he does have one -- will probably like \\\" money talks . \\\" \\nthose who he irritates , however , will have a more productive day staying home and scraping the gook out from under their toenails . \\n\",\n          \"if this keeps up , jane austen ( sense and sensibility , pride and prejudice ) may have to apply for posthumous membership to the screen writers guild . \\nyet another novel of hers has made the transition to the silver screen . \\nmansfield park is a turn of the century ( 18th century going on 19th ) story about love among the classes as well as an examination into proper society and family ties . \\nten year old fanny price ( hannah taylor-gordon , jakob the liar ) , taken from her mother and father and the poverty in which they dwell , is sent to live with her aunt and the privileged class at mansfield park , under the stern patriarchal hand of her uncle , sir thomas bertram ( harold pinter , mojo ) \\nspending her days reminded of her lower status , she also invents and writes fanciful stories during her private times . \\nfanny eventually grows to become a beautiful , intelligent , and engaging heroine ( quite unlike the original character which ms . austen originally penned in her novel . ) \\nwriter/director patricia rozema ( when night is falling ) is responsible for the textual changes . \\nfrom a purely dramatic perspective , the revision makes perfect sense and improves the film's audience appeal . \\nwhat ms . rozema has done is to infuse the main character with much of ms . austen's own personality by including excerpts from the author's journals , giving that dialogue to fanny . \\nthe result is a central character that is immediately appealing . \\nas the grown fanny , australian actress frances o'connor ( all about adam ) does wonderfully textured work . \\nat times , ms . rozema has fanny address the camera directly to communicate many of the novel's more introspective observations . \\nthis is a difficult device to work seamlessly into a period film and it is to ms . o'connor's credit that it works as well as it does . \\nthe central theme which gives the story its legs in an old one . . . \\nwhether it is better to marry for love or for social standing ? \\nfanny has fallen in love with her cousin edmund ( jonny lee miller , plunkett & macleane ) who appears fond of her as well . \\nhis attentions are soon divided as the stylish and socially acceptable mary crawford ( embeth davidtz , bicentennial man ) enters the picture along with her equally acceptable brother henry ( alessandro nivola , inventing the abbotts ) who eventually sets his romantic sights upon fanny . \\nwhile mary and henry are evidently less than sincere in their affections , their presence does provide the movie and the main characters with the necessary conflict that keeps our interest until the film's appropriately austen-like ending . \\nother thematic devices include a awkwardly inserted reference to the source of the wealth of mansfield park . . . \\nthe slave trade . \\nthere is also a hint of both lesbianism and incest but neither is carried very far and is soon forgotten . \\nthe motivation for marriage remains the primary thematic thrust . \\nfanny's cousin , maria bertram ( victoria hamilton , persuasion ) is an example of one making a poor match , marrying a well-to-do fool who is able to make her comfortable , but never happy . \\nfanny's own mother , trapped in her chosen life of squalor warns fanny by admitting that her situation is due to the fact that she \\\" married for love . \\\" \\nfanny , given those two terrible examples , and faced with the same choice is understandably indecisive as to which way to lean . \\nthe spiritual answer , of course , lies in the middle of those two extremes . \\nmarriage is not a cold , calculating decision based upon self-preservation . \\nneither is it a senseless decision made in the warm afterglow of a passionate embrace . \\nin the purest sense , marriage forms an insoluble union whereby two people agree to function as one . \\n \\\" and said , for this cause shall a man leave father and mother , and shall cleave to his wife : and they twain shall be one flesh ? \\\" \\nmatthew 19 : 5 [kjv] \\nlove and logic can be combined . \\ngod's word contains both . \\nso does a marriage based upon his truth . \\n\"\n        ],\n        \"semantic_type\": \"\",\n        \"description\": \"\"\n      }\n    },\n    {\n      \"column\": \"category\",\n      \"properties\": {\n        \"dtype\": \"category\",\n        \"num_unique_values\": 2,\n        \"samples\": [\n          \"neg\",\n          \"pos\"\n        ],\n        \"semantic_type\": \"\",\n        \"description\": \"\"\n      }\n    }\n  ]\n}"
            }
          },
          "metadata": {},
          "execution_count": 13
        }
      ]
    },
    {
      "cell_type": "markdown",
      "source": [
        "**Save the dataset as a CSV file**"
      ],
      "metadata": {
        "id": "t0DjLbwp0ccH"
      }
    },
    {
      "cell_type": "code",
      "source": [
        "df.to_csv('nltk_movie_reviews.csv', index=False)\n",
        "print(\"Dataset saved as 'nltk_movie_reviews.csv'\")\n"
      ],
      "metadata": {
        "colab": {
          "base_uri": "https://localhost:8080/"
        },
        "id": "fm9BZjABzbJQ",
        "outputId": "2d948bd0-f53f-4746-9492-0d7002660aa6"
      },
      "execution_count": null,
      "outputs": [
        {
          "output_type": "stream",
          "name": "stdout",
          "text": [
            "Dataset saved as 'nltk_movie_reviews.csv'\n"
          ]
        }
      ]
    },
    {
      "cell_type": "code",
      "source": [
        "from google.colab import files\n",
        "files.download('nltk_movie_reviews.csv')\n"
      ],
      "metadata": {
        "colab": {
          "base_uri": "https://localhost:8080/",
          "height": 17
        },
        "id": "aYSS3aszzlZ5",
        "outputId": "d93060bb-32b7-4ba9-c2ed-4fb231ceeb39"
      },
      "execution_count": null,
      "outputs": [
        {
          "output_type": "display_data",
          "data": {
            "text/plain": [
              "<IPython.core.display.Javascript object>"
            ],
            "application/javascript": [
              "\n",
              "    async function download(id, filename, size) {\n",
              "      if (!google.colab.kernel.accessAllowed) {\n",
              "        return;\n",
              "      }\n",
              "      const div = document.createElement('div');\n",
              "      const label = document.createElement('label');\n",
              "      label.textContent = `Downloading \"${filename}\": `;\n",
              "      div.appendChild(label);\n",
              "      const progress = document.createElement('progress');\n",
              "      progress.max = size;\n",
              "      div.appendChild(progress);\n",
              "      document.body.appendChild(div);\n",
              "\n",
              "      const buffers = [];\n",
              "      let downloaded = 0;\n",
              "\n",
              "      const channel = await google.colab.kernel.comms.open(id);\n",
              "      // Send a message to notify the kernel that we're ready.\n",
              "      channel.send({})\n",
              "\n",
              "      for await (const message of channel.messages) {\n",
              "        // Send a message to notify the kernel that we're ready.\n",
              "        channel.send({})\n",
              "        if (message.buffers) {\n",
              "          for (const buffer of message.buffers) {\n",
              "            buffers.push(buffer);\n",
              "            downloaded += buffer.byteLength;\n",
              "            progress.value = downloaded;\n",
              "          }\n",
              "        }\n",
              "      }\n",
              "      const blob = new Blob(buffers, {type: 'application/binary'});\n",
              "      const a = document.createElement('a');\n",
              "      a.href = window.URL.createObjectURL(blob);\n",
              "      a.download = filename;\n",
              "      div.appendChild(a);\n",
              "      a.click();\n",
              "      div.remove();\n",
              "    }\n",
              "  "
            ]
          },
          "metadata": {}
        },
        {
          "output_type": "display_data",
          "data": {
            "text/plain": [
              "<IPython.core.display.Javascript object>"
            ],
            "application/javascript": [
              "download(\"download_bf392018-87c6-48b8-a42a-cff512984064\", \"nltk_movie_reviews.csv\", 7817630)"
            ]
          },
          "metadata": {}
        }
      ]
    },
    {
      "cell_type": "markdown",
      "source": [
        "**Implement a function to perform the following preprocessing steps:**\n",
        "* Lowercasing\n",
        "* Special character removal\n",
        "* Stopword removal\n",
        "* Tokenization\n"
      ],
      "metadata": {
        "id": "1EvXmpbM0qEA"
      }
    },
    {
      "cell_type": "code",
      "source": [
        "def preprocess_text(text):\n",
        "    # Step 1: Convert to lowercase\n",
        "    text = text.lower()\n",
        "\n",
        "    # Step 2: Remove special characters\n",
        "    text = re.sub(r'[^a-zA-Z0-9\\s]', '', text)\n",
        "\n",
        "    # Step 3: Remove stopwords\n",
        "    stop_words = set(stopwords.words('english'))\n",
        "    word_tokens = word_tokenize(text)\n",
        "    filtered_text = [word for word in word_tokens if word not in stop_words]\n",
        "\n",
        "    # Step 4: Tokenization (returning list of tokens)\n",
        "    return filtered_text\n"
      ],
      "metadata": {
        "id": "dpuwgBaq1B4Y"
      },
      "execution_count": null,
      "outputs": []
    },
    {
      "cell_type": "code",
      "source": [
        "import nltk\n",
        "nltk.download('punkt_tab')"
      ],
      "metadata": {
        "colab": {
          "base_uri": "https://localhost:8080/"
        },
        "id": "KwiKrC1z25CP",
        "outputId": "8a96a590-5e61-4fd8-d901-39aafabbf7c2"
      },
      "execution_count": null,
      "outputs": [
        {
          "output_type": "stream",
          "name": "stderr",
          "text": [
            "[nltk_data] Downloading package punkt_tab to /root/nltk_data...\n",
            "[nltk_data]   Unzipping tokenizers/punkt_tab.zip.\n"
          ]
        },
        {
          "output_type": "execute_result",
          "data": {
            "text/plain": [
              "True"
            ]
          },
          "metadata": {},
          "execution_count": 18
        }
      ]
    },
    {
      "cell_type": "markdown",
      "source": [
        "**Apply the function to a sample sentence**"
      ],
      "metadata": {
        "id": "6wFajGzn1Ma3"
      }
    },
    {
      "cell_type": "code",
      "source": [
        "sample_text = \"Wow! This movie was amazing, but some parts were too slow.\"\n",
        "processed_text = preprocess_text(sample_text)\n",
        "print(processed_text)\n"
      ],
      "metadata": {
        "colab": {
          "base_uri": "https://localhost:8080/"
        },
        "id": "x5iqekty1JLh",
        "outputId": "7b56fb3b-53c7-49d1-c078-9563d4333d4a"
      },
      "execution_count": null,
      "outputs": [
        {
          "output_type": "stream",
          "name": "stdout",
          "text": [
            "['wow', 'movie', 'amazing', 'parts', 'slow']\n"
          ]
        }
      ]
    },
    {
      "cell_type": "markdown",
      "source": [
        "**Apply the Preprocessing Pipeline to the Dataset**"
      ],
      "metadata": {
        "id": "bkS35Ug93Gt4"
      }
    },
    {
      "cell_type": "markdown",
      "source": [
        "Apply the function to the \"text\" column of the dataset:\n"
      ],
      "metadata": {
        "id": "QuMTG6ZW3I-f"
      }
    },
    {
      "cell_type": "code",
      "source": [
        "df['processed_text'] = df['text'].apply(preprocess_text)\n",
        "df[['text', 'processed_text', 'category']].head()\n"
      ],
      "metadata": {
        "colab": {
          "base_uri": "https://localhost:8080/",
          "height": 206
        },
        "id": "dKosud963IcY",
        "outputId": "12422b32-5ea7-4c35-97bc-1b4d073737ec"
      },
      "execution_count": null,
      "outputs": [
        {
          "output_type": "execute_result",
          "data": {
            "text/plain": [
              "                                                text  \\\n",
              "0  the seasoned capt . dudley smith ( james cromw...   \n",
              "1  contact is the 1997 movie i've seen the most -...   \n",
              "2  michael robbins' hardball is quite the cinemat...   \n",
              "3  well i'll be damned , what a most excellent su...   \n",
              "4  the makers of spawn have created something alm...   \n",
              "\n",
              "                                      processed_text category  \n",
              "0  [seasoned, capt, dudley, smith, james, cromwel...      pos  \n",
              "1  [contact, 1997, movie, ive, seen, five, times,...      pos  \n",
              "2  [michael, robbins, hardball, quite, cinematic,...      neg  \n",
              "3  [well, ill, damned, excellent, surprise, confu...      pos  \n",
              "4  [makers, spawn, created, something, almost, va...      neg  "
            ],
            "text/html": [
              "\n",
              "  <div id=\"df-c91221a5-e97e-462b-b411-8509b35d04c8\" class=\"colab-df-container\">\n",
              "    <div>\n",
              "<style scoped>\n",
              "    .dataframe tbody tr th:only-of-type {\n",
              "        vertical-align: middle;\n",
              "    }\n",
              "\n",
              "    .dataframe tbody tr th {\n",
              "        vertical-align: top;\n",
              "    }\n",
              "\n",
              "    .dataframe thead th {\n",
              "        text-align: right;\n",
              "    }\n",
              "</style>\n",
              "<table border=\"1\" class=\"dataframe\">\n",
              "  <thead>\n",
              "    <tr style=\"text-align: right;\">\n",
              "      <th></th>\n",
              "      <th>text</th>\n",
              "      <th>processed_text</th>\n",
              "      <th>category</th>\n",
              "    </tr>\n",
              "  </thead>\n",
              "  <tbody>\n",
              "    <tr>\n",
              "      <th>0</th>\n",
              "      <td>the seasoned capt . dudley smith ( james cromw...</td>\n",
              "      <td>[seasoned, capt, dudley, smith, james, cromwel...</td>\n",
              "      <td>pos</td>\n",
              "    </tr>\n",
              "    <tr>\n",
              "      <th>1</th>\n",
              "      <td>contact is the 1997 movie i've seen the most -...</td>\n",
              "      <td>[contact, 1997, movie, ive, seen, five, times,...</td>\n",
              "      <td>pos</td>\n",
              "    </tr>\n",
              "    <tr>\n",
              "      <th>2</th>\n",
              "      <td>michael robbins' hardball is quite the cinemat...</td>\n",
              "      <td>[michael, robbins, hardball, quite, cinematic,...</td>\n",
              "      <td>neg</td>\n",
              "    </tr>\n",
              "    <tr>\n",
              "      <th>3</th>\n",
              "      <td>well i'll be damned , what a most excellent su...</td>\n",
              "      <td>[well, ill, damned, excellent, surprise, confu...</td>\n",
              "      <td>pos</td>\n",
              "    </tr>\n",
              "    <tr>\n",
              "      <th>4</th>\n",
              "      <td>the makers of spawn have created something alm...</td>\n",
              "      <td>[makers, spawn, created, something, almost, va...</td>\n",
              "      <td>neg</td>\n",
              "    </tr>\n",
              "  </tbody>\n",
              "</table>\n",
              "</div>\n",
              "    <div class=\"colab-df-buttons\">\n",
              "\n",
              "  <div class=\"colab-df-container\">\n",
              "    <button class=\"colab-df-convert\" onclick=\"convertToInteractive('df-c91221a5-e97e-462b-b411-8509b35d04c8')\"\n",
              "            title=\"Convert this dataframe to an interactive table.\"\n",
              "            style=\"display:none;\">\n",
              "\n",
              "  <svg xmlns=\"http://www.w3.org/2000/svg\" height=\"24px\" viewBox=\"0 -960 960 960\">\n",
              "    <path d=\"M120-120v-720h720v720H120Zm60-500h600v-160H180v160Zm220 220h160v-160H400v160Zm0 220h160v-160H400v160ZM180-400h160v-160H180v160Zm440 0h160v-160H620v160ZM180-180h160v-160H180v160Zm440 0h160v-160H620v160Z\"/>\n",
              "  </svg>\n",
              "    </button>\n",
              "\n",
              "  <style>\n",
              "    .colab-df-container {\n",
              "      display:flex;\n",
              "      gap: 12px;\n",
              "    }\n",
              "\n",
              "    .colab-df-convert {\n",
              "      background-color: #E8F0FE;\n",
              "      border: none;\n",
              "      border-radius: 50%;\n",
              "      cursor: pointer;\n",
              "      display: none;\n",
              "      fill: #1967D2;\n",
              "      height: 32px;\n",
              "      padding: 0 0 0 0;\n",
              "      width: 32px;\n",
              "    }\n",
              "\n",
              "    .colab-df-convert:hover {\n",
              "      background-color: #E2EBFA;\n",
              "      box-shadow: 0px 1px 2px rgba(60, 64, 67, 0.3), 0px 1px 3px 1px rgba(60, 64, 67, 0.15);\n",
              "      fill: #174EA6;\n",
              "    }\n",
              "\n",
              "    .colab-df-buttons div {\n",
              "      margin-bottom: 4px;\n",
              "    }\n",
              "\n",
              "    [theme=dark] .colab-df-convert {\n",
              "      background-color: #3B4455;\n",
              "      fill: #D2E3FC;\n",
              "    }\n",
              "\n",
              "    [theme=dark] .colab-df-convert:hover {\n",
              "      background-color: #434B5C;\n",
              "      box-shadow: 0px 1px 3px 1px rgba(0, 0, 0, 0.15);\n",
              "      filter: drop-shadow(0px 1px 2px rgba(0, 0, 0, 0.3));\n",
              "      fill: #FFFFFF;\n",
              "    }\n",
              "  </style>\n",
              "\n",
              "    <script>\n",
              "      const buttonEl =\n",
              "        document.querySelector('#df-c91221a5-e97e-462b-b411-8509b35d04c8 button.colab-df-convert');\n",
              "      buttonEl.style.display =\n",
              "        google.colab.kernel.accessAllowed ? 'block' : 'none';\n",
              "\n",
              "      async function convertToInteractive(key) {\n",
              "        const element = document.querySelector('#df-c91221a5-e97e-462b-b411-8509b35d04c8');\n",
              "        const dataTable =\n",
              "          await google.colab.kernel.invokeFunction('convertToInteractive',\n",
              "                                                    [key], {});\n",
              "        if (!dataTable) return;\n",
              "\n",
              "        const docLinkHtml = 'Like what you see? Visit the ' +\n",
              "          '<a target=\"_blank\" href=https://colab.research.google.com/notebooks/data_table.ipynb>data table notebook</a>'\n",
              "          + ' to learn more about interactive tables.';\n",
              "        element.innerHTML = '';\n",
              "        dataTable['output_type'] = 'display_data';\n",
              "        await google.colab.output.renderOutput(dataTable, element);\n",
              "        const docLink = document.createElement('div');\n",
              "        docLink.innerHTML = docLinkHtml;\n",
              "        element.appendChild(docLink);\n",
              "      }\n",
              "    </script>\n",
              "  </div>\n",
              "\n",
              "\n",
              "<div id=\"df-aacce899-1164-4196-8dd5-be5aa2b9fcd1\">\n",
              "  <button class=\"colab-df-quickchart\" onclick=\"quickchart('df-aacce899-1164-4196-8dd5-be5aa2b9fcd1')\"\n",
              "            title=\"Suggest charts\"\n",
              "            style=\"display:none;\">\n",
              "\n",
              "<svg xmlns=\"http://www.w3.org/2000/svg\" height=\"24px\"viewBox=\"0 0 24 24\"\n",
              "     width=\"24px\">\n",
              "    <g>\n",
              "        <path d=\"M19 3H5c-1.1 0-2 .9-2 2v14c0 1.1.9 2 2 2h14c1.1 0 2-.9 2-2V5c0-1.1-.9-2-2-2zM9 17H7v-7h2v7zm4 0h-2V7h2v10zm4 0h-2v-4h2v4z\"/>\n",
              "    </g>\n",
              "</svg>\n",
              "  </button>\n",
              "\n",
              "<style>\n",
              "  .colab-df-quickchart {\n",
              "      --bg-color: #E8F0FE;\n",
              "      --fill-color: #1967D2;\n",
              "      --hover-bg-color: #E2EBFA;\n",
              "      --hover-fill-color: #174EA6;\n",
              "      --disabled-fill-color: #AAA;\n",
              "      --disabled-bg-color: #DDD;\n",
              "  }\n",
              "\n",
              "  [theme=dark] .colab-df-quickchart {\n",
              "      --bg-color: #3B4455;\n",
              "      --fill-color: #D2E3FC;\n",
              "      --hover-bg-color: #434B5C;\n",
              "      --hover-fill-color: #FFFFFF;\n",
              "      --disabled-bg-color: #3B4455;\n",
              "      --disabled-fill-color: #666;\n",
              "  }\n",
              "\n",
              "  .colab-df-quickchart {\n",
              "    background-color: var(--bg-color);\n",
              "    border: none;\n",
              "    border-radius: 50%;\n",
              "    cursor: pointer;\n",
              "    display: none;\n",
              "    fill: var(--fill-color);\n",
              "    height: 32px;\n",
              "    padding: 0;\n",
              "    width: 32px;\n",
              "  }\n",
              "\n",
              "  .colab-df-quickchart:hover {\n",
              "    background-color: var(--hover-bg-color);\n",
              "    box-shadow: 0 1px 2px rgba(60, 64, 67, 0.3), 0 1px 3px 1px rgba(60, 64, 67, 0.15);\n",
              "    fill: var(--button-hover-fill-color);\n",
              "  }\n",
              "\n",
              "  .colab-df-quickchart-complete:disabled,\n",
              "  .colab-df-quickchart-complete:disabled:hover {\n",
              "    background-color: var(--disabled-bg-color);\n",
              "    fill: var(--disabled-fill-color);\n",
              "    box-shadow: none;\n",
              "  }\n",
              "\n",
              "  .colab-df-spinner {\n",
              "    border: 2px solid var(--fill-color);\n",
              "    border-color: transparent;\n",
              "    border-bottom-color: var(--fill-color);\n",
              "    animation:\n",
              "      spin 1s steps(1) infinite;\n",
              "  }\n",
              "\n",
              "  @keyframes spin {\n",
              "    0% {\n",
              "      border-color: transparent;\n",
              "      border-bottom-color: var(--fill-color);\n",
              "      border-left-color: var(--fill-color);\n",
              "    }\n",
              "    20% {\n",
              "      border-color: transparent;\n",
              "      border-left-color: var(--fill-color);\n",
              "      border-top-color: var(--fill-color);\n",
              "    }\n",
              "    30% {\n",
              "      border-color: transparent;\n",
              "      border-left-color: var(--fill-color);\n",
              "      border-top-color: var(--fill-color);\n",
              "      border-right-color: var(--fill-color);\n",
              "    }\n",
              "    40% {\n",
              "      border-color: transparent;\n",
              "      border-right-color: var(--fill-color);\n",
              "      border-top-color: var(--fill-color);\n",
              "    }\n",
              "    60% {\n",
              "      border-color: transparent;\n",
              "      border-right-color: var(--fill-color);\n",
              "    }\n",
              "    80% {\n",
              "      border-color: transparent;\n",
              "      border-right-color: var(--fill-color);\n",
              "      border-bottom-color: var(--fill-color);\n",
              "    }\n",
              "    90% {\n",
              "      border-color: transparent;\n",
              "      border-bottom-color: var(--fill-color);\n",
              "    }\n",
              "  }\n",
              "</style>\n",
              "\n",
              "  <script>\n",
              "    async function quickchart(key) {\n",
              "      const quickchartButtonEl =\n",
              "        document.querySelector('#' + key + ' button');\n",
              "      quickchartButtonEl.disabled = true;  // To prevent multiple clicks.\n",
              "      quickchartButtonEl.classList.add('colab-df-spinner');\n",
              "      try {\n",
              "        const charts = await google.colab.kernel.invokeFunction(\n",
              "            'suggestCharts', [key], {});\n",
              "      } catch (error) {\n",
              "        console.error('Error during call to suggestCharts:', error);\n",
              "      }\n",
              "      quickchartButtonEl.classList.remove('colab-df-spinner');\n",
              "      quickchartButtonEl.classList.add('colab-df-quickchart-complete');\n",
              "    }\n",
              "    (() => {\n",
              "      let quickchartButtonEl =\n",
              "        document.querySelector('#df-aacce899-1164-4196-8dd5-be5aa2b9fcd1 button');\n",
              "      quickchartButtonEl.style.display =\n",
              "        google.colab.kernel.accessAllowed ? 'block' : 'none';\n",
              "    })();\n",
              "  </script>\n",
              "</div>\n",
              "\n",
              "    </div>\n",
              "  </div>\n"
            ],
            "application/vnd.google.colaboratory.intrinsic+json": {
              "type": "dataframe",
              "summary": "{\n  \"name\": \"df[['text', 'processed_text', 'category']]\",\n  \"rows\": 5,\n  \"fields\": [\n    {\n      \"column\": \"text\",\n      \"properties\": {\n        \"dtype\": \"string\",\n        \"num_unique_values\": 5,\n        \"samples\": [\n          \"contact is the 1997 movie i've seen the most - five times to be exact . \\nfour of those times were on the big screen , but even on a tv , it's a very impressive film . \\nthe same can't be said for films like independance day , but that's because contact is a rare example in sci-fi filmmaking where the story is treated more importantly than the special effects , and all of us know looking back that id4 didn't offer much outside of some one-time delightful eye candy . \\ncontact's wonderfully presented story deals with ellie arroway ( jodie foster ) , a radio astronomer whose preference of study involves the outdated technique of \\\" merely listening \\\" to sounds out in space . \\nher interest in the field of astronomy developed at a very young age , encouraged by her loving father , ted ( david morse ) , who let ellie use a small ham radio to pick up on frequencies and communicate with people as far away as pensacola , fl ( that was , of course , before the days of internet chat rooms ) . \\nwhile everyone else uses modern technologies to aid them in the search for extra-terrestrial intelligence ( of which the program seti is an acronym for ) , ellie prefers to pop on a pair of headphones and see what she can pick up on , keeping the youthful magic and intrigue strongly alive . \\nellie's strong scientific basis essentially makes her an atheist , a belief likely influenced by the death of her father while she was still quite young . \\nin puerto rico , she meets palmer joss ( matthew mcconaughey ) , a writer examining the effects of technology on the world's overall happiness ; a one- time seminary student who describes himself as \\\" a man of the cloth , without the cloth \\\" . \\ndespite the vast differences in opinion regarding a \\\" supreme being \\\" , ellie and palmer hit it off , and even take the time to sleep together . \\nit's a weak and hurried relationship , but director zemeckis needs it to add to the plot later on . \\nmeanwhile , dr . david drumlin ( tom skerritt ) , who has authority over seti but finds the program a frivolous waste of time and money , is ready to pull the plug on any and all seti funding . \\nthis leaves the passionate ellie searching for new sponsors , eventually finding a setup in new mexico and leaving palmer with no explanation , and only a one night stand to remember . \\nit is in this nm city where , several months later , ellie finally picks up on a strong signal from outer space , perhaps the most profound discovery in the history of science . \\nwhen the signal is closely examined , many new developments spring up , and before long , drumlin is stepping in to take over the operation he once scoffed at . \\neventually , it is concluded that information in the signal may be blueprints for a transportation device used to teleport an earthling to vega ( where the signal seems to have originated ) . \\nthe media swarms , fanatics go further off the deep end , scientists clamor for new information , politicians huddle in discussion of appropriate actions to take , and presidents are morphed into a celluloid reality ( remember when zemeckis couldn't get enough of this in forrest gump ? ) . \\nas if that weren't enough , ellie's discovery leads her to the nation's capital where she again runs into palmer . \\ncontact is based on the novel by carl sagan and deals heavily with the subject of science vs . religion . \\nthe impressive thing is how well both aspects are presented , with no signs of bias . \\narguments for both sides are intelligent , solid , and thought-provoking . \\nwhen palmer joins a selection committee to choose an ambassador to vega ( of which ellie is a leading candidate ) , personal convictions play a more important role than love interests . \\nthe question is , can a person who doesn't believe in god truly be the best representative of earth when 90% of the planet * does * believe in a higher power ? \\neven when the film wraps up , it's uncertain whether it's meant to play as an advocate for religion , science , both , or even neither , and in our modern day society where \\\" right and wrong \\\" is only opinion ( at least speaking \\\" politically correctly \\\" ) , the ambiguity is an incentive . \\ndon't get me wrong . \\nas much as it sounds like it , contact isn't merely a theology class rolled into a reel of film . \\nit's a * highly * enjoyable two and a half hours . \\ndespite its seemingly heavy issues , it's not a tedious undertaking to watch this film . \\nthe special effects are outstanding , though ( warning ! ) \\nhighly depreciated on the small screen . \\neven so , some of the subtle visual effects ( that will likely go unnoticed by many ) are even more impressive than ones more recognizable as \\\" sci-fi \\\" . \\nthe storytelling is rich and complete , and although there are moments in the film that feel quite pretentious ( and at times , even hokey ) , it's easily one of the best 1997 films , and one of the best sci-fi films i've ever seen . \\nthis is zemeckis' best since back to the future , and for those of us who actually know that forrest gump was astronomically overrated , zemeckis now has real reason to boast . \\n\",\n          \"the makers of spawn have created something almost as vacuous as this summer's other comic book adaptation , batman and robin . \\nboth films make the mistake of adapting for the screen not only the look of their graphic counterparts , but also their monosyllabic dialogue and empty-headed character motivations . \\nin panel-sized morsels , implausible plots and \\\" rambo \\\" -esque dialogue are often overshadowed by the artwork , but on thirty foot silver screens , it's much more difficult to dismiss the shallowness behind the pretty pictures . \\nspawn is ostensibly about an assassin named simmons ( white ) who is framed by a corporate baddie ( played without irony by sheen ) , then set on fire and left for dead . \\nthough the movie skimps on the next few plot points , here's what i could determine : said assassin then becomes the leader of satan's army , under the tutelage of a flatulating midget named clown ( leguizamo , grating as always ) . \\nhe is renamed , for reasons unbeknownst , spawn , and granted a really cool costume that enables him to become something of a human chameleon . \\nbut when spawn spies on a birthday party for his child , he realizes that he can't be the evil superdemon he's expected to be , and he sets about avenging his untimely death . \\ntypical of summer blockbusters , spawn is an effects-laden ninety minute rock video . \\nwhile the visions of hell are laughably crude ( think the virtual reality sequences of the lawnmower man ) , spawn's prehensile outfit and the action sequences are truly something to behold . \\nbut the storytelling is completely lacking in emotion ( spawn longs for his wife , but they don't have a single scene together before simmons' death ! ) , conflict ( who will triumph is not anybody's guess ) , and believability ( not that i expected it ) . \\nso many questions are left unanswered , and i'm sure they won't be addressed in the inevitable sequel . \\nwhile last year's the crow : city of angels suffered similar problems with its narrative ( which was lazy and somewhat incoherent ) , it had atmosphere to spare and genuine moments of hypnotic power . \\nspawn is an in-your-face , screaming banshee of a film ; these guys know how to graft a comic book onto celluloid , but they haven't the faintest idea how to make a movie . \\n\",\n          \"michael robbins' hardball is quite the cinematic achievement . \\nin about two hours , we get a glancing examination of ghetto life , a funeral with a heartfelt eulogy , speeches about never giving up , a cache of cute kids ( including a fat one with asthma ) , a hard-luck gambler who finds salvation in a good woman and a climactic \\\" big game , \\\" where the underdogs prove to have a bigger bite than anyone ever imagined . \\nall that's needed is a guy getting hit in the nuts and a food fight to have the first film solely based on cinematic clich ? s . \\ni can't wait to see the deleted scenes when it comes out on dvd . \\nobviously , hardball is a strikeout of a movie that never gets the bat anywhere near the ball . \\nit stars keanu reeves as the aforementioned gambler , who seems to owe every bookie in chicago an amount of money that rivals the gross national product of guam . \\nout of solutions , he begs his successful corporate friend ( the always welcome mike mcglone ) to lend him $5 , 000 . \\ninstead , mcglone offers reeves the chance to help him coach a youth baseball team from the projects for a nice weekly stipend . \\nreeves , who wants to keep his fingers , accepts the offer , but discovers mcglone is only too happy to let him handle the team entirely . \\nthe drowsy-voiced protagonist must teach the sassy inner city kids the baseball basics in a life of absentee parents and merciless gangs . \\nand maybe , just maybe , they'll play in the big championship game . \\none of the glorious surprises in the screenplay by john gatins ( summer catch ) , adapted from daniel coyle's non-fiction book , is that there aren't any . \\nthe movie coasts from heartfelt moment to heartfelt moment like a zombie . \\nthat wouldn't be so bad , if the characters had an ounce of subtlety or humanity to them . \\nmost of the kids' time is spent yelling at each other , talking in slang and acting surprised . \\nthere's little that's naturally amusing about them , as they all seem to know the cameras are rolling . \\nthe worst of the lot is a tough-talking younger player ( dewayne warren ) whose sole purpose , as the movie unfolds , is being an emotional pawn , a tactic so utterly despicable i can't find the right words to express myself . \\nthe adults also don't fare well . \\nreeves is impressively uninspiring as the down-on-his-luck loser . \\nthe character is poorly written , but reeves gives another charisma-free performance . \\nevery time he speaks , he sounds like he just got up from a long nap and is gradually waking up . \\nkids are supposed to rally around this guy ? \\ndiane lane , who co-stars as reeves' obligatory love interest , remains a glowing screen presence ( see my dog skip for better proof ) . \\nit's too bad that her role here consists of uttering lines like , \\\" these kids trust you , and they don't trust anyone ! \\\" \\nthen there's d . b . \\nsweeney as an evil rival coach and john hawkes as reeves' scummy betting buddy and other unoriginal characters you've seen before and hope never to see again . \\ni wanted hardball to be good . \\nrobbins' varsity blues was a funny and alternately taut tale of texas high school football that had ali larter smothered in whipped cream and jon voight sneering at everything that moved . \\ni haven't seen robbins' goofy ready to rumble in its entirety , but i am intrigued that \\\" macho man \\\" randy savage and martin landau can exist in the same movie without there being serious worldwide repercussions . \\nrobbins obviously needs to go back to his forte -- making sports movies for guys and not cutesy , cuddly pap such as hardball , which also manages to annoy and insult the audience . \\nhere's hoping that happens in the immediate future . \\n\"\n        ],\n        \"semantic_type\": \"\",\n        \"description\": \"\"\n      }\n    },\n    {\n      \"column\": \"processed_text\",\n      \"properties\": {\n        \"dtype\": \"object\",\n        \"semantic_type\": \"\",\n        \"description\": \"\"\n      }\n    },\n    {\n      \"column\": \"category\",\n      \"properties\": {\n        \"dtype\": \"category\",\n        \"num_unique_values\": 2,\n        \"samples\": [\n          \"neg\",\n          \"pos\"\n        ],\n        \"semantic_type\": \"\",\n        \"description\": \"\"\n      }\n    }\n  ]\n}"
            }
          },
          "metadata": {},
          "execution_count": 20
        }
      ]
    },
    {
      "cell_type": "markdown",
      "source": [
        "**Save the Processed Data**"
      ],
      "metadata": {
        "id": "axMBpD413WNX"
      }
    },
    {
      "cell_type": "markdown",
      "source": [
        "Save the cleaned dataset:"
      ],
      "metadata": {
        "id": "eTAelWxK3bjn"
      }
    },
    {
      "cell_type": "code",
      "source": [
        "df.to_csv('processed_nltk_reviews.csv', index=False)\n",
        "print(\"Preprocessed dataset saved as 'processed_nltk_reviews.csv'\")\n"
      ],
      "metadata": {
        "colab": {
          "base_uri": "https://localhost:8080/"
        },
        "id": "84OM-gBj2_xQ",
        "outputId": "741121b3-75ff-41d5-99bd-89dbfa445778"
      },
      "execution_count": null,
      "outputs": [
        {
          "output_type": "stream",
          "name": "stdout",
          "text": [
            "Preprocessed dataset saved as 'processed_nltk_reviews.csv'\n"
          ]
        }
      ]
    },
    {
      "cell_type": "code",
      "source": [
        "files.download('processed_nltk_reviews.csv')"
      ],
      "metadata": {
        "colab": {
          "base_uri": "https://localhost:8080/",
          "height": 17
        },
        "id": "dd9jeAEl3iFG",
        "outputId": "0e089561-3b94-4dbb-fe8c-9c7f4e58a391"
      },
      "execution_count": null,
      "outputs": [
        {
          "output_type": "display_data",
          "data": {
            "text/plain": [
              "<IPython.core.display.Javascript object>"
            ],
            "application/javascript": [
              "\n",
              "    async function download(id, filename, size) {\n",
              "      if (!google.colab.kernel.accessAllowed) {\n",
              "        return;\n",
              "      }\n",
              "      const div = document.createElement('div');\n",
              "      const label = document.createElement('label');\n",
              "      label.textContent = `Downloading \"${filename}\": `;\n",
              "      div.appendChild(label);\n",
              "      const progress = document.createElement('progress');\n",
              "      progress.max = size;\n",
              "      div.appendChild(progress);\n",
              "      document.body.appendChild(div);\n",
              "\n",
              "      const buffers = [];\n",
              "      let downloaded = 0;\n",
              "\n",
              "      const channel = await google.colab.kernel.comms.open(id);\n",
              "      // Send a message to notify the kernel that we're ready.\n",
              "      channel.send({})\n",
              "\n",
              "      for await (const message of channel.messages) {\n",
              "        // Send a message to notify the kernel that we're ready.\n",
              "        channel.send({})\n",
              "        if (message.buffers) {\n",
              "          for (const buffer of message.buffers) {\n",
              "            buffers.push(buffer);\n",
              "            downloaded += buffer.byteLength;\n",
              "            progress.value = downloaded;\n",
              "          }\n",
              "        }\n",
              "      }\n",
              "      const blob = new Blob(buffers, {type: 'application/binary'});\n",
              "      const a = document.createElement('a');\n",
              "      a.href = window.URL.createObjectURL(blob);\n",
              "      a.download = filename;\n",
              "      div.appendChild(a);\n",
              "      a.click();\n",
              "      div.remove();\n",
              "    }\n",
              "  "
            ]
          },
          "metadata": {}
        },
        {
          "output_type": "display_data",
          "data": {
            "text/plain": [
              "<IPython.core.display.Javascript object>"
            ],
            "application/javascript": [
              "download(\"download_bbcd2006-55d3-4751-ad99-61b298a6878a\", \"processed_nltk_reviews.csv\", 14998892)"
            ]
          },
          "metadata": {}
        }
      ]
    },
    {
      "cell_type": "markdown",
      "source": [
        "**Reflection and Discussion**\n",
        "\n",
        "1. What changes did you observe in the preprocessed text?\n",
        "\n",
        "The text became all lowercase, special characters were removed, and common words were filtered out. Only important words remained.\n",
        "\n",
        "2. Why is each step of preprocessing important?\n",
        "\n",
        "* Lowercasing makes words consistent.\n",
        "* Removing special characters cleans the text.\n",
        "* Stopword removal keeps only important words.\n",
        "* Tokenization breaks text into useful pieces.\n",
        "\n",
        "3. How does preprocessing improve text analysis in machine learning?\n",
        "\n",
        "* It removes noise, making patterns clearer and improving accuracy.\n",
        "\n",
        "4. How would you modify this pipeline for sentiment analysis?\n",
        "\n",
        "* Add stemming or lemmatization to group similar words.\n",
        "* Use n-grams to capture word combinations.\n",
        "* Apply TF-IDF or word embeddings for better feature extraction."
      ],
      "metadata": {
        "id": "zBO9AWwOaB16"
      }
    },
    {
      "cell_type": "code",
      "source": [],
      "metadata": {
        "id": "JTBXtm6LayUC"
      },
      "execution_count": null,
      "outputs": []
    }
  ]
}